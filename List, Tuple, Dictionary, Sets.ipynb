{
 "cells": [
  {
   "cell_type": "markdown",
   "id": "971085d1",
   "metadata": {},
   "source": [
    "# List, Tuple, Dictionary, Sets"
   ]
  },
  {
   "cell_type": "code",
   "execution_count": 1,
   "id": "e55a5079",
   "metadata": {},
   "outputs": [],
   "source": [
    "l = [1,2,3,4,5]"
   ]
  },
  {
   "cell_type": "code",
   "execution_count": 2,
   "id": "9fe7ddc2",
   "metadata": {},
   "outputs": [
    {
     "name": "stdout",
     "output_type": "stream",
     "text": [
      "[1, 2, 3, 4, 5]\n"
     ]
    }
   ],
   "source": [
    "print(l)"
   ]
  },
  {
   "cell_type": "code",
   "execution_count": 3,
   "id": "44116b21",
   "metadata": {},
   "outputs": [
    {
     "data": {
      "text/plain": [
       "[1, 2, 3, 4, 5]"
      ]
     },
     "execution_count": 3,
     "metadata": {},
     "output_type": "execute_result"
    }
   ],
   "source": [
    "l"
   ]
  },
  {
   "cell_type": "code",
   "execution_count": 4,
   "id": "5bf151d1",
   "metadata": {},
   "outputs": [
    {
     "data": {
      "text/plain": [
       "list"
      ]
     },
     "execution_count": 4,
     "metadata": {},
     "output_type": "execute_result"
    }
   ],
   "source": [
    "type(l)"
   ]
  },
  {
   "cell_type": "code",
   "execution_count": 5,
   "id": "1bb811ac",
   "metadata": {},
   "outputs": [
    {
     "data": {
      "text/plain": [
       "1"
      ]
     },
     "execution_count": 5,
     "metadata": {},
     "output_type": "execute_result"
    }
   ],
   "source": [
    "l[0]"
   ]
  },
  {
   "cell_type": "code",
   "execution_count": 6,
   "id": "47ab4413",
   "metadata": {},
   "outputs": [
    {
     "data": {
      "text/plain": [
       "3"
      ]
     },
     "execution_count": 6,
     "metadata": {},
     "output_type": "execute_result"
    }
   ],
   "source": [
    "l[2]"
   ]
  },
  {
   "cell_type": "code",
   "execution_count": 6,
   "id": "84737a91",
   "metadata": {},
   "outputs": [
    {
     "data": {
      "text/plain": [
       "5"
      ]
     },
     "execution_count": 6,
     "metadata": {},
     "output_type": "execute_result"
    }
   ],
   "source": [
    "l[-1]"
   ]
  },
  {
   "cell_type": "code",
   "execution_count": 7,
   "id": "b56a935b",
   "metadata": {},
   "outputs": [
    {
     "data": {
      "text/plain": [
       "[5, 4, 3, 2, 1]"
      ]
     },
     "execution_count": 7,
     "metadata": {},
     "output_type": "execute_result"
    }
   ],
   "source": [
    "l[::-1]"
   ]
  },
  {
   "cell_type": "code",
   "execution_count": 9,
   "id": "b085cb50",
   "metadata": {},
   "outputs": [
    {
     "data": {
      "text/plain": [
       "[1, 2, 3, 4, 5]"
      ]
     },
     "execution_count": 9,
     "metadata": {},
     "output_type": "execute_result"
    }
   ],
   "source": [
    "l"
   ]
  },
  {
   "cell_type": "code",
   "execution_count": 8,
   "id": "ac26c537",
   "metadata": {},
   "outputs": [
    {
     "data": {
      "text/plain": [
       "[1, 3]"
      ]
     },
     "execution_count": 8,
     "metadata": {},
     "output_type": "execute_result"
    }
   ],
   "source": [
    "l[0:4:2] "
   ]
  },
  {
   "cell_type": "code",
   "execution_count": 10,
   "id": "353a9ed4",
   "metadata": {},
   "outputs": [],
   "source": [
    "l1 = [4,5,6,\"hjj\",\"jij\",9+6j, 8,[4,5,6,\"hg\",\"hujh\",9]]"
   ]
  },
  {
   "cell_type": "code",
   "execution_count": 11,
   "id": "60fbe28e",
   "metadata": {},
   "outputs": [
    {
     "data": {
      "text/plain": [
       "5"
      ]
     },
     "execution_count": 11,
     "metadata": {},
     "output_type": "execute_result"
    }
   ],
   "source": [
    "l1[7][1]"
   ]
  },
  {
   "cell_type": "code",
   "execution_count": 12,
   "id": "643a3042",
   "metadata": {},
   "outputs": [
    {
     "data": {
      "text/plain": [
       "(9+6j)"
      ]
     },
     "execution_count": 12,
     "metadata": {},
     "output_type": "execute_result"
    }
   ],
   "source": [
    "c = 9+6j\n",
    "c"
   ]
  },
  {
   "cell_type": "code",
   "execution_count": 16,
   "id": "d9f05584",
   "metadata": {},
   "outputs": [
    {
     "data": {
      "text/plain": [
       "complex"
      ]
     },
     "execution_count": 16,
     "metadata": {},
     "output_type": "execute_result"
    }
   ],
   "source": [
    "type(c)"
   ]
  },
  {
   "cell_type": "code",
   "execution_count": 17,
   "id": "e88f6266",
   "metadata": {},
   "outputs": [
    {
     "data": {
      "text/plain": [
       "'jij'"
      ]
     },
     "execution_count": 17,
     "metadata": {},
     "output_type": "execute_result"
    }
   ],
   "source": [
    "l1[4]"
   ]
  },
  {
   "cell_type": "code",
   "execution_count": 23,
   "id": "fd99860d",
   "metadata": {},
   "outputs": [
    {
     "data": {
      "text/plain": [
       "'hg'"
      ]
     },
     "execution_count": 23,
     "metadata": {},
     "output_type": "execute_result"
    }
   ],
   "source": [
    "l1[7][3]"
   ]
  },
  {
   "cell_type": "code",
   "execution_count": 21,
   "id": "4b45849a",
   "metadata": {},
   "outputs": [
    {
     "data": {
      "text/plain": [
       "[4, 5, 6, 'hjj', 'jij', (9+6j), 8]"
      ]
     },
     "execution_count": 21,
     "metadata": {},
     "output_type": "execute_result"
    }
   ],
   "source": [
    "l1[0:7:1]"
   ]
  },
  {
   "cell_type": "code",
   "execution_count": 13,
   "id": "969f95bb",
   "metadata": {},
   "outputs": [],
   "source": [
    "list2 = [\"kj\",\"jk\",\"jhuj\",[4,5,6,\"jhhg\",\"nkj\"],[\"bhj\",\"hguy\",5,6,[7,8]]]"
   ]
  },
  {
   "cell_type": "code",
   "execution_count": 26,
   "id": "99c44286",
   "metadata": {},
   "outputs": [
    {
     "data": {
      "text/plain": [
       "['kj', 'jk', 'jhuj', [4, 5, 6, 'jhhg', 'nkj'], ['bhj', 'hguy', 5, 6, [7, 8]]]"
      ]
     },
     "execution_count": 26,
     "metadata": {},
     "output_type": "execute_result"
    }
   ],
   "source": [
    "list2"
   ]
  },
  {
   "cell_type": "code",
   "execution_count": 14,
   "id": "5f39a92b",
   "metadata": {},
   "outputs": [
    {
     "data": {
      "text/plain": [
       "7"
      ]
     },
     "execution_count": 14,
     "metadata": {},
     "output_type": "execute_result"
    }
   ],
   "source": [
    "list2[4][4][0]"
   ]
  },
  {
   "cell_type": "code",
   "execution_count": 35,
   "id": "86cff796",
   "metadata": {},
   "outputs": [
    {
     "data": {
      "text/plain": [
       "['bhj', 'hguy', 5, 6, [7, 8]]"
      ]
     },
     "execution_count": 35,
     "metadata": {},
     "output_type": "execute_result"
    }
   ],
   "source": [
    "list2[4]"
   ]
  },
  {
   "cell_type": "code",
   "execution_count": 36,
   "id": "dc4b5d54",
   "metadata": {},
   "outputs": [
    {
     "data": {
      "text/plain": [
       "[7, 8]"
      ]
     },
     "execution_count": 36,
     "metadata": {},
     "output_type": "execute_result"
    }
   ],
   "source": [
    "list2[4][4]"
   ]
  },
  {
   "cell_type": "code",
   "execution_count": 37,
   "id": "74bf8df6",
   "metadata": {},
   "outputs": [],
   "source": [
    "list3 = range(0,30)"
   ]
  },
  {
   "cell_type": "code",
   "execution_count": 39,
   "id": "6e949d90",
   "metadata": {},
   "outputs": [
    {
     "data": {
      "text/plain": [
       "range"
      ]
     },
     "execution_count": 39,
     "metadata": {},
     "output_type": "execute_result"
    }
   ],
   "source": [
    "type(list3)"
   ]
  },
  {
   "cell_type": "code",
   "execution_count": 40,
   "id": "28114fa3",
   "metadata": {},
   "outputs": [
    {
     "data": {
      "text/plain": [
       "[4, 5, 6, 'hjj', 'jij', (9+6j), 8, [4, 5, 6, 'hg', 'hujh', 9]]"
      ]
     },
     "execution_count": 40,
     "metadata": {},
     "output_type": "execute_result"
    }
   ],
   "source": [
    "l1"
   ]
  },
  {
   "cell_type": "code",
   "execution_count": 15,
   "id": "91019c7f",
   "metadata": {},
   "outputs": [],
   "source": [
    "l2 = [4,5,6,\"jalpa\"]"
   ]
  },
  {
   "cell_type": "code",
   "execution_count": 42,
   "id": "ca203e7c",
   "metadata": {},
   "outputs": [
    {
     "name": "stdout",
     "output_type": "stream",
     "text": [
      "[4, 5, 6, 'jalpa']\n"
     ]
    }
   ],
   "source": [
    "print(l2)"
   ]
  },
  {
   "cell_type": "code",
   "execution_count": 16,
   "id": "9b5d0b90",
   "metadata": {},
   "outputs": [
    {
     "data": {
      "text/plain": [
       "'jalpa'"
      ]
     },
     "execution_count": 16,
     "metadata": {},
     "output_type": "execute_result"
    }
   ],
   "source": [
    "l2[3]"
   ]
  },
  {
   "cell_type": "code",
   "execution_count": 17,
   "id": "7eee22ea",
   "metadata": {},
   "outputs": [],
   "source": [
    "l2[3] = \"patel\""
   ]
  },
  {
   "cell_type": "code",
   "execution_count": 18,
   "id": "256d04a9",
   "metadata": {},
   "outputs": [
    {
     "data": {
      "text/plain": [
       "[4, 5, 6, 'patel']"
      ]
     },
     "execution_count": 18,
     "metadata": {},
     "output_type": "execute_result"
    }
   ],
   "source": [
    "l2"
   ]
  },
  {
   "cell_type": "code",
   "execution_count": 46,
   "id": "7e8f3034",
   "metadata": {},
   "outputs": [],
   "source": [
    "l2[0]=9"
   ]
  },
  {
   "cell_type": "code",
   "execution_count": 47,
   "id": "6b74f7c8",
   "metadata": {},
   "outputs": [
    {
     "data": {
      "text/plain": [
       "[9, 5, 6, 'patel']"
      ]
     },
     "execution_count": 47,
     "metadata": {},
     "output_type": "execute_result"
    }
   ],
   "source": [
    "l2"
   ]
  },
  {
   "cell_type": "code",
   "execution_count": 48,
   "id": "22c1dd5f",
   "metadata": {},
   "outputs": [],
   "source": [
    "# Sets"
   ]
  },
  {
   "cell_type": "code",
   "execution_count": 19,
   "id": "a8716a32",
   "metadata": {},
   "outputs": [
    {
     "data": {
      "text/plain": [
       "{1, 2, 3, 4, 5, 9, 'gh'}"
      ]
     },
     "execution_count": 19,
     "metadata": {},
     "output_type": "execute_result"
    }
   ],
   "source": [
    "set1 = {1,2,3,4,5,9,\"gh\"}\n",
    "set1"
   ]
  },
  {
   "cell_type": "code",
   "execution_count": 20,
   "id": "47ece6ad",
   "metadata": {},
   "outputs": [
    {
     "data": {
      "text/plain": [
       "{1, 2, 3, 4, 5, 9, 'gh'}"
      ]
     },
     "execution_count": 20,
     "metadata": {},
     "output_type": "execute_result"
    }
   ],
   "source": [
    "set1"
   ]
  },
  {
   "cell_type": "code",
   "execution_count": 65,
   "id": "afe70a96",
   "metadata": {},
   "outputs": [
    {
     "ename": "TypeError",
     "evalue": "unhashable type: 'list'",
     "output_type": "error",
     "traceback": [
      "\u001b[1;31m---------------------------------------------------------------------------\u001b[0m",
      "\u001b[1;31mTypeError\u001b[0m                                 Traceback (most recent call last)",
      "\u001b[1;32m~\\AppData\\Local\\Temp/ipykernel_7708/1111247399.py\u001b[0m in \u001b[0;36m<module>\u001b[1;34m\u001b[0m\n\u001b[1;32m----> 1\u001b[1;33m \u001b[0mset2\u001b[0m \u001b[1;33m=\u001b[0m \u001b[1;33m{\u001b[0m\u001b[1;36m5\u001b[0m\u001b[1;33m,\u001b[0m\u001b[1;33m[\u001b[0m\u001b[1;36m2\u001b[0m\u001b[1;33m,\u001b[0m\u001b[1;36m3\u001b[0m\u001b[1;33m]\u001b[0m\u001b[1;33m}\u001b[0m\u001b[1;33m\u001b[0m\u001b[1;33m\u001b[0m\u001b[0m\n\u001b[0m",
      "\u001b[1;31mTypeError\u001b[0m: unhashable type: 'list'"
     ]
    }
   ],
   "source": [
    "set2 = {5,[2,3]}"
   ]
  },
  {
   "cell_type": "code",
   "execution_count": 57,
   "id": "31db5bce",
   "metadata": {},
   "outputs": [
    {
     "data": {
      "text/plain": [
       "{5, 6, 7}"
      ]
     },
     "execution_count": 57,
     "metadata": {},
     "output_type": "execute_result"
    }
   ],
   "source": [
    "set2"
   ]
  },
  {
   "cell_type": "code",
   "execution_count": 54,
   "id": "b17b25aa",
   "metadata": {},
   "outputs": [
    {
     "ename": "TypeError",
     "evalue": "'set' object does not support item assignment",
     "output_type": "error",
     "traceback": [
      "\u001b[1;31m---------------------------------------------------------------------------\u001b[0m",
      "\u001b[1;31mTypeError\u001b[0m                                 Traceback (most recent call last)",
      "\u001b[1;32m~\\AppData\\Local\\Temp/ipykernel_7708/1515116767.py\u001b[0m in \u001b[0;36m<module>\u001b[1;34m\u001b[0m\n\u001b[1;32m----> 1\u001b[1;33m \u001b[0mset2\u001b[0m\u001b[1;33m[\u001b[0m\u001b[1;36m1\u001b[0m\u001b[1;33m]\u001b[0m \u001b[1;33m=\u001b[0m \u001b[1;36m7\u001b[0m\u001b[1;33m\u001b[0m\u001b[1;33m\u001b[0m\u001b[0m\n\u001b[0m",
      "\u001b[1;31mTypeError\u001b[0m: 'set' object does not support item assignment"
     ]
    }
   ],
   "source": [
    "set2[1] = 7"
   ]
  },
  {
   "cell_type": "code",
   "execution_count": 55,
   "id": "8e8c549c",
   "metadata": {},
   "outputs": [],
   "source": [
    "# Tuple"
   ]
  },
  {
   "cell_type": "code",
   "execution_count": 21,
   "id": "d06ba039",
   "metadata": {},
   "outputs": [],
   "source": [
    " t = (2,3,4,{4,5},9,[5,6,7],\"jki\",\"jh\",{5,6,\"hj\"})"
   ]
  },
  {
   "cell_type": "code",
   "execution_count": 22,
   "id": "880491a9",
   "metadata": {},
   "outputs": [
    {
     "data": {
      "text/plain": [
       "9"
      ]
     },
     "execution_count": 22,
     "metadata": {},
     "output_type": "execute_result"
    }
   ],
   "source": [
    "len(t)"
   ]
  },
  {
   "cell_type": "code",
   "execution_count": 23,
   "id": "a5e2b32e",
   "metadata": {},
   "outputs": [],
   "source": [
    "t1 = [1,2]"
   ]
  },
  {
   "cell_type": "code",
   "execution_count": 72,
   "id": "fe8e6f75",
   "metadata": {},
   "outputs": [
    {
     "data": {
      "text/plain": [
       "2"
      ]
     },
     "execution_count": 72,
     "metadata": {},
     "output_type": "execute_result"
    }
   ],
   "source": [
    "len(t1)"
   ]
  },
  {
   "cell_type": "code",
   "execution_count": 61,
   "id": "9fe73c1c",
   "metadata": {},
   "outputs": [
    {
     "data": {
      "text/plain": [
       "{4, 5}"
      ]
     },
     "execution_count": 61,
     "metadata": {},
     "output_type": "execute_result"
    }
   ],
   "source": [
    "t[3]"
   ]
  },
  {
   "cell_type": "code",
   "execution_count": 62,
   "id": "b4d5c671",
   "metadata": {},
   "outputs": [
    {
     "ename": "TypeError",
     "evalue": "'set' object is not subscriptable",
     "output_type": "error",
     "traceback": [
      "\u001b[1;31m---------------------------------------------------------------------------\u001b[0m",
      "\u001b[1;31mTypeError\u001b[0m                                 Traceback (most recent call last)",
      "\u001b[1;32m~\\AppData\\Local\\Temp/ipykernel_7708/1243251062.py\u001b[0m in \u001b[0;36m<module>\u001b[1;34m\u001b[0m\n\u001b[1;32m----> 1\u001b[1;33m \u001b[0mt\u001b[0m\u001b[1;33m[\u001b[0m\u001b[1;36m3\u001b[0m\u001b[1;33m]\u001b[0m\u001b[1;33m[\u001b[0m\u001b[1;36m0\u001b[0m\u001b[1;33m]\u001b[0m\u001b[1;33m\u001b[0m\u001b[1;33m\u001b[0m\u001b[0m\n\u001b[0m",
      "\u001b[1;31mTypeError\u001b[0m: 'set' object is not subscriptable"
     ]
    }
   ],
   "source": [
    "t[3][0]"
   ]
  },
  {
   "cell_type": "code",
   "execution_count": 73,
   "id": "a5fb8b8f",
   "metadata": {},
   "outputs": [],
   "source": [
    "# Dictionary"
   ]
  },
  {
   "cell_type": "code",
   "execution_count": 24,
   "id": "6eb222ad",
   "metadata": {},
   "outputs": [],
   "source": [
    "dict1 = {1:\"jalpa\",\"B\":\"utkarsh\",3:\"meruf\",4:\"vivek\",\"c\":\"nilansi\"}"
   ]
  },
  {
   "cell_type": "code",
   "execution_count": 25,
   "id": "6f41a23d",
   "metadata": {},
   "outputs": [
    {
     "data": {
      "text/plain": [
       "{1: 'jalpa', 'B': 'utkarsh', 3: 'meruf', 4: 'vivek', 'c': 'nilansi'}"
      ]
     },
     "execution_count": 25,
     "metadata": {},
     "output_type": "execute_result"
    }
   ],
   "source": [
    "dict1"
   ]
  },
  {
   "cell_type": "code",
   "execution_count": 26,
   "id": "152d8645",
   "metadata": {},
   "outputs": [
    {
     "data": {
      "text/plain": [
       "'utkarsh'"
      ]
     },
     "execution_count": 26,
     "metadata": {},
     "output_type": "execute_result"
    }
   ],
   "source": [
    "dict1['B']"
   ]
  },
  {
   "cell_type": "code",
   "execution_count": 27,
   "id": "e423485b",
   "metadata": {},
   "outputs": [],
   "source": [
    "dict2 = {1:\"jalpa\",\"B\":\"utkarsh\",3:\"meruf\",4:\"vivek\",\"c\":\"nilansi\", 5:[3,4,5], 6:{\"j\",1,23},\n",
    "        7:{'j':\"hj\",'h':\"j\",1:\"y\",2:\"x\",3:[4,5]}}"
   ]
  },
  {
   "cell_type": "code",
   "execution_count": 28,
   "id": "62e29aed",
   "metadata": {},
   "outputs": [
    {
     "data": {
      "text/plain": [
       "{1: 'jalpa',\n",
       " 'B': 'utkarsh',\n",
       " 3: 'meruf',\n",
       " 4: 'vivek',\n",
       " 'c': 'nilansi',\n",
       " 5: [3, 4, 5],\n",
       " 6: {1, 23, 'j'},\n",
       " 7: {'j': 'hj', 'h': 'j', 1: 'y', 2: 'x', 3: [4, 5]}}"
      ]
     },
     "execution_count": 28,
     "metadata": {},
     "output_type": "execute_result"
    }
   ],
   "source": [
    "dict2"
   ]
  },
  {
   "cell_type": "code",
   "execution_count": 29,
   "id": "1054d830",
   "metadata": {},
   "outputs": [
    {
     "data": {
      "text/plain": [
       "3"
      ]
     },
     "execution_count": 29,
     "metadata": {},
     "output_type": "execute_result"
    }
   ],
   "source": [
    "dict2[5][0]"
   ]
  },
  {
   "cell_type": "code",
   "execution_count": 91,
   "id": "0000027a",
   "metadata": {},
   "outputs": [
    {
     "data": {
      "text/plain": [
       "'hj'"
      ]
     },
     "execution_count": 91,
     "metadata": {},
     "output_type": "execute_result"
    }
   ],
   "source": [
    "dict2[7][\"j\"]"
   ]
  },
  {
   "cell_type": "code",
   "execution_count": 92,
   "id": "a616ddc2",
   "metadata": {},
   "outputs": [
    {
     "data": {
      "text/plain": [
       "4"
      ]
     },
     "execution_count": 92,
     "metadata": {},
     "output_type": "execute_result"
    }
   ],
   "source": [
    "dict2[7][3][0]"
   ]
  },
  {
   "cell_type": "code",
   "execution_count": 30,
   "id": "29978204",
   "metadata": {},
   "outputs": [],
   "source": [
    "thisdict = {\n",
    "  \"brand\": \"Ford\",\n",
    "  \"model\": \"Mustang\",\n",
    "  \"year\": 1964\n",
    "}"
   ]
  },
  {
   "cell_type": "code",
   "execution_count": 32,
   "id": "9f9bc2ee",
   "metadata": {},
   "outputs": [],
   "source": [
    "x = {\n",
    "  \"name\": \"John\",\n",
    "  \"age\": 30,\n",
    "  \"married\": True,\n",
    "  \"divorced\": False,\n",
    "  \"children\": (\"Ann\",\"Billy\"),\n",
    "  \"pets\": None,\n",
    "  \"cars\": [\n",
    "    {\"model\": \"BMW 230\", \"mpg\": 27.5},\n",
    "    {\"model\": \"Ford Edge\", \"mpg\": 24.1}\n",
    "  ]\n",
    "}\n"
   ]
  },
  {
   "cell_type": "code",
   "execution_count": 95,
   "id": "fe795a09",
   "metadata": {},
   "outputs": [
    {
     "data": {
      "text/plain": [
       "{'name': 'John',\n",
       " 'age': 30,\n",
       " 'married': True,\n",
       " 'divorced': False,\n",
       " 'children': ('Ann', 'Billy'),\n",
       " 'pets': None,\n",
       " 'cars': [{'model': 'BMW 230', 'mpg': 27.5},\n",
       "  {'model': 'Ford Edge', 'mpg': 24.1}]}"
      ]
     },
     "execution_count": 95,
     "metadata": {},
     "output_type": "execute_result"
    }
   ],
   "source": [
    "x"
   ]
  },
  {
   "cell_type": "code",
   "execution_count": 33,
   "id": "9a8d183b",
   "metadata": {},
   "outputs": [
    {
     "data": {
      "text/plain": [
       "[{'model': 'BMW 230', 'mpg': 27.5}, {'model': 'Ford Edge', 'mpg': 24.1}]"
      ]
     },
     "execution_count": 33,
     "metadata": {},
     "output_type": "execute_result"
    }
   ],
   "source": [
    "x[\"cars\"]"
   ]
  },
  {
   "cell_type": "code",
   "execution_count": 34,
   "id": "b22db175",
   "metadata": {},
   "outputs": [
    {
     "data": {
      "text/plain": [
       "{'model': 'BMW 230', 'mpg': 27.5}"
      ]
     },
     "execution_count": 34,
     "metadata": {},
     "output_type": "execute_result"
    }
   ],
   "source": [
    "x[\"cars\"][0]"
   ]
  },
  {
   "cell_type": "code",
   "execution_count": 35,
   "id": "0ccab6ac",
   "metadata": {},
   "outputs": [
    {
     "data": {
      "text/plain": [
       "24.1"
      ]
     },
     "execution_count": 35,
     "metadata": {},
     "output_type": "execute_result"
    }
   ],
   "source": [
    "x[\"cars\"][1][\"mpg\"]"
   ]
  },
  {
   "cell_type": "code",
   "execution_count": null,
   "id": "e162e8a0",
   "metadata": {},
   "outputs": [],
   "source": []
  }
 ],
 "metadata": {
  "kernelspec": {
   "display_name": "Python 3 (ipykernel)",
   "language": "python",
   "name": "python3"
  },
  "language_info": {
   "codemirror_mode": {
    "name": "ipython",
    "version": 3
   },
   "file_extension": ".py",
   "mimetype": "text/x-python",
   "name": "python",
   "nbconvert_exporter": "python",
   "pygments_lexer": "ipython3",
   "version": "3.9.7"
  }
 },
 "nbformat": 4,
 "nbformat_minor": 5
}
