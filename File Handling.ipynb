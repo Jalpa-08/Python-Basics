{
 "cells": [
  {
   "cell_type": "code",
   "execution_count": 1,
   "metadata": {},
   "outputs": [
    {
     "name": "stdout",
     "output_type": "stream",
     "text": [
      " Volume in drive C is Windows\n",
      " Volume Serial Number is FC42-E37E\n",
      "\n",
      " Directory of C:\\Users\\vaibh\\Jalpa Desai\n",
      "\n",
      "01-10-2022  15:46    <DIR>          .\n",
      "27-09-2022  17:41    <DIR>          ..\n",
      "01-10-2022  14:36    <DIR>          .ipynb_checkpoints\n",
      "01-10-2022  12:21           314,300 4- Pandas tutorial.ipynb\n",
      "29-09-2022  14:48    <DIR>          Data Visualization\n",
      "29-09-2022  09:44            16,731 Date Time_Time Delta_Module .ipynb\n",
      "25-09-2022  10:23    <DIR>          EDA\n",
      "25-09-2022  10:59            24,741 file sysetm.ipynb\n",
      "27-09-2022  16:39            34,255 File_Handling.ipynb\n",
      "27-09-2022  14:09               273 files.zip\n",
      "30-09-2022  16:17            10,174 for loop while loop(2).ipynb\n",
      "29-09-2022  17:24            21,607 For Loop(2).ipynb\n",
      "08-09-2022  09:57            12,161 For Loop.ipynb\n",
      "28-09-2022  14:59            28,884 for loops while loop(1).ipynb\n",
      "01-10-2022  16:36    <DIR>          Functions\n",
      "27-09-2022  16:37             3,077 google_1.txt\n",
      "27-09-2022  16:00            11,155 If Else.ipynb\n",
      "12-09-2022  13:45            41,235 Inheritance .ipynb\n",
      "27-09-2022  11:57        21,693,278 iterator generator.ipynb\n",
      "01-10-2022  15:46            22,305 List, Tuple, Dictionary, Sets.ipynb\n",
      "17-09-2022  14:54            10,129 loc_iloc.ipynb\n",
      "13-09-2022  15:32    <DIR>          Machine Learning\n",
      "27-09-2022  16:32                39 newfile.txt\n",
      "01-10-2022  10:45    <DIR>          OOPS\n",
      "30-09-2022  14:46            14,349 OS Module.ipynb\n",
      "27-09-2022  14:16    <DIR>          Pro-Kabaddi-Data-Analysis-master\n",
      "01-10-2022  15:26            13,775 PYTHON INTRO.ipynb\n",
      "25-09-2022  10:57                23 readme.csv\n",
      "25-09-2022  10:55                36 readme.txt\n",
      "26-09-2022  11:44            14,801 Regular Expressions .ipynb\n",
      "28-09-2022  11:40             7,485 Shallow Copy Vs deep copy.ipynb\n",
      "24-09-2022  17:32    <DIR>          SQL\n",
      "26-09-2022  17:06    <DIR>          Statistics\n",
      "29-09-2022  14:01            15,861 Statistics_Basics.ipynb\n",
      "27-09-2022  16:29               226 test5.txt\n",
      "27-09-2022  16:30                50 test6.txt\n",
      "30-09-2022  14:18    <DIR>          THIS\n",
      "11-09-2022  12:04            19,164 Try and Exception Handling.ipynb\n",
      "29-09-2022  17:04            40,632 Untitled.ipynb\n",
      "21-09-2022  17:12             8,120 Untitled1.ipynb\n",
      "25-09-2022  12:46            13,685 Untitled2.ipynb\n",
      "25-09-2022  13:53             5,087 Untitled3.ipynb\n",
      "27-09-2022  15:13            10,069 Untitled4.ipynb\n",
      "28-09-2022  15:45            14,668 Untitled5.ipynb\n",
      "28-09-2022  17:31            23,370 Untitled6.ipynb\n",
      "29-09-2022  13:45               589 Untitled7.ipynb\n",
      "28-09-2022  12:10             2,526 Zip file _Unzip file.ipynb\n",
      "              35 File(s)     22,448,860 bytes\n",
      "              12 Dir(s)  192,045,723,648 bytes free\n"
     ]
    }
   ],
   "source": [
    "%ls"
   ]
  },
  {
   "cell_type": "code",
   "execution_count": 4,
   "metadata": {},
   "outputs": [
    {
     "data": {
      "text/plain": [
       "'readme.txt'"
      ]
     },
     "execution_count": 4,
     "metadata": {},
     "output_type": "execute_result"
    }
   ],
   "source": [
    "f = open('readme.txt' , \"r+\")\n",
    "f.name"
   ]
  },
  {
   "cell_type": "code",
   "execution_count": 9,
   "metadata": {},
   "outputs": [],
   "source": [
    "with open('readme.txt', 'w') as f:\n",
    "    f.write('Create a new text file!')"
   ]
  },
  {
   "cell_type": "code",
   "execution_count": 10,
   "metadata": {},
   "outputs": [],
   "source": [
    "with open('readme.txt', 'w') as f:\n",
    "    f.write('i can write lines at current cursor ')"
   ]
  },
  {
   "cell_type": "code",
   "execution_count": 19,
   "metadata": {},
   "outputs": [
    {
     "name": "stdout",
     "output_type": "stream",
     "text": [
      "The 'docs' directory does not exist\n"
     ]
    }
   ],
   "source": [
    "try:\n",
    "    with open('docs/readme1.txti', 'r') as f:\n",
    "        f.write('Create a new text file!')\n",
    "except FileNotFoundError:\n",
    "    print(\"The 'docs' directory does not exist\")"
   ]
  },
  {
   "cell_type": "code",
   "execution_count": 14,
   "metadata": {},
   "outputs": [],
   "source": [
    "f.close()"
   ]
  },
  {
   "cell_type": "code",
   "execution_count": 15,
   "metadata": {},
   "outputs": [],
   "source": [
    "with open('readme.csv', 'w') as f:\n",
    "    f.write('Create a new text file!')"
   ]
  },
  {
   "cell_type": "code",
   "execution_count": 16,
   "metadata": {},
   "outputs": [
    {
     "name": "stdout",
     "output_type": "stream",
     "text": [
      " Volume in drive C is Windows\n",
      " Volume Serial Number is FC42-E37E\n",
      "\n",
      " Directory of C:\\Users\\vaibh\\Jalpa Desai\n",
      "\n",
      "25-09-2022  10:57    <DIR>          .\n",
      "22-09-2022  09:47    <DIR>          ..\n",
      "21-09-2022  16:40    <DIR>          .ipynb_checkpoints\n",
      "12-09-2022  13:23    <DIR>          Data Visualization\n",
      "24-09-2022  12:40            16,563 Date Time_Time Delta_Module .ipynb\n",
      "25-09-2022  10:23    <DIR>          EDA\n",
      "25-09-2022  10:57            23,632 file sysetm.ipynb\n",
      "12-09-2022  13:43             9,876 for loop while loop(2).ipynb\n",
      "12-09-2022  13:43            20,111 For Loop(2).ipynb\n",
      "08-09-2022  09:57            12,161 For Loop.ipynb\n",
      "12-09-2022  13:43            28,320 for loops while loop(1).ipynb\n",
      "22-09-2022  09:46    <DIR>          Functions\n",
      "22-09-2022  15:37            10,600 If Else.ipynb\n",
      "12-09-2022  13:45            41,235 Inheritance .ipynb\n",
      "12-09-2022  13:43        21,693,242 iterator generator.ipynb\n",
      "11-09-2022  11:37            21,076 List, Tuple, Dictionary, Sets.ipynb\n",
      "17-09-2022  14:54            10,129 loc_iloc.ipynb\n",
      "13-09-2022  15:32    <DIR>          Machine Learning\n",
      "24-09-2022  12:08    <DIR>          OOPS\n",
      "25-09-2022  10:57                23 readme.csv\n",
      "25-09-2022  10:55                36 readme.txt\n",
      "25-09-2022  10:48            13,287 Regular Expressions .ipynb\n",
      "24-09-2022  17:32    <DIR>          SQL\n",
      "11-09-2022  12:04            19,164 Try and Exception Handling.ipynb\n",
      "22-09-2022  16:04            26,845 Untitled.ipynb\n",
      "21-09-2022  17:12             8,120 Untitled1.ipynb\n",
      "              17 File(s)     21,954,420 bytes\n",
      "               9 Dir(s)  196,661,297,152 bytes free\n"
     ]
    }
   ],
   "source": [
    "ls"
   ]
  },
  {
   "cell_type": "code",
   "execution_count": 17,
   "metadata": {},
   "outputs": [],
   "source": [
    "l = [\"this is my line one \" , \"this is my line 2\" , \" this is my line 3 \" , \"this is my line 4\"]"
   ]
  },
  {
   "cell_type": "code",
   "execution_count": 18,
   "metadata": {},
   "outputs": [
    {
     "ename": "ValueError",
     "evalue": "I/O operation on closed file.",
     "output_type": "error",
     "traceback": [
      "\u001b[1;31m---------------------------------------------------------------------------\u001b[0m",
      "\u001b[1;31mValueError\u001b[0m                                Traceback (most recent call last)",
      "Input \u001b[1;32mIn [18]\u001b[0m, in \u001b[0;36m<cell line: 1>\u001b[1;34m()\u001b[0m\n\u001b[1;32m----> 1\u001b[0m \u001b[43mf\u001b[49m\u001b[38;5;241;43m.\u001b[39;49m\u001b[43mwrite\u001b[49m\u001b[43m(\u001b[49m\u001b[38;5;124;43m\"\u001b[39;49m\u001b[38;5;124;43m i can write lines at current cursor \u001b[39;49m\u001b[38;5;124;43m\"\u001b[39;49m\u001b[43m)\u001b[49m\n",
      "\u001b[1;31mValueError\u001b[0m: I/O operation on closed file."
     ]
    }
   ],
   "source": [
    "f.write(\" i can write lines at current cursor \")"
   ]
  },
  {
   "cell_type": "code",
   "execution_count": 9,
   "metadata": {},
   "outputs": [
    {
     "ename": "ValueError",
     "evalue": "I/O operation on closed file.",
     "output_type": "error",
     "traceback": [
      "\u001b[1;31m---------------------------------------------------------------------------\u001b[0m",
      "\u001b[1;31mValueError\u001b[0m                                Traceback (most recent call last)",
      "Input \u001b[1;32mIn [9]\u001b[0m, in \u001b[0;36m<cell line: 1>\u001b[1;34m()\u001b[0m\n\u001b[1;32m----> 1\u001b[0m \u001b[43mf\u001b[49m\u001b[38;5;241;43m.\u001b[39;49m\u001b[43mwritelines\u001b[49m\u001b[43m(\u001b[49m\u001b[43ml\u001b[49m\u001b[43m)\u001b[49m\n",
      "\u001b[1;31mValueError\u001b[0m: I/O operation on closed file."
     ]
    }
   ],
   "source": [
    "f.writelines(l)"
   ]
  },
  {
   "cell_type": "code",
   "execution_count": 10,
   "metadata": {},
   "outputs": [],
   "source": [
    "f.close()"
   ]
  },
  {
   "cell_type": "code",
   "execution_count": 34,
   "metadata": {},
   "outputs": [],
   "source": [
    "f.flush()"
   ]
  },
  {
   "cell_type": "code",
   "execution_count": 17,
   "metadata": {},
   "outputs": [],
   "source": [
    "f1 = open(\"readme.txt\", 'w')"
   ]
  },
  {
   "cell_type": "code",
   "execution_count": 18,
   "metadata": {},
   "outputs": [
    {
     "data": {
      "text/plain": [
       "37"
      ]
     },
     "execution_count": 18,
     "metadata": {},
     "output_type": "execute_result"
    }
   ],
   "source": [
    "f1.write(\" i can write lines at current cursor \")"
   ]
  },
  {
   "cell_type": "code",
   "execution_count": 11,
   "metadata": {},
   "outputs": [
    {
     "ename": "FileNotFoundError",
     "evalue": "[Errno 2] No such file or directory: 'test1.txt'",
     "output_type": "error",
     "traceback": [
      "\u001b[1;31m---------------------------------------------------------------------------\u001b[0m",
      "\u001b[1;31mFileNotFoundError\u001b[0m                         Traceback (most recent call last)",
      "Input \u001b[1;32mIn [11]\u001b[0m, in \u001b[0;36m<cell line: 1>\u001b[1;34m()\u001b[0m\n\u001b[1;32m----> 1\u001b[0m f \u001b[38;5;241m=\u001b[39m \u001b[38;5;28;43mopen\u001b[39;49m\u001b[43m(\u001b[49m\u001b[38;5;124;43m'\u001b[39;49m\u001b[38;5;124;43mtest1.txt\u001b[39;49m\u001b[38;5;124;43m'\u001b[39;49m\u001b[43m \u001b[49m\u001b[43m,\u001b[49m\u001b[43m \u001b[49m\u001b[38;5;124;43m\"\u001b[39;49m\u001b[38;5;124;43mr+\u001b[39;49m\u001b[38;5;124;43m\"\u001b[39;49m\u001b[43m)\u001b[49m\n\u001b[0;32m      2\u001b[0m f\u001b[38;5;241m.\u001b[39mname\n",
      "\u001b[1;31mFileNotFoundError\u001b[0m: [Errno 2] No such file or directory: 'test1.txt'"
     ]
    }
   ],
   "source": [
    "f = open('test1.txt' , \"r+\")\n",
    "f.name"
   ]
  },
  {
   "cell_type": "code",
   "execution_count": 15,
   "metadata": {},
   "outputs": [
    {
     "ename": "FileNotFoundError",
     "evalue": "[Errno 2] No such file or directory: 'google.txt'",
     "output_type": "error",
     "traceback": [
      "\u001b[1;31m---------------------------------------------------------------------------\u001b[0m",
      "\u001b[1;31mFileNotFoundError\u001b[0m                         Traceback (most recent call last)",
      "Input \u001b[1;32mIn [15]\u001b[0m, in \u001b[0;36m<cell line: 1>\u001b[1;34m()\u001b[0m\n\u001b[1;32m----> 1\u001b[0m f \u001b[38;5;241m=\u001b[39m \u001b[38;5;28;43mopen\u001b[39;49m\u001b[43m(\u001b[49m\u001b[38;5;124;43m\"\u001b[39;49m\u001b[38;5;124;43mgoogle.txt\u001b[39;49m\u001b[38;5;124;43m\"\u001b[39;49m\u001b[43m \u001b[49m\u001b[43m,\u001b[49m\u001b[43m \u001b[49m\u001b[38;5;124;43m\"\u001b[39;49m\u001b[38;5;124;43mr+\u001b[39;49m\u001b[38;5;124;43m\"\u001b[39;49m\u001b[43m)\u001b[49m\n\u001b[0;32m      2\u001b[0m f\u001b[38;5;241m.\u001b[39mfileno()\n",
      "\u001b[1;31mFileNotFoundError\u001b[0m: [Errno 2] No such file or directory: 'google.txt'"
     ]
    }
   ],
   "source": [
    "\n",
    "f = open(\"google.txt\" , \"r+\")\n",
    "f.fileno()"
   ]
  },
  {
   "cell_type": "code",
   "execution_count": 11,
   "metadata": {},
   "outputs": [],
   "source": [
    "f.close()"
   ]
  },
  {
   "cell_type": "code",
   "execution_count": 8,
   "metadata": {},
   "outputs": [
    {
     "name": "stdout",
     "output_type": "stream",
     "text": [
      " Volume in drive C has no label.\n",
      " Volume Serial Number is FA55-E833\n",
      "\n",
      " Directory of C:\\Users\\win10\\jupyter\\Complete Python Module-20210227T092441Z-001\\Complete Python Module\\8.Iterators Generators\n",
      "\n",
      "01/09/2022  12:51 PM    <DIR>          .\n",
      "01/09/2022  12:51 PM    <DIR>          ..\n",
      "01/09/2022  12:51 PM    <DIR>          .ipynb_checkpoints\n",
      "07/07/2021  08:02 PM            16,152 8.Iterators and Generators.ipynb\n",
      "01/09/2022  12:49 PM             3,218 File op.ipynb\n",
      "01/09/2022  12:48 PM             3,036 google.txt\n",
      "12/19/2021  03:18 PM            48,388 if else , for loop.ipynb\n",
      "04/11/2021  06:07 AM    <DIR>          imgs\n",
      "01/09/2022  12:16 PM               372 test.txt\n",
      "01/09/2022  12:51 PM               228 test1.txt\n",
      "01/09/2022  12:01 PM                50 test2.txt\n",
      "01/09/2022  12:39 PM        21,685,761 Untitled.ipynb\n",
      "01/09/2022  12:51 PM                72 Untitled1.ipynb\n",
      "               9 File(s)     21,757,277 bytes\n",
      "               4 Dir(s)  471,108,497,408 bytes free\n"
     ]
    }
   ],
   "source": [
    "%ls"
   ]
  },
  {
   "cell_type": "code",
   "execution_count": 10,
   "metadata": {},
   "outputs": [],
   "source": [
    "import os"
   ]
  },
  {
   "cell_type": "code",
   "execution_count": 11,
   "metadata": {},
   "outputs": [],
   "source": [
    "os.remove(\"google.txt\")"
   ]
  },
  {
   "cell_type": "code",
   "execution_count": 12,
   "metadata": {},
   "outputs": [
    {
     "name": "stdout",
     "output_type": "stream",
     "text": [
      " Volume in drive C has no label.\n",
      " Volume Serial Number is 7C11-6D95\n",
      "\n",
      " Directory of C:\\Users\\bitsj\\Jalpa_Desai\n",
      "\n",
      "09/10/2022  12:59 PM    <DIR>          .\n",
      "09/10/2022  11:01 AM    <DIR>          ..\n",
      "09/06/2022  05:37 PM    <DIR>          .ipynb_checkpoints\n",
      "08/24/2022  12:20 PM           125,490 07 Functions_Revision.ipynb\n",
      "09/06/2022  01:10 PM         1,743,235 Data Visualization_Matplotlib_Plotly.ipynb\n",
      "09/06/2022  12:57 PM         1,103,673 Data Visualization_Plotly.ipynb\n",
      "09/10/2022  12:48 PM    <DIR>          EDA\n",
      "09/10/2022  12:52 PM    <DIR>          File Handing\n",
      "09/10/2022  12:58 PM            17,234 file sysetm.ipynb\n",
      "09/01/2022  02:40 PM             9,876 for loop while loop.ipynb\n",
      "09/08/2022  03:34 PM            20,111 For Loop.ipynb\n",
      "08/30/2022  02:54 PM            28,320 for loops while loop.ipynb\n",
      "09/10/2022  11:07 AM            65,624 Function awrg_kwarg & Lambda Function.ipynb\n",
      "09/01/2022  04:04 PM            32,351 Function awrg_kwarg and Lambda function.ipynb\n",
      "09/03/2022  11:38 AM            10,859 Function.ipynb\n",
      "09/06/2022  05:26 PM            50,191 if else , for loop.ipynb\n",
      "08/27/2022  11:47 AM            10,599 If else_BIT.ipynb\n",
      "09/04/2022  12:35 PM        21,693,242 iterator generator.ipynb\n",
      "08/28/2022  01:38 PM            21,076 List, Tuple, Dictionary, Sets_bit.ipynb\n",
      "09/03/2022  10:26 AM    <DIR>          Machine Learning Algoritham\n",
      "08/22/2022  01:01 PM           266,121 numpy.ipynb\n",
      "08/30/2022  01:53 PM            22,205 One Hot Encoding.ipynb\n",
      "09/08/2022  12:14 PM    <DIR>          OOPS Concept\n",
      "08/20/2022  01:19 PM            46,860 Pandas with HTML.ipynb\n",
      "09/04/2022  01:50 PM            61,752 Pandas1.ipynb\n",
      "08/31/2022  11:40 AM            49,815 practice problem python basic for while.ipynb\n",
      "08/29/2022  03:29 PM            38,494 Python Basics .ipynb\n",
      "08/18/2022  12:45 PM            26,719 Python basics with pandas_visuallisation .ipynb\n",
      "08/23/2022  03:26 PM            17,703 Python basics.ipynb\n",
      "08/23/2022  02:50 PM            69,102 Python Basics_22.8.22.ipynb\n",
      "08/18/2022  01:59 PM             3,033 Scipy.ipynb\n",
      "08/17/2022  02:13 PM           505,127 seaborn.ipynb\n",
      "08/18/2022  03:00 PM         3,218,407 test.csv\n",
      "09/10/2022  12:57 PM               110 test1.txt\n",
      "08/29/2022  11:40 AM                50 test2.txt\n",
      "08/29/2022  11:44 AM                50 test3.txt\n",
      "08/29/2022  11:46 AM                 0 test4.txt\n",
      "08/29/2022  11:44 AM                50 test6.txt\n",
      "08/24/2022  11:55 AM            64,265 Tuples , set , dict .ipynb\n",
      "08/23/2022  11:21 AM             3,554 Untitled.ipynb\n",
      "08/23/2022  02:32 PM                72 Untitled1.ipynb\n",
      "09/01/2022  02:26 PM             1,282 Untitled2.ipynb\n",
      "08/28/2022  12:04 PM             4,347 Untitled3.ipynb\n",
      "08/29/2022  03:07 PM             1,709 Untitled4.ipynb\n",
      "08/31/2022  11:51 AM             4,022 Untitled5.ipynb\n",
      "09/01/2022  04:04 PM                72 Untitled6.ipynb\n",
      "              39 File(s)     29,336,802 bytes\n",
      "               7 Dir(s)  316,831,952,896 bytes free\n"
     ]
    }
   ],
   "source": [
    "%ls"
   ]
  },
  {
   "cell_type": "code",
   "execution_count": 14,
   "metadata": {},
   "outputs": [
    {
     "data": {
      "text/plain": [
       "'C:\\\\Users\\\\bitsj\\\\Jalpa_Desai'"
      ]
     },
     "execution_count": 14,
     "metadata": {},
     "output_type": "execute_result"
    }
   ],
   "source": [
    "os.getcwd()"
   ]
  },
  {
   "cell_type": "code",
   "execution_count": 13,
   "metadata": {},
   "outputs": [
    {
     "data": {
      "text/plain": [
       "'C:\\\\Users\\\\bitsj\\\\Jalpa_Desai'"
      ]
     },
     "execution_count": 13,
     "metadata": {},
     "output_type": "execute_result"
    }
   ],
   "source": [
    "pwd()"
   ]
  },
  {
   "cell_type": "code",
   "execution_count": 18,
   "metadata": {},
   "outputs": [
    {
     "data": {
      "text/plain": [
       "['.ipynb_checkpoints',\n",
       " '1584210047017.docx',\n",
       " '1584210047017.pdf',\n",
       " '22nd Aug Assignment.ipynb',\n",
       " 'ALBERT-20210531T131400Z-001',\n",
       " 'ALBERT-20210531T131400Z-001.zip',\n",
       " 'Anamoly-20210801T140417Z-001',\n",
       " 'Anamoly-20210801T140417Z-001.zip',\n",
       " 'Anamoly-20210801T140418Z-001.zip',\n",
       " 'apache-cassandra-3.11.10-bin',\n",
       " 'apache-cassandra-3.11.10-bin (1).tar',\n",
       " 'apache-cassandra-3.11.10-bin (1).tar.gz',\n",
       " 'Assignment xyz.ipynb',\n",
       " 'BERT-20210531T131352Z-001',\n",
       " 'BERT-20210531T131352Z-001.zip',\n",
       " 'books.csv',\n",
       " 'captchas',\n",
       " 'CarbonUpdatedFile.csv',\n",
       " 'carbon_nanotubes.csv',\n",
       " 'Casandra Streaming.ipynb',\n",
       " 'Cassandra Streming.ipynb',\n",
       " 'Chapter10. ENCODER_DECODER___SEQ2SEQ',\n",
       " 'Chapter7. WORD2VEC_CBOW_SKIPGRAM-20210411T005219Z-001',\n",
       " 'Chapter7. WORD2VEC_CBOW_SKIPGRAM-20210411T005219Z-001.zip',\n",
       " 'Chapter7. WORD2VEC_CBOW_SKIPGRAM-20210417T044431Z-001.zip',\n",
       " 'clustering-20210710T141724Z-001',\n",
       " 'Codes-identification-agences-bancaires-FR-4 (9).pdf',\n",
       " 'Complete Python Module-20210227T092441Z-001',\n",
       " 'DistilBERT-20210531T131340Z-001',\n",
       " 'DistilBERT-20210531T131340Z-001.zip',\n",
       " 'DistilBERT-20210531T131712Z-001.zip',\n",
       " 'DL_Recurrent_Neural_Network 2',\n",
       " 'DL_Recurrent_Neural_Network 2.7z',\n",
       " 'EDA_First_Two',\n",
       " 'final.csv',\n",
       " 'final_internship_list.csv',\n",
       " 'Final_list.csv',\n",
       " 'final_winnner.csv',\n",
       " 'Function and files (1).ipynb',\n",
       " 'Function in pyton  (1) (1).ipynb',\n",
       " 'gift.csv',\n",
       " 'gpt2-20210531T131332Z-001',\n",
       " 'gpt2-20210531T131332Z-001.zip',\n",
       " 'gpt2-20210531T131332Z-002.zip',\n",
       " 'html_data0.csv',\n",
       " 'html_data1.csv',\n",
       " 'html_data2.csv',\n",
       " 'html_data3.csv',\n",
       " 'html_data4.csv',\n",
       " 'html_data5.csv',\n",
       " 'iNeuron July month update (Responses).xlsx',\n",
       " 'INeuron Projects-20210531T132536Z-001.zip',\n",
       " 'iNeuron_july_salary (1).xlsx',\n",
       " 'iNeuron_july_salary.xlsx',\n",
       " 'internship mail id.xlsx',\n",
       " 'Interview questions.ipynb',\n",
       " 'json_dump.csv',\n",
       " 'LinearRegression-master',\n",
       " 'LinearRegression-master (1) (4)',\n",
       " 'LinearRegression-master (1) (4).zip',\n",
       " 'locations.csv',\n",
       " 'ML masters',\n",
       " 'model_all_architecture_ocr.h5',\n",
       " 'model_ocr.json',\n",
       " 'model_weights_ocr.h5',\n",
       " 'mysql assignment .ipynb',\n",
       " 'my_pickle',\n",
       " 'numpy.ipynb',\n",
       " 'ocr model',\n",
       " 'ocr model.7z',\n",
       " 'OCR Poc.ipynb',\n",
       " 'pandas 3 .ipynb',\n",
       " 'pandas and basic function.ipynb',\n",
       " 'pandas data manipulations  2.ipynb',\n",
       " 'Pandas session 1.ipynb',\n",
       " 'PCA (4)',\n",
       " 'players_data.csv',\n",
       " 'plotly .ipynb',\n",
       " 'python basic 1.ipynb',\n",
       " 'python question discussion .ipynb',\n",
       " 'Python-20210417T030818Z-001',\n",
       " 'Rakhi Gift to my sister lastest.xlsx',\n",
       " 'rakhi_gift.xlsx',\n",
       " 'rakhi_new_list.xlsx',\n",
       " 'readpdf.pdf',\n",
       " 'Reinforcement learning-20210117T063045Z-001',\n",
       " 'Reinforcement learning-20210117T063045Z-001.7z',\n",
       " 'Reinforcement learning-20210117T063045Z-001.zip',\n",
       " 'result.csv',\n",
       " 'result1.csv',\n",
       " 'result2.csv',\n",
       " 'result3.csv',\n",
       " 'review scrapper .ipynb',\n",
       " 'RNN & LSTMS and going Deeper-20210411T004412Z-001',\n",
       " 'RNN & LSTMS and going Deeper-20210411T004412Z-001.zip',\n",
       " 'RNN & LSTMS and going Deeper-20210516T010306Z-001',\n",
       " 'rnnlstm (1) (1)',\n",
       " 'RoBERTa_Implementation-20210531T131627Z-001.zip',\n",
       " 'rozerpay',\n",
       " 'sample.parquet',\n",
       " 'Sample_Data_Work-20210531T132923Z-001.zip',\n",
       " 'saurav',\n",
       " 'secure-connect-ineuron.zip',\n",
       " 'sepr_salary.csv',\n",
       " 'Sept_iNeuron_salary.xlsx',\n",
       " 'sept_salary_ineuron.xlsx',\n",
       " 'swagger',\n",
       " 'test.csv',\n",
       " 'test.h5',\n",
       " 'Time series sunspot (1) (2)',\n",
       " 'Time series sunspot (1) (2).7z',\n",
       " 'timeSeries (6)',\n",
       " 'timeSeries (6).zip',\n",
       " 'timeSeries (7)',\n",
       " 'timeSeries (7).zip',\n",
       " 'Tuple , set and dict.ipynb',\n",
       " 'Untitled.ipynb',\n",
       " 'Untitled1.ipynb',\n",
       " 'Untitled10.ipynb',\n",
       " 'Untitled11.ipynb',\n",
       " 'Untitled12.ipynb',\n",
       " 'Untitled13.ipynb',\n",
       " 'Untitled14.ipynb',\n",
       " 'Untitled15.ipynb',\n",
       " 'Untitled16.ipynb',\n",
       " 'Untitled17.ipynb',\n",
       " 'Untitled18.ipynb',\n",
       " 'Untitled19.ipynb',\n",
       " 'Untitled2.ipynb',\n",
       " 'Untitled20.ipynb',\n",
       " 'Untitled21.ipynb',\n",
       " 'Untitled22.ipynb',\n",
       " 'Untitled23.ipynb',\n",
       " 'Untitled24.ipynb',\n",
       " 'Untitled25.ipynb',\n",
       " 'Untitled26.ipynb',\n",
       " 'Untitled27.ipynb',\n",
       " 'Untitled28.ipynb',\n",
       " 'Untitled29.ipynb',\n",
       " 'Untitled3.ipynb',\n",
       " 'Untitled30.ipynb',\n",
       " 'Untitled39.ipynb',\n",
       " 'Untitled4.ipynb',\n",
       " 'Untitled40.ipynb',\n",
       " 'Untitled41.ipynb',\n",
       " 'Untitled5.ipynb',\n",
       " 'Untitled6.ipynb',\n",
       " 'Untitled7.ipynb',\n",
       " 'Untitled8.ipynb',\n",
       " 'Untitled9.ipynb',\n",
       " 'updateddocs-20210516T010855Z-001',\n",
       " 'word embedding']"
      ]
     },
     "execution_count": 18,
     "metadata": {},
     "output_type": "execute_result"
    }
   ],
   "source": [
    "os.listdir(\"C:\\\\Users\\\\win10\\\\jupyter\")"
   ]
  },
  {
   "cell_type": "code",
   "execution_count": 19,
   "metadata": {},
   "outputs": [
    {
     "data": {
      "text/plain": [
       "'C:\\\\Users\\\\win10\\\\jupyter\\\\Complete Python Module-20210227T092441Z-001\\\\Complete Python Module\\\\8.Iterators Generators'"
      ]
     },
     "execution_count": 19,
     "metadata": {},
     "output_type": "execute_result"
    }
   ],
   "source": [
    "os.getcwd()"
   ]
  },
  {
   "cell_type": "code",
   "execution_count": null,
   "metadata": {},
   "outputs": [],
   "source": []
  }
 ],
 "metadata": {
  "kernelspec": {
   "display_name": "Python 3 (ipykernel)",
   "language": "python",
   "name": "python3"
  },
  "language_info": {
   "codemirror_mode": {
    "name": "ipython",
    "version": 3
   },
   "file_extension": ".py",
   "mimetype": "text/x-python",
   "name": "python",
   "nbconvert_exporter": "python",
   "pygments_lexer": "ipython3",
   "version": "3.9.12"
  }
 },
 "nbformat": 4,
 "nbformat_minor": 4
}
