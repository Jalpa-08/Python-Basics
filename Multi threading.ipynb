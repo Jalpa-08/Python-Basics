{
 "cells": [
  {
   "cell_type": "code",
   "execution_count": 1,
   "id": "68132f24",
   "metadata": {},
   "outputs": [],
   "source": [
    "Application of multi threding\n",
    "##  Multimedia Graphic\n",
    "## Animations\n",
    "## Video Games\n",
    "## Web Servers\n",
    "## Application Servers"
   ]
  },
  {
   "cell_type": "raw",
   "id": "c16b39be",
   "metadata": {},
   "source": [
    "Banking application  [Multi Thread]"
   ]
  },
  {
   "cell_type": "raw",
   "id": "0cc4e600",
   "metadata": {},
   "source": [
    "## Creating a Thread (Thread is a class)\n",
    "Thread class of threading module is used t create threads. \n",
    "To create our own thread we need to create an object of Thread Class\n",
    "** Following are the ways of creating threads:-\n",
    "1. Creating a thread without using a class\n",
    "2. Creatinh a thread by creating a child class to Thread class\n",
    "3. Creating a thread without creating child class to Thread class"
   ]
  },
  {
   "cell_type": "code",
   "execution_count": 3,
   "id": "7d8d51d8",
   "metadata": {},
   "outputs": [
    {
     "name": "stdout",
     "output_type": "stream",
     "text": [
      "Thread Running :  10 20\n"
     ]
    }
   ],
   "source": [
    "## Creating a thread without using a class \n",
    "from threading import Thread\n",
    "#thread_obj = Thread(target=function_name,args=(arg1,arg2,...))\n",
    "\n",
    "def disp(a,b):\n",
    "    print(\"Thread Running : \", a,b)\n",
    "t = Thread (target=disp, args=(10,20))\n",
    "t.start() ## starting threading"
   ]
  },
  {
   "cell_type": "code",
   "execution_count": 4,
   "id": "a061bf0b",
   "metadata": {},
   "outputs": [
    {
     "name": "stdout",
     "output_type": "stream",
     "text": [
      "Thread Running : Thread Running :   10 20\n",
      "10 20\n",
      "Thread Running :  10 20\n",
      "Thread Running :  10 20\n",
      "Thread Running :  10 20\n"
     ]
    }
   ],
   "source": [
    "from threading import Thread\n",
    "def disp(a,b):\n",
    "    print(\"Thread Running : \", a,b)\n",
    "for i in range(5):\n",
    "    t = Thread(target=disp, args=(10,20))\n",
    "    t.start()"
   ]
  },
  {
   "cell_type": "code",
   "execution_count": 5,
   "id": "25cc4d0f",
   "metadata": {},
   "outputs": [
    {
     "name": "stdout",
     "output_type": "stream",
     "text": [
      "Child ThreadMain Thread\n",
      "Main Thread\n",
      "Main Thread\n",
      "Main Thread\n",
      "Main Thread\n",
      "\n"
     ]
    }
   ],
   "source": [
    "from threading import Thread\n",
    "def disp():\n",
    "    print(\"Child Thread\")\n",
    "t = Thread(target=disp)\n",
    "t.start()\n",
    "\n",
    "for i in range(5):\n",
    "    print(\"Main Thread\")"
   ]
  },
  {
   "cell_type": "code",
   "execution_count": 8,
   "id": "86130727",
   "metadata": {},
   "outputs": [
    {
     "name": "stdout",
     "output_type": "stream",
     "text": [
      "Child Thread\n",
      "Child Thread\n",
      "Child Thread\n",
      "Child Thread\n",
      "Child Thread\n",
      "Main Thread\n",
      "Main Thread\n",
      "Main Thread\n",
      "Main Thread\n",
      "Main Thread\n"
     ]
    }
   ],
   "source": [
    "from threading import Thread\n",
    "def disp():\n",
    "    for i in range(5):\n",
    "        print(\"Child Thread\")\n",
    "\n",
    "t = Thread(target=disp)\n",
    "t.start()\n",
    "\n",
    "for i in range(5):\n",
    "    print(\"Main Thread\")"
   ]
  },
  {
   "cell_type": "code",
   "execution_count": 9,
   "id": "51b295ee",
   "metadata": {},
   "outputs": [
    {
     "name": "stdout",
     "output_type": "stream",
     "text": [
      "Publish Video CPublish Video M\n",
      "Publish Video M\n",
      "Publish Video M\n",
      "Publish Video M\n",
      "Publish Video M\n",
      "\n",
      "Publish Video C\n",
      "Publish Video C\n",
      "Publish Video C\n",
      "Publish Video C\n"
     ]
    }
   ],
   "source": [
    "from threading import Thread\n",
    "def disp():\n",
    "    for i in range(5):\n",
    "        print(\"Publish Video C\")\n",
    "\n",
    "t = Thread(target=disp)\n",
    "\n",
    "t.start()\n",
    "\n",
    "for i in range(5):\n",
    "    print(\"Publish Video M\")"
   ]
  },
  {
   "cell_type": "markdown",
   "id": "6a2a9fa9",
   "metadata": {},
   "source": [
    "# Multitasking using Multiple Thread"
   ]
  },
  {
   "cell_type": "code",
   "execution_count": null,
   "id": "ee76abb2",
   "metadata": {},
   "outputs": [],
   "source": [
    "## When multiple tasks are executed at a time, then it is called multi-tasking.\n",
    "for this purpose we need more than one thread and when \n",
    "we use more that one thread, it is called multi threading."
   ]
  },
  {
   "cell_type": "code",
   "execution_count": 10,
   "id": "20c2dca9",
   "metadata": {},
   "outputs": [
    {
     "name": "stdout",
     "output_type": "stream",
     "text": [
      "Take order from table 1\n",
      "Take order from table 2\n",
      "Take order from table 3\n",
      "Take order from table 4\n",
      "Take order from table 5\n",
      "Serve order to table 1\n",
      "Serve order to table 2\n",
      "Serve order to table 3\n",
      "Serve order to table 4\n",
      "Serve order to table 5\n"
     ]
    }
   ],
   "source": [
    "## Two task using Two Thread\n",
    "from threading import Thread\n",
    "\n",
    "class Hotel:\n",
    "    def __init__(self,t):\n",
    "        self.t = t\n",
    "    def food(self):\n",
    "        for i in range(1,6):\n",
    "            print(self.t,i)\n",
    "            \n",
    "h1 = Hotel('Take order from table')\n",
    "h2 = Hotel('Serve order to table')\n",
    "t1 = Thread(target=h1.food)\n",
    "t2 = Thread(target=h2.food)\n",
    "t1.start()\n",
    "t2.start()"
   ]
  },
  {
   "cell_type": "code",
   "execution_count": 15,
   "id": "88d51afa",
   "metadata": {},
   "outputs": [
    {
     "name": "stdout",
     "output_type": "stream",
     "text": [
      "Available Seats: Available Seats:  1\n",
      "1 seat is alloted for Jalpa\n",
      " 1\n",
      "Sorry! All seats has alloted\n"
     ]
    }
   ],
   "source": [
    "from threading import Thread, current_thread\n",
    "class Flight:\n",
    "    def __init__(self, available_seat):\n",
    "        self.available_seat = available_seat\n",
    "    def reserve(self, need_seat):\n",
    "        print('Available Seats: ', self.available_seat)\n",
    "        if(self.available_seat >= need_seat):\n",
    "            name = current_thread().name\n",
    "            print(f'{need_seat} seat is alloted for {name}')\n",
    "            self.available_seat -= need_seat\n",
    "        else:\n",
    "            print('Sorry! All seats has alloted')\n",
    "            \n",
    "f = Flight(1)\n",
    "t1 = Thread(target=f.reserve, args=(1,), name='Jalpa') \n",
    "t2 = Thread(target=f.reserve, args=(1,), name='xyz')\n",
    "t1.start()\n",
    "t2.start()"
   ]
  },
  {
   "cell_type": "raw",
   "id": "5a7c7908",
   "metadata": {},
   "source": [
    "#Race condition\n",
    "It is situation that occurs when threads are acting in an unexpected sequence, thus leading to unreliable output.\n",
    "Solution : This can be eliminated using thread synchronization"
   ]
  },
  {
   "cell_type": "markdown",
   "id": "bfb7c3cd",
   "metadata": {},
   "source": [
    "# Thread Synchronization Locks in Python\n",
    "acquire ( ) Method\n",
    "release (  ) Method"
   ]
  },
  {
   "cell_type": "code",
   "execution_count": 31,
   "id": "703e4902",
   "metadata": {},
   "outputs": [
    {
     "name": "stdout",
     "output_type": "stream",
     "text": [
      "Available Seats:  5\n",
      "1 seat is alloted for Jalpa\n",
      "Available Seats:  4\n",
      "1 seat is alloted for xyz\n",
      "Available Seats:  3\n",
      "1 seat is alloted for abc\n"
     ]
    }
   ],
   "source": [
    "## acquire(), release()\n",
    "from threading import *\n",
    "class Flight:\n",
    "    def __init__(self, available_seat):\n",
    "        self.available_seat = available_seat\n",
    "        self.l = Lock()\n",
    "    def reserve(self, need_seat):\n",
    "        self.l.acquire()  ## acquire(blocking=True, timeout=-1)\n",
    "        print('Available Seats: ', self.available_seat)\n",
    "        if(self.available_seat >= need_seat):\n",
    "            name = current_thread().name\n",
    "            print(f'{need_seat} seat is alloted for {name}')\n",
    "            self.available_seat -= need_seat\n",
    "        else:\n",
    "            print('Sorry! All seats has alloted')\n",
    "        self.l.release()\n",
    "            \n",
    "f = Flight(5)\n",
    "t1 = Thread(target=f.reserve, args=(1,), name='Jalpa') \n",
    "t2 = Thread(target=f.reserve, args=(1,), name='xyz')\n",
    "t3 = Thread(target=f.reserve, args=(1,), name = 'abc')\n",
    "t1.start()\n",
    "t2.start()\n",
    "t3.start()"
   ]
  },
  {
   "cell_type": "code",
   "execution_count": 16,
   "id": "6872f630",
   "metadata": {},
   "outputs": [
    {
     "name": "stdout",
     "output_type": "stream",
     "text": [
      "Available Seats:  5\n",
      "1 seat is alloted for Jalpa\n",
      "Available Seats:  4\n",
      "1 seat is alloted for xyz\n",
      "Available Seats:  3\n",
      "1 seat is alloted for abc\n",
      "Main Thread\n"
     ]
    }
   ],
   "source": [
    "## join() \n",
    "##join is a synchronization method that blocks the calling thread (that is, the thread that calls the method) \n",
    "##until the thread whose Join method is called has completed. \n",
    "from threading import *\n",
    "class Flight:\n",
    "    def __init__(self, available_seat):\n",
    "        self.available_seat = available_seat\n",
    "        self.l = Lock()\n",
    "    def reserve(self, need_seat):\n",
    "        self.l.acquire()  ## acquire(blocking=True, timeout=-1)\n",
    "        print('Available Seats: ', self.available_seat)\n",
    "        if(self.available_seat >= need_seat):\n",
    "            name = current_thread().name\n",
    "            print(f'{need_seat} seat is alloted for {name}')\n",
    "            self.available_seat -= need_seat\n",
    "        else:\n",
    "            print('Sorry! All seats has alloted')\n",
    "        self.l.release()\n",
    "            \n",
    "f = Flight(5)\n",
    "t1 = Thread(target=f.reserve, args=(1,), name='Jalpa') \n",
    "t2 = Thread(target=f.reserve, args=(1,), name='xyz')\n",
    "t3 = Thread(target=f.reserve, args=(1,), name = 'abc')\n",
    "t1.start()\n",
    "t2.start()\n",
    "t3.start()\n",
    "t1.join()\n",
    "t2.join()\n",
    "t3.join()\n",
    "print(\"Main Thread\")"
   ]
  }
 ],
 "metadata": {
  "kernelspec": {
   "display_name": "Python 3 (ipykernel)",
   "language": "python",
   "name": "python3"
  },
  "language_info": {
   "codemirror_mode": {
    "name": "ipython",
    "version": 3
   },
   "file_extension": ".py",
   "mimetype": "text/x-python",
   "name": "python",
   "nbconvert_exporter": "python",
   "pygments_lexer": "ipython3",
   "version": "3.9.12"
  }
 },
 "nbformat": 4,
 "nbformat_minor": 5
}
