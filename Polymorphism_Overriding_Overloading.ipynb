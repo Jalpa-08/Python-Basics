{
 "cells": [
  {
   "cell_type": "markdown",
   "id": "b43058ae",
   "metadata": {},
   "source": [
    "# Polymorphism"
   ]
  },
  {
   "cell_type": "raw",
   "id": "24e9d70c",
   "metadata": {},
   "source": [
    "Polymorphism means the same function name (but different signatures) being used for different types."
   ]
  },
  {
   "cell_type": "code",
   "execution_count": 1,
   "id": "774acd67",
   "metadata": {},
   "outputs": [],
   "source": [
    "def test(a,b):\n",
    "    return a+b"
   ]
  },
  {
   "cell_type": "code",
   "execution_count": 2,
   "id": "52a8fd19",
   "metadata": {},
   "outputs": [
    {
     "data": {
      "text/plain": [
       "7"
      ]
     },
     "execution_count": 2,
     "metadata": {},
     "output_type": "execute_result"
    }
   ],
   "source": [
    "test(3,4) # addition"
   ]
  },
  {
   "cell_type": "code",
   "execution_count": 3,
   "id": "304b071a",
   "metadata": {},
   "outputs": [
    {
     "data": {
      "text/plain": [
       "'JalpaPatel'"
      ]
     },
     "execution_count": 3,
     "metadata": {},
     "output_type": "execute_result"
    }
   ],
   "source": [
    "test(\"Jalpa\",\"Patel\") # concat"
   ]
  },
  {
   "cell_type": "code",
   "execution_count": 1,
   "id": "ca1235ef",
   "metadata": {},
   "outputs": [
    {
     "name": "stdout",
     "output_type": "stream",
     "text": [
      "5\n",
      "3\n"
     ]
    }
   ],
   "source": [
    "# len() being used for a string\n",
    "print(len(\"jalpa\"))\n",
    " \n",
    "# len() being used for a list\n",
    "print(len([1, 2, 3]))"
   ]
  },
  {
   "cell_type": "code",
   "execution_count": 3,
   "id": "a2ff397c",
   "metadata": {},
   "outputs": [
    {
     "name": "stdout",
     "output_type": "stream",
     "text": [
      "3\n",
      "4\n",
      "2\n"
     ]
    }
   ],
   "source": [
    "print(len(\"Bit\"))\n",
    "print(len([\"Python\", \"Java\", \"C\", \"C++\"]))\n",
    "print(len({\"Name\": \"Jalpa\", \"Address\": \"India\"}))"
   ]
  },
  {
   "cell_type": "raw",
   "id": "8d396fe2",
   "metadata": {},
   "source": [
    "Here, we can see that many data types such as string, list, tuple, set, and dictionary can work with the len() function. However, we can see that it returns specific information about specific data types."
   ]
  },
  {
   "cell_type": "code",
   "execution_count": 6,
   "id": "f3f5dca8",
   "metadata": {},
   "outputs": [],
   "source": [
    "class insta:\n",
    "    def share_stories(self):\n",
    "        print(\"This will share my insta story\")\n",
    "        \n",
    "class facebook:\n",
    "    def share_stories(self):\n",
    "        print(\"This will share my facebook story\")\n"
   ]
  },
  {
   "cell_type": "code",
   "execution_count": 7,
   "id": "acdd3c1e",
   "metadata": {},
   "outputs": [],
   "source": [
    "def sharestory (app):\n",
    "    app.share_stories()"
   ]
  },
  {
   "cell_type": "code",
   "execution_count": 9,
   "id": "8976b598",
   "metadata": {},
   "outputs": [
    {
     "name": "stdout",
     "output_type": "stream",
     "text": [
      "This will share my insta story\n",
      "This will share my facebook story\n"
     ]
    }
   ],
   "source": [
    "i = insta()\n",
    "f = facebook()\n",
    "sharestory(i)\n",
    "sharestory(f)"
   ]
  },
  {
   "cell_type": "code",
   "execution_count": 2,
   "id": "96bb2989",
   "metadata": {},
   "outputs": [
    {
     "name": "stdout",
     "output_type": "stream",
     "text": [
      "New Delhi is the capital of India.\n",
      "Hindi is the most widely spoken language of India.\n",
      "India is a developing country.\n",
      "Washington, D.C. is the capital of USA.\n",
      "English is the primary language of USA.\n",
      "USA is a developed country.\n"
     ]
    }
   ],
   "source": [
    "#Polymorphism with class method\n",
    "class India():\n",
    "    def capital(self):\n",
    "        print(\"New Delhi is the capital of India.\")\n",
    " \n",
    "    def language(self):\n",
    "        print(\"Hindi is the most widely spoken language of India.\")\n",
    " \n",
    "    def type(self):\n",
    "        print(\"India is a developing country.\")\n",
    " \n",
    "class USA():\n",
    "    def capital(self):\n",
    "        print(\"Washington, D.C. is the capital of USA.\")\n",
    " \n",
    "    def language(self):\n",
    "        print(\"English is the primary language of USA.\")\n",
    " \n",
    "    def type(self):\n",
    "        print(\"USA is a developed country.\")\n",
    " \n",
    "obj_ind = India()\n",
    "obj_usa = USA()\n",
    "\n",
    "for i in (obj_ind, obj_usa):\n",
    "    i.capital()\n",
    "    i.language()\n",
    "    i.type()"
   ]
  },
  {
   "cell_type": "code",
   "execution_count": 12,
   "id": "de8cbbf4",
   "metadata": {},
   "outputs": [],
   "source": [
    "class test(Exception):\n",
    "    def __init__(self , msg  , myval) :\n",
    "        self.msg = msg\n",
    "        self.myval =myval"
   ]
  },
  {
   "cell_type": "code",
   "execution_count": 15,
   "id": "fa70647a",
   "metadata": {},
   "outputs": [
    {
     "name": "stdout",
     "output_type": "stream",
     "text": [
      "('this is my own exception class ', 'bit')\n"
     ]
    }
   ],
   "source": [
    "try :\n",
    "    raise(test(\"this is my own exception class \" , \"bit\"))\n",
    "except test as t :\n",
    "    print(t)"
   ]
  },
  {
   "cell_type": "code",
   "execution_count": 16,
   "id": "e1abb5b1",
   "metadata": {},
   "outputs": [
    {
     "name": "stdout",
     "output_type": "stream",
     "text": [
      "('this is my own exception class ', 5)\n"
     ]
    }
   ],
   "source": [
    "try :\n",
    "    raise(test(\"this is my own exception class \",5))\n",
    "except test as t :\n",
    "    print(t)"
   ]
  },
  {
   "cell_type": "raw",
   "id": "c5017072",
   "metadata": {},
   "source": [
    "\"\"\"Q1  create your own class for to achive multiple  , multilevel inheritance \n",
    "Q2  create your own class to represenet ploymorprism \n",
    "Q3 create your own class for custome exception\n",
    "Q4 create your own class to achive encaptulation\n",
    "Q5 create your own class to achive method overloading and overriding  . \"\"\""
   ]
  },
  {
   "cell_type": "markdown",
   "id": "5d204ef4",
   "metadata": {},
   "source": [
    "# Method Overriding "
   ]
  },
  {
   "cell_type": "raw",
   "id": "ca31ec49",
   "metadata": {},
   "source": [
    "Key features of Method Overriding in Python\n",
    "These are some of the key features and advantages of method overriding in Python --\n",
    "\n",
    "Method Overriding is derived from the concept of object oriented programming\n",
    "Method Overriding allows us to change the implementation of a function in the child class which is defined in the parent class.\n",
    "Method Overriding is a part of the inheritance mechanism\n",
    "Method Overriding avoids duplication of code\n",
    "Method Overriding also enhances the code adding some additional properties.\n",
    "Prerequisites for method overriding\n",
    "There are certain prerequisites for method overriding in Python. They're discussed below --\n",
    "\n",
    "Method overriding cannot be done within a class. So,we need to derive a child class from a parent class. Hence Inheritance is mandatory.\n",
    "The method must have the same name as in the parent class\n",
    "The method must have the same number of parameters as in the parent class."
   ]
  },
  {
   "cell_type": "code",
   "execution_count": 41,
   "id": "3b594ace",
   "metadata": {},
   "outputs": [
    {
     "name": "stdout",
     "output_type": "stream",
     "text": [
      "Hi \n",
      "My name is jalpa\n"
     ]
    }
   ],
   "source": [
    "# Method Overriding (Function define with same name for different arguments)\n",
    "\n",
    "class xyz:\n",
    "    def test(self):\n",
    "        print(\"Hi \")\n",
    "        \n",
    "    def test2(self):\n",
    "        print(\"My name is jalpa\")\n",
    "        \n",
    "class xyz1(xyz):\n",
    "    def test(self):\n",
    "        print(\"Hello world\")\n",
    "        \n",
    "    def test2(self):\n",
    "        print(\"Good morning\")\n",
    "        \n",
    "obj = xyz1()\n",
    "\n",
    "obj.test()\n",
    "obj.test2()\n"
   ]
  },
  {
   "cell_type": "code",
   "execution_count": 5,
   "id": "47ddce5e",
   "metadata": {},
   "outputs": [
    {
     "name": "stdout",
     "output_type": "stream",
     "text": [
      "Circle\n",
      "I am a two-dimensional shape.\n",
      "Squares have each angle equal to 90 degrees.\n",
      "153.93804002589985\n"
     ]
    }
   ],
   "source": [
    "from math import pi\n",
    "\n",
    "\n",
    "class Shape:\n",
    "    def __init__(self, name):\n",
    "        self.name = name\n",
    "\n",
    "    def area(self):\n",
    "        pass\n",
    "\n",
    "    def fact(self):\n",
    "        return \"Dimention Shape\"\n",
    "\n",
    "    def __str__(self):\n",
    "        return self.name\n",
    "\n",
    "\n",
    "class Square(Shape):\n",
    "    def __init__(self, length):\n",
    "        super().__init__(\"Square\")\n",
    "        self.length = length\n",
    "\n",
    "    def area(self):\n",
    "        return self.length**2\n",
    "\n",
    "    def fact(self):\n",
    "        return \"Squares have 4 angle\"\n",
    "    \n",
    "class Circle(Shape):\n",
    "    def __init__(self, radius):\n",
    "        super().__init__(\"Circle\")\n",
    "        self.radius = radius\n",
    "\n",
    "    def area(self):\n",
    "        return pi*self.radius**2\n",
    "\n",
    "\n",
    "a = Square(4)\n",
    "b = Circle(7)\n",
    "print(b)\n",
    "print(b.fact())\n",
    "print(a.fact())\n",
    "print(b.area())"
   ]
  },
  {
   "cell_type": "markdown",
   "id": "b6a1dccc",
   "metadata": {},
   "source": [
    "# Method Overloading"
   ]
  },
  {
   "cell_type": "code",
   "execution_count": 9,
   "id": "d7157664",
   "metadata": {},
   "outputs": [
    {
     "name": "stdout",
     "output_type": "stream",
     "text": [
      "3\n",
      "BIT For\n",
      "12\n",
      "BITBITBITBIT\n"
     ]
    }
   ],
   "source": [
    "print(1 + 2)\n",
    "  \n",
    "# concatenate two strings\n",
    "print(\"BIT\"+ \" \" +\"For\") \n",
    "  \n",
    "# Product two numbers\n",
    "print(3 * 4)\n",
    "  \n",
    "# Repeat the String\n",
    "print(\"BIT\"*4)"
   ]
  },
  {
   "cell_type": "code",
   "execution_count": 10,
   "id": "1c52cfa8",
   "metadata": {},
   "outputs": [
    {
     "name": "stdout",
     "output_type": "stream",
     "text": [
      "3\n",
      "jalpaDs\n"
     ]
    }
   ],
   "source": [
    "class A:\n",
    "    def __init__(self, a):\n",
    "        self.a = a\n",
    "  \n",
    "    # adding two objects \n",
    "    def __add__(self, b):\n",
    "        return self.a + b.a \n",
    "\n",
    "ob1 = A(1)\n",
    "ob2 = A(2)\n",
    "ob3 = A(\"jalpa\")\n",
    "ob4 = A(\"Ds\")\n",
    "  \n",
    "print(ob1 + ob2)\n",
    "print(ob3 + ob4)"
   ]
  },
  {
   "cell_type": "code",
   "execution_count": 45,
   "id": "15e7f7e2",
   "metadata": {},
   "outputs": [
    {
     "name": "stdout",
     "output_type": "stream",
     "text": [
      "(3, 5)\n"
     ]
    }
   ],
   "source": [
    "class complex:\n",
    "    def __init__(self, a, b):\n",
    "        self.a = a\n",
    "        self.b = b\n",
    "  \n",
    "     # adding two objects \n",
    "    def __add__(self, other):\n",
    "        return self.a + other.a, self.b + other.b\n",
    "  \n",
    "Ob1 = complex(1, 2)\n",
    "Ob2 = complex(2, 3)\n",
    "Ob3 = Ob1 + Ob2\n",
    "print(Ob3)"
   ]
  },
  {
   "cell_type": "code",
   "execution_count": 46,
   "id": "f70e0bd5",
   "metadata": {},
   "outputs": [
    {
     "name": "stdout",
     "output_type": "stream",
     "text": [
      "ob2 is greater than ob1\n"
     ]
    }
   ],
   "source": [
    "class A:\n",
    "    def __init__(self, a):\n",
    "        self.a = a\n",
    "    def __gt__(self, other):\n",
    "        if(self.a>other.a):\n",
    "            return True\n",
    "        else:\n",
    "            return False\n",
    "ob1 = A(2)\n",
    "ob2 = A(3)\n",
    "if(ob1>ob2):\n",
    "    print(\"ob1 is greater than ob2\")\n",
    "else:\n",
    "    print(\"ob2 is greater than ob1\")"
   ]
  }
 ],
 "metadata": {
  "kernelspec": {
   "display_name": "Python 3 (ipykernel)",
   "language": "python",
   "name": "python3"
  },
  "language_info": {
   "codemirror_mode": {
    "name": "ipython",
    "version": 3
   },
   "file_extension": ".py",
   "mimetype": "text/x-python",
   "name": "python",
   "nbconvert_exporter": "python",
   "pygments_lexer": "ipython3",
   "version": "3.9.12"
  }
 },
 "nbformat": 4,
 "nbformat_minor": 5
}
