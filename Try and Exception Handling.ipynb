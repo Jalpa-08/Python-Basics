{
 "cells": [
  {
   "cell_type": "code",
   "execution_count": 18,
   "id": "0a2ad058",
   "metadata": {},
   "outputs": [
    {
     "ename": "SyntaxError",
     "evalue": "invalid syntax (Temp/ipykernel_11756/1921869338.py, line 4)",
     "output_type": "error",
     "traceback": [
      "\u001b[1;36m  File \u001b[1;32m\"C:\\Users\\bitsj\\AppData\\Local\\Temp/ipykernel_11756/1921869338.py\"\u001b[1;36m, line \u001b[1;32m4\u001b[0m\n\u001b[1;33m    print(\"hello world\")\u001b[0m\n\u001b[1;37m    ^\u001b[0m\n\u001b[1;31mSyntaxError\u001b[0m\u001b[1;31m:\u001b[0m invalid syntax\n"
     ]
    }
   ],
   "source": [
    "try:\n",
    "    a=8\n",
    "    a/0\n",
    "    print(\"hello world\")\n",
    "except Exception as e:\n",
    "    print(e)"
   ]
  },
  {
   "cell_type": "code",
   "execution_count": 16,
   "id": "3739d6cc",
   "metadata": {},
   "outputs": [
    {
     "ename": "ZeroDivisionError",
     "evalue": "division by zero",
     "output_type": "error",
     "traceback": [
      "\u001b[1;31m---------------------------------------------------------------------------\u001b[0m",
      "\u001b[1;31mZeroDivisionError\u001b[0m                         Traceback (most recent call last)",
      "\u001b[1;32m~\\AppData\\Local\\Temp/ipykernel_11756/3777648117.py\u001b[0m in \u001b[0;36m<module>\u001b[1;34m\u001b[0m\n\u001b[1;32m----> 1\u001b[1;33m \u001b[0ma\u001b[0m\u001b[1;33m/\u001b[0m\u001b[1;36m0\u001b[0m\u001b[1;33m\u001b[0m\u001b[1;33m\u001b[0m\u001b[0m\n\u001b[0m\u001b[0;32m      2\u001b[0m \u001b[0mprint\u001b[0m\u001b[1;33m(\u001b[0m\u001b[1;34m\"hello world\"\u001b[0m\u001b[1;33m)\u001b[0m\u001b[1;33m\u001b[0m\u001b[1;33m\u001b[0m\u001b[0m\n",
      "\u001b[1;31mZeroDivisionError\u001b[0m: division by zero"
     ]
    }
   ],
   "source": [
    "a/0\n",
    "print(\"hello world\")"
   ]
  },
  {
   "cell_type": "code",
   "execution_count": 2,
   "id": "aa23daa5",
   "metadata": {},
   "outputs": [
    {
     "name": "stdout",
     "output_type": "stream",
     "text": [
      "hsja\n"
     ]
    },
    {
     "ename": "ValueError",
     "evalue": "invalid literal for int() with base 10: 'hsja'",
     "output_type": "error",
     "traceback": [
      "\u001b[1;31m---------------------------------------------------------------------------\u001b[0m",
      "\u001b[1;31mValueError\u001b[0m                                Traceback (most recent call last)",
      "\u001b[1;32m~\\AppData\\Local\\Temp/ipykernel_11756/2305843072.py\u001b[0m in \u001b[0;36m<module>\u001b[1;34m\u001b[0m\n\u001b[1;32m----> 1\u001b[1;33m \u001b[0ma\u001b[0m \u001b[1;33m=\u001b[0m \u001b[0mint\u001b[0m\u001b[1;33m(\u001b[0m\u001b[0minput\u001b[0m\u001b[1;33m(\u001b[0m\u001b[1;33m)\u001b[0m\u001b[1;33m)\u001b[0m\u001b[1;33m\u001b[0m\u001b[1;33m\u001b[0m\u001b[0m\n\u001b[0m",
      "\u001b[1;31mValueError\u001b[0m: invalid literal for int() with base 10: 'hsja'"
     ]
    }
   ],
   "source": [
    "a = int(input())"
   ]
  },
  {
   "cell_type": "code",
   "execution_count": 14,
   "id": "fe5e3597",
   "metadata": {},
   "outputs": [
    {
     "name": "stdout",
     "output_type": "stream",
     "text": [
      "hh\n",
      "invalid literal for int() with base 10: 'hh'\n"
     ]
    }
   ],
   "source": [
    "try:\n",
    "    a = int(input())\n",
    "except Exception as e:\n",
    "    print(e)"
   ]
  },
  {
   "cell_type": "code",
   "execution_count": 12,
   "id": "872efbe4",
   "metadata": {},
   "outputs": [
    {
     "name": "stdout",
     "output_type": "stream",
     "text": [
      "can only concatenate list (not \"int\") to list\n"
     ]
    }
   ],
   "source": [
    "try:\n",
    "    l = [2,3,4,5,6]\n",
    "    for i in range(len(l+3)):\n",
    "        print(l)\n",
    "except Exception as e:\n",
    "    print(e)"
   ]
  },
  {
   "cell_type": "code",
   "execution_count": 24,
   "id": "3099fb36",
   "metadata": {},
   "outputs": [
    {
     "name": "stdout",
     "output_type": "stream",
     "text": [
      "invalid mode: ' rb+'\n"
     ]
    }
   ],
   "source": [
    "try:\n",
    "    f = open('test.txt' , \" rb+\")\n",
    "    f.write(\"fdsfds\")\n",
    "except Exception as e:\n",
    "    print(e)"
   ]
  },
  {
   "cell_type": "code",
   "execution_count": 25,
   "id": "d924b33e",
   "metadata": {},
   "outputs": [
    {
     "name": "stdout",
     "output_type": "stream",
     "text": [
      "4\n",
      "5\n",
      "6\n",
      "7\n",
      "8\n",
      "8\n",
      "9\n",
      "0\n",
      "list index out of range\n",
      "fdsfdsdf dsf sfsd \n"
     ]
    }
   ],
   "source": [
    "l = [4,5,6,7,8,8,9,0]\n",
    "try:\n",
    "    for i in range(len(l)+1) : \n",
    "        print(l[i])\n",
    "except Exception as e :\n",
    "    print( e)\n",
    "print(\"fdsfdsdf dsf sfsd \")"
   ]
  },
  {
   "cell_type": "code",
   "execution_count": 26,
   "id": "474e6fab",
   "metadata": {},
   "outputs": [
    {
     "name": "stdout",
     "output_type": "stream",
     "text": [
      "this is my handler\n",
      "1\n",
      "2\n",
      "3\n",
      "4\n",
      "5\n"
     ]
    }
   ],
   "source": [
    "try :\n",
    "    f = open(\"test1\" , 'r')\n",
    "    f.write(\"this is my code with expceptoi handling\")\n",
    "    print(\"this is my code after write ops\")\n",
    "except : \n",
    "    print(\"this is my handler\")\n",
    "try :\n",
    "    l = [1,2,3,4,5]\n",
    "    for i in l :\n",
    "        print(i)\n",
    "except:\n",
    "    print(\"this is a handler for for loop\")"
   ]
  },
  {
   "cell_type": "code",
   "execution_count": 27,
   "id": "d40e02b9",
   "metadata": {},
   "outputs": [
    {
     "name": "stdout",
     "output_type": "stream",
     "text": [
      "kkl\n",
      "invalid literal for int() with base 10: 'kkl'\n"
     ]
    }
   ],
   "source": [
    "try :\n",
    "    d= {\"key1\" : \"sudh\" , \"key2\" : [1,2,3,4,5] , \"key3\" : (4,5,6,7,78)}\n",
    "    d[\"key4\"] = int(input())\n",
    "except Exception as jak :\n",
    "    print(jak)"
   ]
  },
  {
   "cell_type": "code",
   "execution_count": 29,
   "id": "b630ae53",
   "metadata": {},
   "outputs": [
    {
     "name": "stdout",
     "output_type": "stream",
     "text": [
      "8\n",
      "[Errno 2] No such file or directory: 'test2'\n"
     ]
    }
   ],
   "source": [
    "try :\n",
    "    d= {\"key1\" : \"sudh\" , \"key2\" : [1,2,3,4,5] , \"key3\" : (4,5,6,7,78)}\n",
    "    d[\"key4\"] = int(input())\n",
    "    f = open(\"test2\" , \"r\")\n",
    "\n",
    "except ValueError as xyz :\n",
    "    print(xyz)\n",
    "except FileNotFoundError as e :\n",
    "    print(e)\n",
    "except Exception as ee :\n",
    "    print(\"this is my exceptoin class \" , ee )"
   ]
  },
  {
   "cell_type": "code",
   "execution_count": 30,
   "id": "1a0bdd26",
   "metadata": {},
   "outputs": [
    {
     "name": "stdout",
     "output_type": "stream",
     "text": [
      "this will handle an error  [Errno 2] No such file or directory: 'test5.txt'\n"
     ]
    }
   ],
   "source": [
    "try :\n",
    "    f = open(\"test5.txt\" , \"r\")\n",
    "    f.write(\"this is my code in try \")\n",
    "except Exception as e :\n",
    "    print(\"this will handle an error \" ,e) \n",
    "else : \n",
    "    print(\"this will execute once my try block will be executed succesfully\")\n",
    "    f.close()"
   ]
  },
  {
   "cell_type": "code",
   "execution_count": 31,
   "id": "8fc5f09b",
   "metadata": {},
   "outputs": [
    {
     "name": "stdout",
     "output_type": "stream",
     "text": [
      "do this on succesfull eectuion of try block \n",
      "do this for sure\n",
      "handle this \n",
      "it will come to this block for sure \n"
     ]
    }
   ],
   "source": [
    "try :\n",
    "    f = open(\"test43.txt\" , 'w')\n",
    "except Exception as e : \n",
    "    print(\"sdfsdfsfsdfsfds\" , e)\n",
    "else:\n",
    "    print(\"do this on succesfull eectuion of try block \")\n",
    "finally : \n",
    "    print(\"do this for sure\")\n",
    "    try : \n",
    "        \n",
    "        f = open(\"dfsfssdf\" , 'r')\n",
    "    except : \n",
    "         print(\"handle this \")\n",
    "    finally:\n",
    "        print(\"it will come to this block for sure \")"
   ]
  },
  {
   "cell_type": "code",
   "execution_count": 38,
   "id": "4428fa55",
   "metadata": {},
   "outputs": [],
   "source": [
    "def askint():\n",
    "    try :\n",
    "        a = int(input())\n",
    "        return a \n",
    "    except Exception as e :\n",
    "        print(e )"
   ]
  },
  {
   "cell_type": "code",
   "execution_count": 43,
   "id": "a80efb3e",
   "metadata": {},
   "outputs": [
    {
     "name": "stdout",
     "output_type": "stream",
     "text": [
      "kjkl\n",
      "invalid literal for int() with base 10: 'kjkl'\n"
     ]
    }
   ],
   "source": [
    "askint()"
   ]
  },
  {
   "cell_type": "code",
   "execution_count": 54,
   "id": "c683633c",
   "metadata": {},
   "outputs": [],
   "source": [
    "def fun1():\n",
    "    \"\"\" in this program interger value is added\"\"\"\n",
    "    flag=True\n",
    "    while flag:\n",
    "        try:\n",
    "            a=int(input(\"enter the interger:\"))\n",
    "            if type(a)==int:\n",
    "                return \"yes, you have entered an integer\"\n",
    "                flag=False\n",
    "                \n",
    "    \n",
    "        except Exception as e:\n",
    "            print(\"Nah, you did not enter an integer, please enter an integer. ERROR:\",e)"
   ]
  },
  {
   "cell_type": "code",
   "execution_count": 55,
   "id": "0b777bda",
   "metadata": {},
   "outputs": [
    {
     "name": "stdout",
     "output_type": "stream",
     "text": [
      "enter the interger:6\n"
     ]
    },
    {
     "data": {
      "text/plain": [
       "'yes, you have entered an integer'"
      ]
     },
     "execution_count": 55,
     "metadata": {},
     "output_type": "execute_result"
    }
   ],
   "source": [
    "fun1()"
   ]
  },
  {
   "cell_type": "code",
   "execution_count": 52,
   "id": "03414836",
   "metadata": {},
   "outputs": [],
   "source": [
    "def integer():\n",
    "    \"\"\"Function asks for an integer unless provided otherwise\"\"\"\n",
    "    while True:\n",
    "            \n",
    "            try:\n",
    "                x = int(input())\n",
    "                break\n",
    "            except ValueError as e:\n",
    "                print(\"enter the input again\",e)"
   ]
  },
  {
   "cell_type": "code",
   "execution_count": 53,
   "id": "5de009b5",
   "metadata": {},
   "outputs": [
    {
     "name": "stdout",
     "output_type": "stream",
     "text": [
      "7\n"
     ]
    }
   ],
   "source": [
    "integer()"
   ]
  },
  {
   "cell_type": "code",
   "execution_count": 69,
   "id": "c8fa4914",
   "metadata": {},
   "outputs": [],
   "source": [
    "def getint(p):\n",
    "    while True:\n",
    "        try:\n",
    "            value = int(input(p))\n",
    "        except ValueError:\n",
    "            print(\"Sorry, I didn't understand that.\")\n",
    "            continue\n",
    "\n",
    "        if value < 0:\n",
    "            print(\"Sorry, your response must not be negative.\")\n",
    "            continue\n",
    "        else:\n",
    "            break\n",
    "    return value"
   ]
  },
  {
   "cell_type": "code",
   "execution_count": 70,
   "id": "8b4412e1",
   "metadata": {},
   "outputs": [
    {
     "name": "stdout",
     "output_type": "stream",
     "text": [
      "-1-2\n",
      "Sorry, your response must not be negative.\n"
     ]
    },
    {
     "ename": "KeyboardInterrupt",
     "evalue": "Interrupted by user",
     "output_type": "error",
     "traceback": [
      "\u001b[1;31m---------------------------------------------------------------------------\u001b[0m",
      "\u001b[1;31mKeyboardInterrupt\u001b[0m                         Traceback (most recent call last)",
      "\u001b[1;32m~\\AppData\\Local\\Temp/ipykernel_11756/3662852128.py\u001b[0m in \u001b[0;36m<module>\u001b[1;34m\u001b[0m\n\u001b[1;32m----> 1\u001b[1;33m \u001b[0mgetint\u001b[0m\u001b[1;33m(\u001b[0m\u001b[1;33m-\u001b[0m\u001b[1;36m1\u001b[0m\u001b[1;33m)\u001b[0m\u001b[1;33m\u001b[0m\u001b[1;33m\u001b[0m\u001b[0m\n\u001b[0m",
      "\u001b[1;32m~\\AppData\\Local\\Temp/ipykernel_11756/29585090.py\u001b[0m in \u001b[0;36mgetint\u001b[1;34m(p)\u001b[0m\n\u001b[0;32m      2\u001b[0m     \u001b[1;32mwhile\u001b[0m \u001b[1;32mTrue\u001b[0m\u001b[1;33m:\u001b[0m\u001b[1;33m\u001b[0m\u001b[1;33m\u001b[0m\u001b[0m\n\u001b[0;32m      3\u001b[0m         \u001b[1;32mtry\u001b[0m\u001b[1;33m:\u001b[0m\u001b[1;33m\u001b[0m\u001b[1;33m\u001b[0m\u001b[0m\n\u001b[1;32m----> 4\u001b[1;33m             \u001b[0mvalue\u001b[0m \u001b[1;33m=\u001b[0m \u001b[0mint\u001b[0m\u001b[1;33m(\u001b[0m\u001b[0minput\u001b[0m\u001b[1;33m(\u001b[0m\u001b[0mp\u001b[0m\u001b[1;33m)\u001b[0m\u001b[1;33m)\u001b[0m\u001b[1;33m\u001b[0m\u001b[1;33m\u001b[0m\u001b[0m\n\u001b[0m\u001b[0;32m      5\u001b[0m         \u001b[1;32mexcept\u001b[0m \u001b[0mValueError\u001b[0m\u001b[1;33m:\u001b[0m\u001b[1;33m\u001b[0m\u001b[1;33m\u001b[0m\u001b[0m\n\u001b[0;32m      6\u001b[0m             \u001b[0mprint\u001b[0m\u001b[1;33m(\u001b[0m\u001b[1;34m\"Sorry, I didn't understand that.\"\u001b[0m\u001b[1;33m)\u001b[0m\u001b[1;33m\u001b[0m\u001b[1;33m\u001b[0m\u001b[0m\n",
      "\u001b[1;32mC:\\ProgramData\\Anaconda3\\lib\\site-packages\\ipykernel\\kernelbase.py\u001b[0m in \u001b[0;36mraw_input\u001b[1;34m(self, prompt)\u001b[0m\n\u001b[0;32m   1004\u001b[0m                 \u001b[1;34m\"raw_input was called, but this frontend does not support input requests.\"\u001b[0m\u001b[1;33m\u001b[0m\u001b[1;33m\u001b[0m\u001b[0m\n\u001b[0;32m   1005\u001b[0m             )\n\u001b[1;32m-> 1006\u001b[1;33m         return self._input_request(\n\u001b[0m\u001b[0;32m   1007\u001b[0m             \u001b[0mstr\u001b[0m\u001b[1;33m(\u001b[0m\u001b[0mprompt\u001b[0m\u001b[1;33m)\u001b[0m\u001b[1;33m,\u001b[0m\u001b[1;33m\u001b[0m\u001b[1;33m\u001b[0m\u001b[0m\n\u001b[0;32m   1008\u001b[0m             \u001b[0mself\u001b[0m\u001b[1;33m.\u001b[0m\u001b[0m_parent_ident\u001b[0m\u001b[1;33m[\u001b[0m\u001b[1;34m\"shell\"\u001b[0m\u001b[1;33m]\u001b[0m\u001b[1;33m,\u001b[0m\u001b[1;33m\u001b[0m\u001b[1;33m\u001b[0m\u001b[0m\n",
      "\u001b[1;32mC:\\ProgramData\\Anaconda3\\lib\\site-packages\\ipykernel\\kernelbase.py\u001b[0m in \u001b[0;36m_input_request\u001b[1;34m(self, prompt, ident, parent, password)\u001b[0m\n\u001b[0;32m   1049\u001b[0m             \u001b[1;32mexcept\u001b[0m \u001b[0mKeyboardInterrupt\u001b[0m\u001b[1;33m:\u001b[0m\u001b[1;33m\u001b[0m\u001b[1;33m\u001b[0m\u001b[0m\n\u001b[0;32m   1050\u001b[0m                 \u001b[1;31m# re-raise KeyboardInterrupt, to truncate traceback\u001b[0m\u001b[1;33m\u001b[0m\u001b[1;33m\u001b[0m\u001b[0m\n\u001b[1;32m-> 1051\u001b[1;33m                 \u001b[1;32mraise\u001b[0m \u001b[0mKeyboardInterrupt\u001b[0m\u001b[1;33m(\u001b[0m\u001b[1;34m\"Interrupted by user\"\u001b[0m\u001b[1;33m)\u001b[0m \u001b[1;32mfrom\u001b[0m \u001b[1;32mNone\u001b[0m\u001b[1;33m\u001b[0m\u001b[1;33m\u001b[0m\u001b[0m\n\u001b[0m\u001b[0;32m   1052\u001b[0m             \u001b[1;32mexcept\u001b[0m \u001b[0mException\u001b[0m\u001b[1;33m:\u001b[0m\u001b[1;33m\u001b[0m\u001b[1;33m\u001b[0m\u001b[0m\n\u001b[0;32m   1053\u001b[0m                 \u001b[0mself\u001b[0m\u001b[1;33m.\u001b[0m\u001b[0mlog\u001b[0m\u001b[1;33m.\u001b[0m\u001b[0mwarning\u001b[0m\u001b[1;33m(\u001b[0m\u001b[1;34m\"Invalid Message:\"\u001b[0m\u001b[1;33m,\u001b[0m \u001b[0mexc_info\u001b[0m\u001b[1;33m=\u001b[0m\u001b[1;32mTrue\u001b[0m\u001b[1;33m)\u001b[0m\u001b[1;33m\u001b[0m\u001b[1;33m\u001b[0m\u001b[0m\n",
      "\u001b[1;31mKeyboardInterrupt\u001b[0m: Interrupted by user"
     ]
    }
   ],
   "source": [
    "getint(-1)"
   ]
  },
  {
   "cell_type": "code",
   "execution_count": 4,
   "id": "8e45da35",
   "metadata": {},
   "outputs": [],
   "source": [
    "def test(a) :\n",
    "    if a == \"sjs\" :\n",
    "        raise ZeroDivisionError(\"you have entered a negative value dfsa adsfdsasaf afd\" , a)\n",
    "    return a "
   ]
  },
  {
   "cell_type": "code",
   "execution_count": 5,
   "id": "aafc44ec",
   "metadata": {},
   "outputs": [
    {
     "ename": "ZeroDivisionError",
     "evalue": "('you have entered a negative value dfsa adsfdsasaf afd', 'sjs')",
     "output_type": "error",
     "traceback": [
      "\u001b[1;31m---------------------------------------------------------------------------\u001b[0m",
      "\u001b[1;31mZeroDivisionError\u001b[0m                         Traceback (most recent call last)",
      "\u001b[1;32m~\\AppData\\Local\\Temp/ipykernel_4092/487591596.py\u001b[0m in \u001b[0;36m<module>\u001b[1;34m\u001b[0m\n\u001b[1;32m----> 1\u001b[1;33m \u001b[0mtest\u001b[0m\u001b[1;33m(\u001b[0m\u001b[1;34m'sjs'\u001b[0m\u001b[1;33m)\u001b[0m\u001b[1;33m\u001b[0m\u001b[1;33m\u001b[0m\u001b[0m\n\u001b[0m",
      "\u001b[1;32m~\\AppData\\Local\\Temp/ipykernel_4092/1746551771.py\u001b[0m in \u001b[0;36mtest\u001b[1;34m(a)\u001b[0m\n\u001b[0;32m      1\u001b[0m \u001b[1;32mdef\u001b[0m \u001b[0mtest\u001b[0m\u001b[1;33m(\u001b[0m\u001b[0ma\u001b[0m\u001b[1;33m)\u001b[0m \u001b[1;33m:\u001b[0m\u001b[1;33m\u001b[0m\u001b[1;33m\u001b[0m\u001b[0m\n\u001b[0;32m      2\u001b[0m     \u001b[1;32mif\u001b[0m \u001b[0ma\u001b[0m \u001b[1;33m==\u001b[0m \u001b[1;34m\"sjs\"\u001b[0m \u001b[1;33m:\u001b[0m\u001b[1;33m\u001b[0m\u001b[1;33m\u001b[0m\u001b[0m\n\u001b[1;32m----> 3\u001b[1;33m         \u001b[1;32mraise\u001b[0m \u001b[0mZeroDivisionError\u001b[0m\u001b[1;33m(\u001b[0m\u001b[1;34m\"you have entered a negative value dfsa adsfdsasaf afd\"\u001b[0m \u001b[1;33m,\u001b[0m \u001b[0ma\u001b[0m\u001b[1;33m)\u001b[0m\u001b[1;33m\u001b[0m\u001b[1;33m\u001b[0m\u001b[0m\n\u001b[0m\u001b[0;32m      4\u001b[0m     \u001b[1;32mreturn\u001b[0m \u001b[0ma\u001b[0m\u001b[1;33m\u001b[0m\u001b[1;33m\u001b[0m\u001b[0m\n",
      "\u001b[1;31mZeroDivisionError\u001b[0m: ('you have entered a negative value dfsa adsfdsasaf afd', 'sjs')"
     ]
    }
   ],
   "source": [
    "test('sjs')"
   ]
  },
  {
   "cell_type": "code",
   "execution_count": 11,
   "id": "219b4dd7",
   "metadata": {},
   "outputs": [
    {
     "name": "stdout",
     "output_type": "stream",
     "text": [
      "jalpa\n",
      "callinig my raised exceptoin invalid literal for int() with base 10: 'jalpa'\n"
     ]
    }
   ],
   "source": [
    "try :\n",
    "    a = int(input())\n",
    "    test(a)\n",
    "except Exception as e : \n",
    "    print(\"callinig my raised exceptoin\",e)"
   ]
  },
  {
   "cell_type": "code",
   "execution_count": 9,
   "id": "b60dd4e8",
   "metadata": {},
   "outputs": [
    {
     "data": {
      "text/plain": [
       "-2"
      ]
     },
     "execution_count": 9,
     "metadata": {},
     "output_type": "execute_result"
    }
   ],
   "source": [
    "test(-2)"
   ]
  },
  {
   "cell_type": "code",
   "execution_count": null,
   "id": "ba231d12",
   "metadata": {},
   "outputs": [],
   "source": []
  }
 ],
 "metadata": {
  "kernelspec": {
   "display_name": "Python 3 (ipykernel)",
   "language": "python",
   "name": "python3"
  },
  "language_info": {
   "codemirror_mode": {
    "name": "ipython",
    "version": 3
   },
   "file_extension": ".py",
   "mimetype": "text/x-python",
   "name": "python",
   "nbconvert_exporter": "python",
   "pygments_lexer": "ipython3",
   "version": "3.9.7"
  }
 },
 "nbformat": 4,
 "nbformat_minor": 5
}
