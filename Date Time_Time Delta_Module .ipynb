{
 "cells": [
  {
   "cell_type": "code",
   "execution_count": 1,
   "id": "e3345749",
   "metadata": {},
   "outputs": [],
   "source": [
    "#In Python, date and time are not a data type of their own, but a module named datetime can be imported to work with the date as well as time. \n",
    "#Python Datetime module comes built into Python, so there is no need to install it externally. "
   ]
  },
  {
   "cell_type": "code",
   "execution_count": 16,
   "id": "66f1634b",
   "metadata": {},
   "outputs": [
    {
     "name": "stdout",
     "output_type": "stream",
     "text": [
      "2022-09-20 12:59:44.710933\n"
     ]
    }
   ],
   "source": [
    "import datetime\n",
    "\n",
    "datetime_object = datetime.datetime.now()\n",
    "print(datetime_object)"
   ]
  },
  {
   "cell_type": "code",
   "execution_count": 3,
   "id": "0eedebcb",
   "metadata": {},
   "outputs": [
    {
     "name": "stdout",
     "output_type": "stream",
     "text": [
      "Date passed as argument is 1984-12-11\n"
     ]
    }
   ],
   "source": [
    "#Date object representing date in Python\n",
    "# Python program to demonstrate date class\n",
    "# import the date class\n",
    "from datetime import date\n",
    "# initializing constructor\n",
    "# and passing arguments in the\n",
    "# format year, month, date\n",
    "my_date = date(1984, 12, 11)\n",
    " \n",
    "print(\"Date passed as argument is\", my_date)"
   ]
  },
  {
   "cell_type": "code",
   "execution_count": 4,
   "id": "e0ea734e",
   "metadata": {},
   "outputs": [
    {
     "name": "stdout",
     "output_type": "stream",
     "text": [
      "Today's date is 2022-09-20\n"
     ]
    }
   ],
   "source": [
    "# Write a python code to Get Current Date\n",
    "from datetime import date\n",
    "# calling the today\n",
    "# function of date class\n",
    "today = date.today()\n",
    " \n",
    "print(\"Today's date is\", today)"
   ]
  },
  {
   "cell_type": "code",
   "execution_count": 1,
   "id": "f142d027",
   "metadata": {},
   "outputs": [
    {
     "name": "stdout",
     "output_type": "stream",
     "text": [
      "Current year: 2022\n",
      "Current month: 9\n",
      "Current day: 21\n"
     ]
    }
   ],
   "source": [
    "# Write a python code to Get Today’s Year, Month, and Date\n",
    "from datetime import date\n",
    "today = date.today()\n",
    " \n",
    "print(\"Current year:\", today.year)\n",
    "print(\"Current month:\", today.month)\n",
    "print(\"Current day:\", today.day)"
   ]
  },
  {
   "cell_type": "code",
   "execution_count": null,
   "id": "ec97ec91",
   "metadata": {},
   "outputs": [],
   "source": [
    "import numpy as np\n",
    "import pandas as pd"
   ]
  },
  {
   "cell_type": "code",
   "execution_count": 6,
   "id": "c71f515d",
   "metadata": {},
   "outputs": [
    {
     "name": "stdout",
     "output_type": "stream",
     "text": [
      "Datetime from timestamp: 2029-10-25 21:47:48\n"
     ]
    }
   ],
   "source": [
    "# Write a python code to Get date from Timestamp\n",
    "from datetime import datetime\n",
    " \n",
    "# Getting Datetime from timestamp\n",
    "date_time = datetime.fromtimestamp(1887639468)\n",
    "print(\"Datetime from timestamp:\", date_time)"
   ]
  },
  {
   "cell_type": "code",
   "execution_count": 2,
   "id": "44d95628",
   "metadata": {},
   "outputs": [
    {
     "name": "stdout",
     "output_type": "stream",
     "text": [
      "String Representation 2022-09-21\n",
      "<class 'str'>\n"
     ]
    }
   ],
   "source": [
    "# Write a python code to Convert Date to String\n",
    "today = date.today() # calling the today\n",
    "# Converting the date to the string\n",
    "Str = date.isoformat(today)\n",
    "print(\"String Representation\", Str)\n",
    "print(type(Str))\n",
    " "
   ]
  },
  {
   "cell_type": "code",
   "execution_count": 9,
   "id": "e24489fc",
   "metadata": {},
   "outputs": [
    {
     "name": "stdout",
     "output_type": "stream",
     "text": [
      "Entered time 13:24:56\n",
      "\n",
      "Time with one argument 00:12:00\n",
      "\n",
      "Time without argument 00:00:00\n"
     ]
    }
   ],
   "source": [
    "# demonstrate time class\n",
    " \n",
    "from datetime import time\n",
    " \n",
    "# calling the constructor\n",
    "my_time = time(13, 24, 56)\n",
    " \n",
    "print(\"Entered time\", my_time)\n",
    " \n",
    "# calling constructor with 1 argument\n",
    "my_time = time(minute=12)\n",
    "print(\"\\nTime with one argument\", my_time)\n",
    " \n",
    "# Calling constructor with 0 argument\n",
    "my_time = time()\n",
    "print(\"\\nTime without argument\", my_time)"
   ]
  },
  {
   "cell_type": "code",
   "execution_count": 10,
   "id": "a47e9a34",
   "metadata": {},
   "outputs": [
    {
     "name": "stdout",
     "output_type": "stream",
     "text": [
      "hour = 11\n",
      "minute = 34\n",
      "second = 56\n",
      "microsecond = 0\n"
     ]
    }
   ],
   "source": [
    "# Write a python program Get hours, minutes, seconds, and microseconds\n",
    "from datetime import time\n",
    " \n",
    "Time = time(11, 34, 56)\n",
    " \n",
    "print(\"hour =\", Time.hour)\n",
    "print(\"minute =\", Time.minute)\n",
    "print(\"second =\", Time.second)\n",
    "print(\"microsecond =\", Time.microsecond)"
   ]
  },
  {
   "cell_type": "code",
   "execution_count": 11,
   "id": "6a32b870",
   "metadata": {},
   "outputs": [
    {
     "name": "stdout",
     "output_type": "stream",
     "text": [
      "String Representation: 12:24:36.001212\n",
      "<class 'str'>\n"
     ]
    }
   ],
   "source": [
    "#  Time object to String\n",
    "from datetime import time\n",
    " \n",
    "# Creating Time object\n",
    "Time = time(12,24,36,1212)\n",
    " \n",
    "# Converting Time object to string\n",
    "Str = Time.isoformat()\n",
    "print(\"String Representation:\", Str)\n",
    "print(type(Str))"
   ]
  },
  {
   "cell_type": "code",
   "execution_count": 13,
   "id": "bca9a442",
   "metadata": {},
   "outputs": [
    {
     "name": "stdout",
     "output_type": "stream",
     "text": [
      "2022-12-12 00:00:00\n",
      "2022-12-12 12:12:12.034230\n"
     ]
    }
   ],
   "source": [
    "# DateTime object representing DateTime in Python \n",
    "from datetime import datetime\n",
    " \n",
    "# Initializing constructor\n",
    "a = datetime(2022, 12, 12)\n",
    "print(a)\n",
    " \n",
    "# Initializing constructor\n",
    "# with time parameters as well\n",
    "a = datetime(2022, 12, 12, 12, 12, 12, 34230)\n",
    "print(a)"
   ]
  },
  {
   "cell_type": "code",
   "execution_count": 14,
   "id": "75c0fc62",
   "metadata": {},
   "outputs": [
    {
     "name": "stdout",
     "output_type": "stream",
     "text": [
      "year = 1999\n",
      "month = 12\n",
      "hour = 12\n",
      "minute = 12\n",
      "timestamp = 944980932.0\n"
     ]
    }
   ],
   "source": [
    "# Get year, month, hour, minute, and timestamp\n",
    "from datetime import datetime\n",
    " \n",
    "a = datetime(1999, 12, 12, 12, 12, 12)\n",
    " \n",
    "print(\"year =\", a.year)\n",
    "print(\"month =\", a.month)\n",
    "print(\"hour =\", a.hour)\n",
    "print(\"minute =\", a.minute)\n",
    "print(\"timestamp =\", a.timestamp())"
   ]
  },
  {
   "cell_type": "raw",
   "id": "76056c30",
   "metadata": {},
   "source": [
    "timedelta – A duration expressing the difference between two date, time, or datetime instances to microsecond resolution."
   ]
  },
  {
   "cell_type": "code",
   "execution_count": 18,
   "id": "756c65e2",
   "metadata": {},
   "outputs": [
    {
     "name": "stdout",
     "output_type": "stream",
     "text": [
      "Difference in dates: 31 days, 0:00:00\n",
      "Date 1 after 4 days: 2020-01-07 00:00:00\n",
      "Date 1 before 15 days: 2019-12-23 00:00:00\n"
     ]
    }
   ],
   "source": [
    "# Timedelta function demonstration\n",
    " \n",
    "from datetime import datetime, timedelta\n",
    " \n",
    "# creating datetime objects\n",
    "date1 = datetime(2020, 1, 3)\n",
    "date2 = datetime(2020, 2, 3)\n",
    " \n",
    "# difference between dates\n",
    "diff = date2 - date1\n",
    "print(\"Difference in dates:\", diff)\n",
    " \n",
    "# Adding days to date1\n",
    "date1 += timedelta(days = 4)\n",
    "print(\"Date 1 after 4 days:\", date1)\n",
    " \n",
    "# Subtracting days from date1\n",
    "date1 -= timedelta(15)\n",
    "print(\"Date 1 before 15 days:\", date1)"
   ]
  },
  {
   "cell_type": "code",
   "execution_count": 19,
   "id": "c78e8fee",
   "metadata": {},
   "outputs": [
    {
     "name": "stdout",
     "output_type": "stream",
     "text": [
      "Minimum value of timedelta object -999999999 days, 0:00:00\n",
      "Maximum value of timedelta object 999999999 days, 23:59:59.999999\n"
     ]
    }
   ],
   "source": [
    "from datetime import timedelta\n",
    " \n",
    "# Getting minimum value\n",
    "Min = timedelta.min\n",
    "print(\"Minimum value of timedelta object\", Min)\n",
    " \n",
    "# Getting minimum value\n",
    "Max = timedelta.max\n",
    "print(\"Maximum value of timedelta object\", Max)"
   ]
  },
  {
   "cell_type": "markdown",
   "id": "48860aed",
   "metadata": {},
   "source": [
    "# Calendar Module"
   ]
  },
  {
   "cell_type": "code",
   "execution_count": 21,
   "id": "c76df0ba",
   "metadata": {},
   "outputs": [
    {
     "name": "stdout",
     "output_type": "stream",
     "text": [
      "   September 2022\n",
      "Mo Tu We Th Fr Sa Su\n",
      "          1  2  3  4\n",
      " 5  6  7  8  9 10 11\n",
      "12 13 14 15 16 17 18\n",
      "19 20 21 22 23 24 25\n",
      "26 27 28 29 30\n",
      "\n"
     ]
    }
   ],
   "source": [
    "import calendar\n",
    "   \n",
    "yy = 2022\n",
    "mm = 9\n",
    "   \n",
    "# display the calendar\n",
    "print(calendar.month(yy, mm))"
   ]
  },
  {
   "cell_type": "code",
   "execution_count": 23,
   "id": "217b78e3",
   "metadata": {},
   "outputs": [
    {
     "name": "stdout",
     "output_type": "stream",
     "text": [
      "The calendar of year 2022 is : \n",
      "                                  2022\n",
      "\n",
      "      January                   February                   March\n",
      "Mo Tu We Th Fr Sa Su      Mo Tu We Th Fr Sa Su      Mo Tu We Th Fr Sa Su\n",
      "                1  2          1  2  3  4  5  6          1  2  3  4  5  6\n",
      " 3  4  5  6  7  8  9       7  8  9 10 11 12 13       7  8  9 10 11 12 13\n",
      "10 11 12 13 14 15 16      14 15 16 17 18 19 20      14 15 16 17 18 19 20\n",
      "17 18 19 20 21 22 23      21 22 23 24 25 26 27      21 22 23 24 25 26 27\n",
      "24 25 26 27 28 29 30      28                        28 29 30 31\n",
      "31\n",
      "\n",
      "       April                      May                       June\n",
      "Mo Tu We Th Fr Sa Su      Mo Tu We Th Fr Sa Su      Mo Tu We Th Fr Sa Su\n",
      "             1  2  3                         1             1  2  3  4  5\n",
      " 4  5  6  7  8  9 10       2  3  4  5  6  7  8       6  7  8  9 10 11 12\n",
      "11 12 13 14 15 16 17       9 10 11 12 13 14 15      13 14 15 16 17 18 19\n",
      "18 19 20 21 22 23 24      16 17 18 19 20 21 22      20 21 22 23 24 25 26\n",
      "25 26 27 28 29 30         23 24 25 26 27 28 29      27 28 29 30\n",
      "                          30 31\n",
      "\n",
      "        July                     August                  September\n",
      "Mo Tu We Th Fr Sa Su      Mo Tu We Th Fr Sa Su      Mo Tu We Th Fr Sa Su\n",
      "             1  2  3       1  2  3  4  5  6  7                1  2  3  4\n",
      " 4  5  6  7  8  9 10       8  9 10 11 12 13 14       5  6  7  8  9 10 11\n",
      "11 12 13 14 15 16 17      15 16 17 18 19 20 21      12 13 14 15 16 17 18\n",
      "18 19 20 21 22 23 24      22 23 24 25 26 27 28      19 20 21 22 23 24 25\n",
      "25 26 27 28 29 30 31      29 30 31                  26 27 28 29 30\n",
      "\n",
      "      October                   November                  December\n",
      "Mo Tu We Th Fr Sa Su      Mo Tu We Th Fr Sa Su      Mo Tu We Th Fr Sa Su\n",
      "                1  2          1  2  3  4  5  6                1  2  3  4\n",
      " 3  4  5  6  7  8  9       7  8  9 10 11 12 13       5  6  7  8  9 10 11\n",
      "10 11 12 13 14 15 16      14 15 16 17 18 19 20      12 13 14 15 16 17 18\n",
      "17 18 19 20 21 22 23      21 22 23 24 25 26 27      19 20 21 22 23 24 25\n",
      "24 25 26 27 28 29 30      28 29 30                  26 27 28 29 30 31\n",
      "31\n",
      "\n"
     ]
    }
   ],
   "source": [
    "# Display calendar of the given year.\n",
    "import calendar\n",
    "   \n",
    "# using calendar to print calendar of year\n",
    "# prints calendar of 2018\n",
    "print (\"The calendar of year 2022 is : \")\n",
    "print (calendar.calendar(2022))"
   ]
  },
  {
   "cell_type": "code",
   "execution_count": 26,
   "id": "e091b398",
   "metadata": {
    "scrolled": true
   },
   "outputs": [
    {
     "name": "stdout",
     "output_type": "stream",
     "text": [
      "<table border=\"0\" cellpadding=\"0\" cellspacing=\"0\" class=\"month\">\n",
      "<tr><th colspan=\"7\" class=\"month\">September 2022</th></tr>\n",
      "<tr><th class=\"mon\">Mon</th><th class=\"tue\">Tue</th><th class=\"wed\">Wed</th><th class=\"thu\">Thu</th><th class=\"fri\">Fri</th><th class=\"sat\">Sat</th><th class=\"sun\">Sun</th></tr>\n",
      "<tr><td class=\"noday\">&nbsp;</td><td class=\"noday\">&nbsp;</td><td class=\"noday\">&nbsp;</td><td class=\"thu\">1</td><td class=\"fri\">2</td><td class=\"sat\">3</td><td class=\"sun\">4</td></tr>\n",
      "<tr><td class=\"mon\">5</td><td class=\"tue\">6</td><td class=\"wed\">7</td><td class=\"thu\">8</td><td class=\"fri\">9</td><td class=\"sat\">10</td><td class=\"sun\">11</td></tr>\n",
      "<tr><td class=\"mon\">12</td><td class=\"tue\">13</td><td class=\"wed\">14</td><td class=\"thu\">15</td><td class=\"fri\">16</td><td class=\"sat\">17</td><td class=\"sun\">18</td></tr>\n",
      "<tr><td class=\"mon\">19</td><td class=\"tue\">20</td><td class=\"wed\">21</td><td class=\"thu\">22</td><td class=\"fri\">23</td><td class=\"sat\">24</td><td class=\"sun\">25</td></tr>\n",
      "<tr><td class=\"mon\">26</td><td class=\"tue\">27</td><td class=\"wed\">28</td><td class=\"thu\">29</td><td class=\"fri\">30</td><td class=\"noday\">&nbsp;</td><td class=\"noday\">&nbsp;</td></tr>\n",
      "</table>\n",
      "\n"
     ]
    }
   ],
   "source": [
    "# import html calendar \n",
    "import calendar\n",
    " \n",
    "text_cal = calendar.HTMLCalendar(firstweekday = 0)\n",
    " \n",
    "year = 2022\n",
    "month = 9\n",
    "# default value of width is 0\n",
    " \n",
    "# printing formatmonth\n",
    "print(text_cal.formatmonth(year, month))"
   ]
  },
  {
   "cell_type": "code",
   "execution_count": null,
   "id": "3866883a",
   "metadata": {},
   "outputs": [],
   "source": []
  }
 ],
 "metadata": {
  "kernelspec": {
   "display_name": "Python 3 (ipykernel)",
   "language": "python",
   "name": "python3"
  },
  "language_info": {
   "codemirror_mode": {
    "name": "ipython",
    "version": 3
   },
   "file_extension": ".py",
   "mimetype": "text/x-python",
   "name": "python",
   "nbconvert_exporter": "python",
   "pygments_lexer": "ipython3",
   "version": "3.9.12"
  }
 },
 "nbformat": 4,
 "nbformat_minor": 5
}
