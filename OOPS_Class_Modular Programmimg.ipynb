{
 "cells": [
  {
   "cell_type": "code",
   "execution_count": 8,
   "id": "869c01f3",
   "metadata": {},
   "outputs": [
    {
     "name": "stdout",
     "output_type": "stream",
     "text": [
      "Hello, my name is Nikhil\n"
     ]
    }
   ],
   "source": [
    "# A Sample class with init method\n",
    "class Person:\n",
    " \n",
    "    # init method or constructor\n",
    "    def __init__(self, name):\n",
    "        self.name = name\n",
    " \n",
    "    # Sample Method\n",
    "    def say_hi(self):\n",
    "        print('Hello, my name is', self.name)\n",
    " \n",
    " \n",
    "p = Person('Nikhil')\n",
    "p.say_hi()"
   ]
  },
  {
   "cell_type": "code",
   "execution_count": 9,
   "id": "ebaa6a16",
   "metadata": {},
   "outputs": [
    {
     "name": "stdout",
     "output_type": "stream",
     "text": [
      "my name is jalpa\n"
     ]
    }
   ],
   "source": [
    "print(\"my name is jalpa\")"
   ]
  },
  {
   "cell_type": "code",
   "execution_count": 19,
   "id": "5322d16d",
   "metadata": {},
   "outputs": [],
   "source": [
    "class person:\n",
    "    def __init__(self, name,age, gender, nationality):\n",
    "        self.name = name\n",
    "        self.age = age\n",
    "        self.gender = gender\n",
    "        self.nationality = nationality\n",
    "    def wish(self):\n",
    "        print(\"my name is \", self.name)\n",
    "        print(\"my name is \", self.age)\n",
    "        print(\"I am  \", self.gender)\n",
    "        print(\"I am an\", self.nationality)\n",
    "        "
   ]
  },
  {
   "cell_type": "code",
   "execution_count": 20,
   "id": "7d1fba3c",
   "metadata": {},
   "outputs": [
    {
     "name": "stdout",
     "output_type": "stream",
     "text": [
      "my name is  jalpa\n",
      "my name is  26\n",
      "I am   Female\n",
      "I am an Indian\n"
     ]
    }
   ],
   "source": [
    "p1 = person(\"jalpa\", 26, \"Female\", \"Indian\")\n",
    "p1.wish()"
   ]
  },
  {
   "cell_type": "code",
   "execution_count": 1,
   "id": "931d877d",
   "metadata": {},
   "outputs": [
    {
     "name": "stdout",
     "output_type": "stream",
     "text": [
      "Enter first number: 7\n",
      "Enter second number: 87\n",
      "94\n",
      "609\n",
      "0.08045977011494253\n",
      "-80\n"
     ]
    }
   ],
   "source": [
    "# Simple calculator using class\n",
    "class cal():\n",
    "    \"\"\"This is a simple calculation using class and function for two variable\"\"\"\n",
    "    def __init__(self,a,b):\n",
    "        self.a=a\n",
    "        self.b=b\n",
    "    def add(self):\n",
    "        return self.a+self.b\n",
    "    def mul(self):\n",
    "        return self.a*self.b\n",
    "    def div(self):\n",
    "        return self.a/self.b\n",
    "    def sub(self):\n",
    "        return self.a-self.b\n",
    "a=int(input(\"Enter first number: \"))\n",
    "b=int(input(\"Enter second number: \"))\n",
    "num = cal(a,b)\n",
    "#num = cal(4,8)\n",
    "print(num.add())\n",
    "print(num.mul())\n",
    "print(num.div())\n",
    "print(num.sub())"
   ]
  },
  {
   "cell_type": "code",
   "execution_count": 2,
   "id": "b4c0129b",
   "metadata": {},
   "outputs": [
    {
     "name": "stdout",
     "output_type": "stream",
     "text": [
      "This is positive number\n"
     ]
    }
   ],
   "source": [
    "# Number is positive or negative using class\n",
    "class num():\n",
    "    \"\"\"This is a program to find out the number is negative of positive\"\"\"\n",
    "\n",
    "    def __init__(self,a):\n",
    "        self.a=a\n",
    "    def num_p(self):\n",
    "        try:\n",
    "            if self.a >= 0:\n",
    "                print(\"This is positive number\")\n",
    "            else:\n",
    "                print(\"This is negative number\")\n",
    "        except Exception as e:\n",
    "            print(e)\n",
    "            num1 = int(input(\"Enter the number : \"))\n",
    "num1 = num(7)\n",
    "num1.num_p()"
   ]
  },
  {
   "cell_type": "code",
   "execution_count": 4,
   "id": "0bfe2d40",
   "metadata": {},
   "outputs": [
    {
     "name": "stdout",
     "output_type": "stream",
     "text": [
      "Enter Weight of the Person (Kg) : 60\n",
      "Enter Height of the Person (Meters): 0\n",
      "float division by zero\n"
     ]
    }
   ],
   "source": [
    "# BMI calculation using Class \n",
    "class BMI():\n",
    "    \"\"\" This is a program for to calculate body mass index for person\"\"\"\n",
    "    def __init__(self,w,h):\n",
    "        self.w = w\n",
    "        self.h = h\n",
    "    def bmi_cal(self):\n",
    "        try:\n",
    "            bmi = self.w / ((self.h) * (self.h))\n",
    "            print(bmi)\n",
    "        except Exception as e:\n",
    "            print(e)\n",
    "            \n",
    "try:\n",
    "    w=float(input(\"Enter Weight of the Person (Kg) : \"))\n",
    "    h=float(input(\"Enter Height of the Person (Meters): \"))\n",
    "    obj=BMI(w,h)\n",
    "    obj.bmi_cal()\n",
    "\n",
    "except:\n",
    "    print(\"Error in  our program\")\n",
    "    "
   ]
  },
  {
   "cell_type": "code",
   "execution_count": 3,
   "id": "3385fd9c",
   "metadata": {},
   "outputs": [
    {
     "name": "stdout",
     "output_type": "stream",
     "text": [
      "After Converting Dictionary to Class : \n",
      "Geeks 1223 Python\n",
      "<class '__main__.Dict2Class'>\n"
     ]
    }
   ],
   "source": [
    "# Turns a dictionary into a class\n",
    "class Dict2Class(object):\n",
    "      \n",
    "    def __init__(self, my_dict):\n",
    "          \n",
    "        for key in my_dict:\n",
    "            setattr(self, key, my_dict[key])\n",
    "  \n",
    "# Driver Code\n",
    "if __name__ == \"__main__\":\n",
    "      \n",
    "    # Creating the dictionary\n",
    "    my_dict = {\"Name\": \"Geeks\",\n",
    "               \"Rank\": \"1223\",\n",
    "               \"Subject\": \"Python\"}\n",
    "      \n",
    "    result = Dict2Class(my_dict)\n",
    "      \n",
    "    # printing the result\n",
    "    print(\"After Converting Dictionary to Class : \")\n",
    "    print(result.Name, result.Rank, result.Subject)\n",
    "    print(type(result))"
   ]
  },
  {
   "cell_type": "code",
   "execution_count": null,
   "id": "c5693c3f",
   "metadata": {},
   "outputs": [],
   "source": [
    "class cal():\n",
    "    def __init__(self,a,b):\n",
    "        self.a=a\n",
    "        self.b=b\n",
    "    def add(self):\n",
    "        return self.a+self.b\n",
    "    def mul(self):\n",
    "        return self.a*self.b\n",
    "    def div(self):\n",
    "        return self.a/self.b\n",
    "    def sub(self):\n",
    "        return self.a-self.b\n",
    "a=int(input(\"Enter first number: \"))\n",
    "b=int(input(\"Enter second number: \"))\n",
    "obj=cal(a,b)\n",
    "choice=1\n",
    "while choice!=0:\n",
    "    print(\"0. Exit\")\n",
    "    print(\"1. Add\")\n",
    "    print(\"2. Subtraction\")\n",
    "    print(\"3. Multiplication\")\n",
    "    print(\"4. Division\")\n",
    "    choice=int(input(\"Enter choice: \"))\n",
    "    if choice==1:\n",
    "        print(\"Result: \",obj.add())\n",
    "    elif choice==2:\n",
    "        print(\"Result: \",obj.sub())\n",
    "    elif choice==3:\n",
    "        print(\"Result: \",obj.mul())\n",
    "    elif choice==4:\n",
    "        print(\"Result: \",round(obj.div(),2))\n",
    "    elif choice==0:\n",
    "        print(\"Exiting!\")\n",
    "    else:\n",
    "        print(\"Invalid choice!!\")\n",
    "print()"
   ]
  }
 ],
 "metadata": {
  "kernelspec": {
   "display_name": "Python 3 (ipykernel)",
   "language": "python",
   "name": "python3"
  },
  "language_info": {
   "codemirror_mode": {
    "name": "ipython",
    "version": 3
   },
   "file_extension": ".py",
   "mimetype": "text/x-python",
   "name": "python",
   "nbconvert_exporter": "python",
   "pygments_lexer": "ipython3",
   "version": "3.9.12"
  }
 },
 "nbformat": 4,
 "nbformat_minor": 5
}
