{
  "cells": [
    {
      "cell_type": "code",
      "execution_count": null,
      "id": "7bfb6729",
      "metadata": {
        "colab": {
          "base_uri": "https://localhost:8080/"
        },
        "id": "7bfb6729",
        "outputId": "f5cec4ee-146b-4e09-b3dd-3b967d33fb8f"
      },
      "outputs": [
        {
          "output_type": "stream",
          "name": "stdout",
          "text": [
            "apple\n",
            "apple\n",
            "apple\n"
          ]
        }
      ],
      "source": [
        "l = [\"apple\", \"banana\", \"cherry\"]\n",
        "for i in l:\n",
        "  print(l[0])"
      ]
    },
    {
      "cell_type": "code",
      "execution_count": null,
      "id": "c5d59a74",
      "metadata": {
        "id": "c5d59a74",
        "outputId": "ea5c4c48-cd13-4369-97a7-1ca501fb87a9"
      },
      "outputs": [
        {
          "name": "stdout",
          "output_type": "stream",
          "text": [
            "b\n",
            "a\n",
            "n\n",
            "a\n",
            "n\n",
            "a\n"
          ]
        }
      ],
      "source": [
        "for x in \"banana\":\n",
        "  print(x)"
      ]
    },
    {
      "cell_type": "code",
      "execution_count": null,
      "id": "06adcc70",
      "metadata": {
        "id": "06adcc70"
      },
      "outputs": [],
      "source": [
        "fruits = [\"apple\", \"banana\", \"cherry\"]\n",
        "for x in fruits:\n",
        "  if x != \"cherry\":\n",
        "    break\n",
        "  print(x)\n"
      ]
    },
    {
      "cell_type": "code",
      "execution_count": null,
      "id": "81944f32",
      "metadata": {
        "colab": {
          "base_uri": "https://localhost:8080/"
        },
        "id": "81944f32",
        "outputId": "45d3f041-ab67-41cb-ce3d-1ec327c46668"
      },
      "outputs": [
        {
          "output_type": "stream",
          "name": "stdout",
          "text": [
            "apple\n",
            "banana\n"
          ]
        }
      ],
      "source": [
        "fruits = [\"apple\", \"banana\", \"cherry\"]\n",
        "for x in fruits:\n",
        "  if x == \"cherry\":\n",
        "    break\n",
        "  print(x)"
      ]
    },
    {
      "cell_type": "code",
      "execution_count": null,
      "id": "56668ffe",
      "metadata": {
        "colab": {
          "base_uri": "https://localhost:8080/"
        },
        "id": "56668ffe",
        "outputId": "75a1ea74-08cc-4d53-8ae8-59f289617a3e"
      },
      "outputs": [
        {
          "output_type": "stream",
          "name": "stdout",
          "text": [
            "apple\n",
            "cherry\n"
          ]
        }
      ],
      "source": [
        "fruits = [\"apple\", \"banana\", \"cherry\"]\n",
        "for x in fruits:\n",
        "  if x == \"banana\":\n",
        "    continue\n",
        "  print(x)"
      ]
    },
    {
      "cell_type": "code",
      "source": [
        "for i in range(0,20,4):\n",
        "  print(i)"
      ],
      "metadata": {
        "colab": {
          "base_uri": "https://localhost:8080/"
        },
        "id": "6HfdY1v2FNpW",
        "outputId": "f737de86-2d48-4d4a-ea31-9f9e2b448c5d"
      },
      "id": "6HfdY1v2FNpW",
      "execution_count": null,
      "outputs": [
        {
          "output_type": "stream",
          "name": "stdout",
          "text": [
            "0\n",
            "4\n",
            "8\n",
            "12\n",
            "16\n"
          ]
        }
      ]
    },
    {
      "cell_type": "code",
      "source": [
        "a = \"jalpa\"\n",
        "for i in a[::-1]:\n",
        "  print(i)"
      ],
      "metadata": {
        "colab": {
          "base_uri": "https://localhost:8080/"
        },
        "id": "3i-XHb33GZrd",
        "outputId": "fcdf917f-82eb-4f0d-d4c4-6964335d106d"
      },
      "id": "3i-XHb33GZrd",
      "execution_count": null,
      "outputs": [
        {
          "output_type": "stream",
          "name": "stdout",
          "text": [
            "a\n",
            "p\n",
            "l\n",
            "a\n",
            "j\n"
          ]
        }
      ]
    },
    {
      "cell_type": "code",
      "source": [
        "\\l = [3,4,5,6]\n",
        "for i in l[::-1]:\n",
        "  print(i)"
      ],
      "metadata": {
        "colab": {
          "base_uri": "https://localhost:8080/"
        },
        "id": "5fj4sX6JybL-",
        "outputId": "2b09bf58-221a-4ebb-d32f-6b15365e46a2"
      },
      "id": "5fj4sX6JybL-",
      "execution_count": null,
      "outputs": [
        {
          "output_type": "stream",
          "name": "stdout",
          "text": [
            "6\n",
            "5\n",
            "4\n",
            "3\n"
          ]
        }
      ]
    },
    {
      "cell_type": "code",
      "source": [
        "a = \"jalpa\"\n",
        "a[::-1]"
      ],
      "metadata": {
        "colab": {
          "base_uri": "https://localhost:8080/",
          "height": 35
        },
        "id": "0av3KKzoHjss",
        "outputId": "9b154789-04b4-4af6-9c79-495f77873bd2"
      },
      "id": "0av3KKzoHjss",
      "execution_count": null,
      "outputs": [
        {
          "output_type": "execute_result",
          "data": {
            "text/plain": [
              "'aplaj'"
            ],
            "application/vnd.google.colaboratory.intrinsic+json": {
              "type": "string"
            }
          },
          "metadata": {},
          "execution_count": 21
        }
      ]
    },
    {
      "cell_type": "code",
      "source": [
        "a= \"jalpa\"\n",
        "for i in a[::-1]:\n",
        "  print(i)"
      ],
      "metadata": {
        "colab": {
          "base_uri": "https://localhost:8080/"
        },
        "id": "nsIVSePeHEFj",
        "outputId": "e4d19210-4425-4d67-8f35-7d51826553a8"
      },
      "id": "nsIVSePeHEFj",
      "execution_count": null,
      "outputs": [
        {
          "output_type": "stream",
          "name": "stdout",
          "text": [
            "a\n",
            "p\n",
            "l\n",
            "a\n",
            "j\n"
          ]
        }
      ]
    },
    {
      "cell_type": "code",
      "execution_count": null,
      "id": "9fdae246",
      "metadata": {
        "id": "9fdae246",
        "outputId": "f12e4108-155f-4a43-d0d9-404b7c816518",
        "colab": {
          "base_uri": "https://localhost:8080/"
        }
      },
      "outputs": [
        {
          "output_type": "stream",
          "name": "stdout",
          "text": [
            "1\n",
            "2\n",
            "3\n",
            "4\n",
            "5\n"
          ]
        }
      ],
      "source": [
        "for x in range(1,6):\n",
        "  print(x)"
      ]
    },
    {
      "cell_type": "code",
      "source": [
        "dict1 = { 1 : \"jalpa\", 2: \"Harsh\", 3:\"Vishal\", 4:\"Archana\", 5: \"Sparsh\", \"hjh\":\"njksjdc\"}\n",
        "dict1.keys()\n",
        "dict1.values()"
      ],
      "metadata": {
        "colab": {
          "base_uri": "https://localhost:8080/"
        },
        "id": "e2MZuIOiIQrV",
        "outputId": "0591af42-59f8-4ba4-f69d-59196faf7728"
      },
      "id": "e2MZuIOiIQrV",
      "execution_count": null,
      "outputs": [
        {
          "output_type": "execute_result",
          "data": {
            "text/plain": [
              "dict_values(['jalpa', 'Harsh', 'Vishal', 'Archana', 'Sparsh', 'njksjdc'])"
            ]
          },
          "metadata": {},
          "execution_count": 6
        }
      ]
    },
    {
      "cell_type": "code",
      "source": [
        "for i in dict1.keys():\n",
        "  print(i)"
      ],
      "metadata": {
        "colab": {
          "base_uri": "https://localhost:8080/"
        },
        "id": "OsbtWnWXLDJG",
        "outputId": "62bb4031-a80d-4fc4-8503-453d47792118"
      },
      "id": "OsbtWnWXLDJG",
      "execution_count": null,
      "outputs": [
        {
          "output_type": "stream",
          "name": "stdout",
          "text": [
            "1\n",
            "2\n",
            "3\n",
            "4\n",
            "5\n",
            "hjh\n"
          ]
        }
      ]
    },
    {
      "cell_type": "code",
      "source": [
        "for i in dict1.values():\n",
        "  print(i)"
      ],
      "metadata": {
        "colab": {
          "base_uri": "https://localhost:8080/"
        },
        "id": "HslJoiC9LV65",
        "outputId": "0557bee6-5edf-4aa3-e75f-d7004b19b27a"
      },
      "id": "HslJoiC9LV65",
      "execution_count": null,
      "outputs": [
        {
          "output_type": "stream",
          "name": "stdout",
          "text": [
            "jalpa\n",
            "Harsh\n",
            "Vishal\n",
            "Archana\n",
            "Sparsh\n",
            "njksjdc\n"
          ]
        }
      ]
    },
    {
      "cell_type": "code",
      "source": [
        "l = [2,3,4,'jh','hh',9]"
      ],
      "metadata": {
        "id": "CEuNogbmL3S2"
      },
      "id": "CEuNogbmL3S2",
      "execution_count": null,
      "outputs": []
    },
    {
      "cell_type": "code",
      "execution_count": null,
      "id": "25f48cf2",
      "metadata": {
        "id": "25f48cf2",
        "outputId": "fc2ca7a0-d43a-40cf-ec49-9166a2fedc30"
      },
      "outputs": [
        {
          "name": "stdout",
          "output_type": "stream",
          "text": [
            "2\n",
            "5\n",
            "8\n",
            "11\n",
            "14\n",
            "17\n",
            "20\n",
            "23\n",
            "26\n",
            "29\n"
          ]
        }
      ],
      "source": [
        "for x in range(2, 30, 3):\n",
        "  print(x)"
      ]
    },
    {
      "cell_type": "code",
      "execution_count": null,
      "id": "50c7e99c",
      "metadata": {
        "id": "50c7e99c",
        "outputId": "b1889118-6215-4f65-ab89-4b5fc8827fc9"
      },
      "outputs": [
        {
          "name": "stdout",
          "output_type": "stream",
          "text": [
            "0\n",
            "1\n",
            "2\n",
            "3\n",
            "4\n",
            "5\n",
            "Finally finished!\n"
          ]
        }
      ],
      "source": [
        "for x in range(6):\n",
        "  print(x)\n",
        "else:\n",
        "  print(\"Finally finished!\")"
      ]
    },
    {
      "cell_type": "code",
      "execution_count": null,
      "id": "78dee263",
      "metadata": {
        "id": "78dee263",
        "outputId": "80033601-3822-4601-ca96-b108cd80b8d4"
      },
      "outputs": [
        {
          "name": "stdout",
          "output_type": "stream",
          "text": [
            "red apple\n",
            "red banana\n",
            "red cherry\n",
            "big apple\n",
            "big banana\n",
            "big cherry\n",
            "tasty apple\n",
            "tasty banana\n",
            "tasty cherry\n"
          ]
        }
      ],
      "source": [
        "adj = [\"red\", \"big\", \"tasty\"]\n",
        "fruits = [\"apple\", \"banana\", \"cherry\"]\n",
        "\n",
        "for x in adj:\n",
        "  for y in fruits:\n",
        "    print(x, y)"
      ]
    },
    {
      "cell_type": "code",
      "execution_count": null,
      "id": "ae2fd9ba",
      "metadata": {
        "id": "ae2fd9ba"
      },
      "outputs": [],
      "source": [
        "for x in [0, 1, 2]:\n",
        "  pass"
      ]
    },
    {
      "cell_type": "code",
      "source": [
        "s = \"My name is jalpa\"\n",
        "for i in s :\n",
        "    if i == 's':\n",
        "        print(\" i got s as a string \")\n",
        "    print(i)"
      ],
      "metadata": {
        "colab": {
          "base_uri": "https://localhost:8080/"
        },
        "id": "_DdYrRzbltg0",
        "outputId": "59aa9afa-1aac-412c-c853-689681076a16"
      },
      "id": "_DdYrRzbltg0",
      "execution_count": null,
      "outputs": [
        {
          "output_type": "stream",
          "name": "stdout",
          "text": [
            "M\n",
            "y\n",
            " \n",
            "n\n",
            "a\n",
            "m\n",
            "e\n",
            " \n",
            "i\n",
            " i got s as a string \n",
            "s\n",
            " \n",
            "j\n",
            "a\n",
            "l\n",
            "p\n",
            "a\n"
          ]
        }
      ]
    },
    {
      "cell_type": "code",
      "source": [
        "for i in s :\n",
        "    if i == \"n\":\n",
        "        continue \n",
        "    print(i)\n",
        "else :\n",
        "    if i == 'u':\n",
        "        print(\"last char was u \")\n",
        "    print(\"this is a else condtion \")"
      ],
      "metadata": {
        "colab": {
          "base_uri": "https://localhost:8080/"
        },
        "id": "FJrA5Fc-l4UR",
        "outputId": "e7f2ad8d-05fc-4d70-e831-bb1dd9937e30"
      },
      "id": "FJrA5Fc-l4UR",
      "execution_count": null,
      "outputs": [
        {
          "output_type": "stream",
          "name": "stdout",
          "text": [
            "M\n",
            "y\n",
            " \n",
            "a\n",
            "m\n",
            "e\n",
            " \n",
            "i\n",
            "s\n",
            " \n",
            "j\n",
            "a\n",
            "l\n",
            "p\n",
            "a\n",
            "this is a else condtion \n"
          ]
        }
      ]
    },
    {
      "cell_type": "code",
      "source": [
        "s =  \"bit infotech\"\n",
        "ss = \"\"\n",
        "for i in range(len(s)):\n",
        "    if s[i] == \"b\":\n",
        "        continue\n",
        "    else :\n",
        "        ss = ss + s[i]"
      ],
      "metadata": {
        "id": "9Qq64QiAl-T5"
      },
      "id": "9Qq64QiAl-T5",
      "execution_count": null,
      "outputs": []
    },
    {
      "cell_type": "code",
      "execution_count": null,
      "id": "00ccb31d",
      "metadata": {
        "id": "00ccb31d",
        "outputId": "a03ad69c-aab1-44c9-daa2-b6b3bd89aade"
      },
      "outputs": [
        {
          "name": "stdout",
          "output_type": "stream",
          "text": [
            "0\n",
            "1\n",
            "5\n",
            "No items left.\n"
          ]
        }
      ],
      "source": [
        "digits = [0, 1, 5]\n",
        "\n",
        "for i in digits:\n",
        "    print(i)\n",
        "else:\n",
        "    print(\"No items left.\")"
      ]
    },
    {
      "cell_type": "code",
      "execution_count": null,
      "id": "8f8d0154",
      "metadata": {
        "id": "8f8d0154",
        "outputId": "77df1880-8969-4aee-bc94-6aee7812c22a"
      },
      "outputs": [
        {
          "name": "stdout",
          "output_type": "stream",
          "text": [
            "No entry with that name found.\n"
          ]
        }
      ],
      "source": [
        "# program to display student's marks from record\n",
        "student_name = 'Soyuj'\n",
        "\n",
        "marks = {'James': 90, 'Jules': 55, 'Arthur': 77}\n",
        "\n",
        "for student in marks:\n",
        "    if student == student_name:\n",
        "        print(marks[student])\n",
        "        break\n",
        "else:\n",
        "    print('No entry with that name found.')"
      ]
    },
    {
      "cell_type": "code",
      "execution_count": null,
      "id": "ad08902e",
      "metadata": {
        "id": "ad08902e",
        "outputId": "87bade7d-ac00-42f0-baf3-69adf6e87d38"
      },
      "outputs": [
        {
          "name": "stdout",
          "output_type": "stream",
          "text": [
            "Enter number of rows: 5\n",
            "1 \n",
            "\n",
            "1 2 \n",
            "\n",
            "1 2 3 \n",
            "\n",
            "1 2 3 4 \n",
            "\n",
            "1 2 3 4 5 \n",
            "\n"
          ]
        }
      ],
      "source": [
        "rows = int(input(\"Enter number of rows: \"))\n",
        "\n",
        "for i in range(rows):\n",
        "    for j in range(i+1):\n",
        "        print(j+1, end=\" \")\n",
        "    print(\"\\n\")"
      ]
    },
    {
      "cell_type": "code",
      "execution_count": null,
      "id": "3a8c0389",
      "metadata": {
        "id": "3a8c0389",
        "outputId": "da106f52-b986-4228-d876-923f3e703b60"
      },
      "outputs": [
        {
          "name": "stdout",
          "output_type": "stream",
          "text": [
            "Enter number of rows: 5\n",
            "A \n",
            "\n",
            "B B \n",
            "\n",
            "C C C \n",
            "\n",
            "D D D D \n",
            "\n",
            "E E E E E \n",
            "\n"
          ]
        }
      ],
      "source": [
        "rows = int(input(\"Enter number of rows: \"))\n",
        "\n",
        "ascii_value = 65\n",
        "\n",
        "for i in range(rows):\n",
        "    for j in range(i+1):\n",
        "        alphabet = chr(ascii_value)\n",
        "        print(alphabet, end=\" \")\n",
        "    \n",
        "    ascii_value += 1\n",
        "    print(\"\\n\")"
      ]
    },
    {
      "cell_type": "code",
      "source": [
        "rows = int(input(\"Enter number of rows: \"))\n",
        "\n",
        "#ascii_value = 65\n",
        "\n",
        "for i in range(rows):\n",
        "    for j in range(65,65+i):\n",
        "        #alphabet = chr(ascii_value)\n",
        "        print(chr(j), end=\" \")\n",
        "    \n",
        "    #ascii_value += 1\n",
        "    print(\"\\n\")"
      ],
      "metadata": {
        "colab": {
          "base_uri": "https://localhost:8080/"
        },
        "id": "N0OWzZ9v4YiW",
        "outputId": "c124d358-466c-4412-d4f5-96501d3f3497"
      },
      "id": "N0OWzZ9v4YiW",
      "execution_count": null,
      "outputs": [
        {
          "output_type": "stream",
          "name": "stdout",
          "text": [
            "Enter number of rows: 4\n",
            "\n",
            "\n",
            "A \n",
            "\n",
            "A B \n",
            "\n",
            "A B C \n",
            "\n"
          ]
        }
      ]
    },
    {
      "cell_type": "code",
      "source": [
        "rows = int(input(\"Enter number of rows: \"))\n",
        "\n",
        "#ascii_value = 65\n",
        "\n",
        "for i in range(rows,0,-1):\n",
        "    for j in range(65,65+i):\n",
        "        #alphabet = chr(ascii_value)\n",
        "        print(chr(j), end=\" \")\n",
        "    \n",
        "    #ascii_value += 1\n",
        "    print(\"\\n\")"
      ],
      "metadata": {
        "colab": {
          "base_uri": "https://localhost:8080/"
        },
        "id": "rQrZ43XI2s9V",
        "outputId": "c3cf98e5-4f96-446b-95e6-0bf3d2ec28c0"
      },
      "id": "rQrZ43XI2s9V",
      "execution_count": null,
      "outputs": [
        {
          "output_type": "stream",
          "name": "stdout",
          "text": [
            "Enter number of rows: 6\n",
            "A B C D E F \n",
            "\n",
            "A B C D E \n",
            "\n",
            "A B C D \n",
            "\n",
            "A B C \n",
            "\n",
            "A B \n",
            "\n",
            "A \n",
            "\n"
          ]
        }
      ]
    },
    {
      "cell_type": "code",
      "execution_count": null,
      "id": "1da50f2c",
      "metadata": {
        "id": "1da50f2c",
        "outputId": "9053fc33-cfa1-4555-b4dd-072824da57ac"
      },
      "outputs": [
        {
          "name": "stdout",
          "output_type": "stream",
          "text": [
            "Enter number of rows: 5\n",
            "*  *  *  *  *  \n",
            "\n",
            "*  *  *  *  \n",
            "\n",
            "*  *  *  \n",
            "\n",
            "*  *  \n",
            "\n",
            "*  \n",
            "\n"
          ]
        }
      ],
      "source": [
        "rows = int(input(\"Enter number of rows: \"))\n",
        "\n",
        "for i in range(rows, 0, -1):\n",
        "    for j in range(0, i):\n",
        "        print(\"* \", end=\" \")\n",
        "    \n",
        "    print(\"\\n\")"
      ]
    },
    {
      "cell_type": "code",
      "source": [
        "rows = int(input(\"Enter number of rows: \"))\n",
        "\n",
        "for i in range(rows, 0, -1):\n",
        "    for j in range(1, i):\n",
        "        print(j, end=\" \")\n",
        "    \n",
        "    print(\"\\n\")"
      ],
      "metadata": {
        "colab": {
          "base_uri": "https://localhost:8080/"
        },
        "id": "gLGXd7_W1S1f",
        "outputId": "af25dc78-983f-4ca1-fd65-cd5cc17c0fcf"
      },
      "id": "gLGXd7_W1S1f",
      "execution_count": null,
      "outputs": [
        {
          "output_type": "stream",
          "name": "stdout",
          "text": [
            "Enter number of rows: 5\n",
            "1 2 3 4 \n",
            "\n",
            "1 2 3 \n",
            "\n",
            "1 2 \n",
            "\n",
            "1 \n",
            "\n",
            "\n",
            "\n"
          ]
        }
      ]
    },
    {
      "cell_type": "code",
      "source": [
        "n=6\n",
        "d=range(n, 0, -1)\n",
        "d"
      ],
      "metadata": {
        "colab": {
          "base_uri": "https://localhost:8080/"
        },
        "id": "QBj8qwSd0KjG",
        "outputId": "148f2a07-f649-4960-c60f-0b53b4323df5"
      },
      "id": "QBj8qwSd0KjG",
      "execution_count": null,
      "outputs": [
        {
          "output_type": "execute_result",
          "data": {
            "text/plain": [
              "range(6, 0, -1)"
            ]
          },
          "metadata": {},
          "execution_count": 10
        }
      ]
    },
    {
      "cell_type": "code",
      "execution_count": null,
      "id": "36b0e729",
      "metadata": {
        "id": "36b0e729",
        "outputId": "82a96c6a-2bd2-4dba-c06c-e4fc46593719"
      },
      "outputs": [
        {
          "name": "stdout",
          "output_type": "stream",
          "text": [
            "Enter number of rows: 5\n",
            "1 2 3 4 5 \n",
            "\n",
            "1 2 3 4 \n",
            "\n",
            "1 2 3 \n",
            "\n",
            "1 2 \n",
            "\n",
            "1 \n",
            "\n"
          ]
        }
      ],
      "source": [
        "rows = int(input(\"Enter number of rows: \"))\n",
        "\n",
        "for i in range(rows, 0, -1):\n",
        "    for j in range(1, i+1):\n",
        "        print(j, end=\" \")\n",
        "    \n",
        "    print(\"\\n\")"
      ]
    },
    {
      "cell_type": "code",
      "execution_count": null,
      "id": "a2c30269",
      "metadata": {
        "id": "a2c30269",
        "outputId": "7b5f6fb9-dbea-43bd-8f03-7247b318198e"
      },
      "outputs": [
        {
          "name": "stdout",
          "output_type": "stream",
          "text": [
            "Enter number of rows: 4\n",
            "      * \n",
            "    * * * \n",
            "  * * * * * \n",
            "* * * * * * * \n"
          ]
        }
      ],
      "source": [
        "rows = int(input(\"Enter number of rows: \"))\n",
        "\n",
        "k = 0\n",
        "\n",
        "for i in range(1, rows+1):\n",
        "    for space in range(1, (rows-i)+1):\n",
        "        print(end=\"  \")\n",
        "   \n",
        "    while k!=(2*i-1):\n",
        "        print(\"* \", end=\"\")\n",
        "        k += 1\n",
        "   \n",
        "    k = 0\n",
        "    print()"
      ]
    },
    {
      "cell_type": "code",
      "execution_count": null,
      "id": "3bbcf072",
      "metadata": {
        "id": "3bbcf072",
        "outputId": "4a321f4b-adc4-43f4-cf01-07e58c8c88af"
      },
      "outputs": [
        {
          "name": "stdout",
          "output_type": "stream",
          "text": [
            "Enter number of rows: 4\n",
            "* * * * * \n",
            "  * * * \n",
            "    * \n"
          ]
        }
      ],
      "source": [
        "rows = int(input(\"Enter number of rows: \"))\n",
        "\n",
        "for i in range(rows, 1, -1):\n",
        "    for space in range(0, rows-i):\n",
        "        print(\"  \", end=\"\")\n",
        "    for j in range(i, 2*i-1):\n",
        "        print(\"* \", end=\"\")\n",
        "    for j in range(1, i-1):\n",
        "        print(\"* \", end=\"\")\n",
        "    print()"
      ]
    },
    {
      "cell_type": "code",
      "execution_count": null,
      "id": "ee93a6e3",
      "metadata": {
        "id": "ee93a6e3",
        "outputId": "1ac6683b-5edf-4f55-d4a7-bb328d7cca04"
      },
      "outputs": [
        {
          "name": "stdout",
          "output_type": "stream",
          "text": [
            "Enter number of rows: 4\n",
            "1 \n",
            "2 3 \n",
            "4 5 6 \n",
            "7 8 9 10 \n"
          ]
        }
      ],
      "source": [
        "# Floyd's Triangle\n",
        "rows = int(input(\"Enter number of rows: \"))\n",
        "number = 1\n",
        "\n",
        "for i in range(1, rows+1):\n",
        "    for j in range(1, i+1):\n",
        "        print(number, end=\" \")\n",
        "        number += 1\n",
        "    print()"
      ]
    },
    {
      "cell_type": "code",
      "execution_count": null,
      "id": "614b698e",
      "metadata": {
        "id": "614b698e",
        "outputId": "350b579a-efbc-47cd-d2b8-72c7cc3862e4"
      },
      "outputs": [
        {
          "name": "stdout",
          "output_type": "stream",
          "text": [
            "     \n",
            "    *\n",
            "   **\n",
            "  ***\n",
            " ****\n",
            "*****\n"
          ]
        }
      ],
      "source": [
        "n=5;i=0\n",
        "while(i<=n):\n",
        "  print(\" \" * (n - i) +\"*\" * i)\n",
        "  i+=1"
      ]
    },
    {
      "cell_type": "code",
      "execution_count": null,
      "id": "5f28dd53",
      "metadata": {
        "id": "5f28dd53",
        "outputId": "b2ed0a21-4cf4-4225-b317-d9154f35112c"
      },
      "outputs": [
        {
          "name": "stdout",
          "output_type": "stream",
          "text": [
            "    *\n",
            "   **\n",
            "  ***\n",
            " ****\n",
            "*****\n"
          ]
        }
      ],
      "source": [
        "h = 5\n",
        "for row in range(1, h+ 1):\n",
        "    print(\" \" * (h - row) +\"*\" * row)"
      ]
    },
    {
      "cell_type": "code",
      "execution_count": null,
      "id": "b9228587",
      "metadata": {
        "id": "b9228587",
        "colab": {
          "base_uri": "https://localhost:8080/"
        },
        "outputId": "0635c630-369d-433e-c36d-cf975bbdac26"
      },
      "outputs": [
        {
          "output_type": "stream",
          "name": "stdout",
          "text": [
            "Enter the height of the person1.52\n",
            "Enter the weight of the person60\n",
            "25.969529085872576  is the BMI for the person\n"
          ]
        }
      ],
      "source": [
        "H = float(input(\"Enter the height of the person\")) # Height should be enter in meter\n",
        "W = float(input(\"Enter the weight of the person\"))\n",
        "\n",
        "BMI = (W / (H * H))\n",
        "\n",
        "print(BMI, \" is the BMI for the person\")\n"
      ]
    },
    {
      "cell_type": "code",
      "source": [
        "i = 1\n",
        "j = 5\n",
        "while i < j:\n",
        "  print(i * '*')\n",
        "  i = i+1\n"
      ],
      "metadata": {
        "colab": {
          "base_uri": "https://localhost:8080/"
        },
        "id": "U6x-hCpHiItV",
        "outputId": "18f156b5-98f3-460c-a9b2-724837e8d837"
      },
      "id": "U6x-hCpHiItV",
      "execution_count": null,
      "outputs": [
        {
          "output_type": "stream",
          "name": "stdout",
          "text": [
            "*\n",
            "**\n",
            "***\n",
            "****\n"
          ]
        }
      ]
    },
    {
      "cell_type": "code",
      "source": [
        "initial_speed  = 0\n",
        "final_speed = 100\n",
        "count = 1\n",
        "while initial_speed < final_speed:\n",
        "  print(\"This is my current speed\")\n",
        "  count = count + 1\n",
        "  if count == 5:\n",
        "    break"
      ],
      "metadata": {
        "colab": {
          "base_uri": "https://localhost:8080/"
        },
        "id": "CWhGH9G-iVAx",
        "outputId": "39ef5d8d-90b5-453a-9747-d59b335f0f63"
      },
      "id": "CWhGH9G-iVAx",
      "execution_count": null,
      "outputs": [
        {
          "output_type": "stream",
          "name": "stdout",
          "text": [
            "This is my current speed\n",
            "This is my current speed\n",
            "This is my current speed\n",
            "This is my current speed\n"
          ]
        }
      ]
    },
    {
      "cell_type": "code",
      "source": [
        "notes  = 5 \n",
        "sum = 1\n",
        "while sum < notes:\n",
        "  print(sum)\n",
        "  sum = sum + 1\n",
        "print(\"No, Rs. 10 notes are available\")"
      ],
      "metadata": {
        "colab": {
          "base_uri": "https://localhost:8080/"
        },
        "id": "360cl6wVkBfT",
        "outputId": "925c8b42-36e1-4c8b-c639-5b66c79919cb"
      },
      "id": "360cl6wVkBfT",
      "execution_count": null,
      "outputs": [
        {
          "output_type": "stream",
          "name": "stdout",
          "text": [
            "1\n",
            "2\n",
            "3\n",
            "4\n",
            "No, Rs. 10 notes are available\n"
          ]
        }
      ]
    },
    {
      "cell_type": "code",
      "source": [
        "h = 'Harsh'\n",
        "for i in h:\n",
        "  print(i)"
      ],
      "metadata": {
        "colab": {
          "base_uri": "https://localhost:8080/"
        },
        "id": "Fhe4XtQmK2pI",
        "outputId": "f05d281b-65a1-4428-add5-731b340d59a6"
      },
      "id": "Fhe4XtQmK2pI",
      "execution_count": null,
      "outputs": [
        {
          "output_type": "stream",
          "name": "stdout",
          "text": [
            "H\n",
            "a\n",
            "r\n",
            "s\n",
            "h\n"
          ]
        }
      ]
    },
    {
      "cell_type": "code",
      "source": [
        "s = \"jalpa\"\n",
        "ch = len(s) -1\n",
        "while ch >= 0 :\n",
        "    print(s[ch])\n",
        "    ch = ch -1 "
      ],
      "metadata": {
        "colab": {
          "base_uri": "https://localhost:8080/"
        },
        "id": "T5ZZ-fZ-m5-M",
        "outputId": "5bd3747d-53d0-42cc-bd27-c5547af49e46"
      },
      "id": "T5ZZ-fZ-m5-M",
      "execution_count": null,
      "outputs": [
        {
          "output_type": "stream",
          "name": "stdout",
          "text": [
            "a\n",
            "p\n",
            "l\n",
            "a\n",
            "j\n"
          ]
        }
      ]
    },
    {
      "cell_type": "code",
      "source": [
        "s = \"jalpa\"\n",
        "new = s.replace(\"a\" , \"this is a\")\n",
        "print(s)\n",
        "print(new)"
      ],
      "metadata": {
        "colab": {
          "base_uri": "https://localhost:8080/"
        },
        "id": "tXzoDmXPL644",
        "outputId": "9535c9ab-4280-42b4-b901-da27f9514af5"
      },
      "id": "tXzoDmXPL644",
      "execution_count": null,
      "outputs": [
        {
          "output_type": "stream",
          "name": "stdout",
          "text": [
            "jalpa\n",
            "jthis is alpthis is a\n"
          ]
        }
      ]
    },
    {
      "cell_type": "code",
      "source": [
        "name = \"bitinfotech\"\n",
        "vowels = \"AaEeIiOoUu\"\n",
        "\n",
        "for i in name :\n",
        "    if i in vowels:\n",
        "        print(\"{} is a vowel\".format(i))\n",
        "    else :\n",
        "        print(\"{} is not a vowel\".format(i))\n"
      ],
      "metadata": {
        "colab": {
          "base_uri": "https://localhost:8080/"
        },
        "id": "IoL3sQC4nDlp",
        "outputId": "c881e357-2c4b-453f-e0a8-a9a057ffa0ed"
      },
      "id": "IoL3sQC4nDlp",
      "execution_count": null,
      "outputs": [
        {
          "output_type": "stream",
          "name": "stdout",
          "text": [
            "b is not a vowel\n",
            "i is a vowel\n",
            "t is not a vowel\n",
            "i is a vowel\n",
            "n is not a vowel\n",
            "f is not a vowel\n",
            "o is a vowel\n",
            "t is not a vowel\n",
            "e is a vowel\n",
            "c is not a vowel\n",
            "h is not a vowel\n"
          ]
        }
      ]
    },
    {
      "cell_type": "code",
      "source": [
        "s = input(\"enter a data for which you would like to check pelindrom \" )\n",
        "s1 = s[::-1]\n",
        "if s ==s1:\n",
        "    print(\"its a same \")\n",
        "else :\n",
        "    print(\"its not a same \")"
      ],
      "metadata": {
        "id": "qkOwC-ajnPhE",
        "outputId": "24f8d3c2-b621-4336-844e-1d27a723c264",
        "colab": {
          "base_uri": "https://localhost:8080/"
        }
      },
      "id": "qkOwC-ajnPhE",
      "execution_count": null,
      "outputs": [
        {
          "output_type": "stream",
          "name": "stdout",
          "text": [
            "enter a data for which you would like to check pelindrom kanak\n",
            "its a same \n"
          ]
        }
      ]
    },
    {
      "cell_type": "code",
      "source": [],
      "metadata": {
        "id": "JUrhn4OhnRsL"
      },
      "id": "JUrhn4OhnRsL",
      "execution_count": null,
      "outputs": []
    }
  ],
  "metadata": {
    "kernelspec": {
      "display_name": "Python 3 (ipykernel)",
      "language": "python",
      "name": "python3"
    },
    "language_info": {
      "codemirror_mode": {
        "name": "ipython",
        "version": 3
      },
      "file_extension": ".py",
      "mimetype": "text/x-python",
      "name": "python",
      "nbconvert_exporter": "python",
      "pygments_lexer": "ipython3",
      "version": "3.9.7"
    },
    "colab": {
      "provenance": []
    }
  },
  "nbformat": 4,
  "nbformat_minor": 5
}