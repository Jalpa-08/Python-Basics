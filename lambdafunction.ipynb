{
 "cells": [
  {
   "cell_type": "code",
   "execution_count": 1,
   "id": "d8ab7cd1",
   "metadata": {},
   "outputs": [
    {
     "data": {
      "text/plain": [
       "<function __main__.<lambda>(x)>"
      ]
     },
     "execution_count": 1,
     "metadata": {},
     "output_type": "execute_result"
    }
   ],
   "source": [
    "#Lambda Functions\n",
    "lambda x: x+1"
   ]
  },
  {
   "cell_type": "code",
   "execution_count": 2,
   "id": "58c859c9",
   "metadata": {},
   "outputs": [],
   "source": [
    "#Addition\n",
    "x=lambda x,y:x+y"
   ]
  },
  {
   "cell_type": "code",
   "execution_count": 3,
   "id": "c5e7ddc3",
   "metadata": {},
   "outputs": [
    {
     "data": {
      "text/plain": [
       "555"
      ]
     },
     "execution_count": 3,
     "metadata": {},
     "output_type": "execute_result"
    }
   ],
   "source": [
    "x(222,333)"
   ]
  },
  {
   "cell_type": "code",
   "execution_count": 4,
   "id": "34a7060c",
   "metadata": {},
   "outputs": [],
   "source": [
    "# Concatinating two Lists\n",
    "x=lambda x,y:x+y"
   ]
  },
  {
   "cell_type": "code",
   "execution_count": 5,
   "id": "9a59c266",
   "metadata": {},
   "outputs": [
    {
     "data": {
      "text/plain": [
       "[1, 2, 3, 4, 5, 5, 4, 3, 2, 1]"
      ]
     },
     "execution_count": 5,
     "metadata": {},
     "output_type": "execute_result"
    }
   ],
   "source": [
    "l1=[1,2,3,4,5]\n",
    "l2=[5,4,3,2,1]\n",
    "x(l1,l2)"
   ]
  },
  {
   "cell_type": "code",
   "execution_count": 6,
   "id": "52ec1e84",
   "metadata": {},
   "outputs": [
    {
     "data": {
      "text/plain": [
       "<map at 0x1c98cb885b0>"
      ]
     },
     "execution_count": 6,
     "metadata": {},
     "output_type": "execute_result"
    }
   ],
   "source": [
    "#Map\n",
    "l=[1,2,3,4,5]\n",
    "map(lambda x:x+1,l)"
   ]
  },
  {
   "cell_type": "code",
   "execution_count": 7,
   "id": "839f1637",
   "metadata": {},
   "outputs": [
    {
     "data": {
      "text/plain": [
       "[2, 3, 4, 5, 6]"
      ]
     },
     "execution_count": 7,
     "metadata": {},
     "output_type": "execute_result"
    }
   ],
   "source": [
    "list(map(lambda x:x+1,l))"
   ]
  },
  {
   "cell_type": "code",
   "execution_count": 8,
   "id": "712e393d",
   "metadata": {},
   "outputs": [
    {
     "data": {
      "text/plain": [
       "[1, 2, 3, 4, 5]"
      ]
     },
     "execution_count": 8,
     "metadata": {},
     "output_type": "execute_result"
    }
   ],
   "source": [
    "l1"
   ]
  },
  {
   "cell_type": "code",
   "execution_count": 9,
   "id": "c95e0607",
   "metadata": {},
   "outputs": [
    {
     "data": {
      "text/plain": [
       "[5, 4, 3, 2, 1]"
      ]
     },
     "execution_count": 9,
     "metadata": {},
     "output_type": "execute_result"
    }
   ],
   "source": [
    "l2"
   ]
  },
  {
   "cell_type": "code",
   "execution_count": 10,
   "id": "7db90417",
   "metadata": {},
   "outputs": [
    {
     "data": {
      "text/plain": [
       "[6, 6, 6, 6, 6]"
      ]
     },
     "execution_count": 10,
     "metadata": {},
     "output_type": "execute_result"
    }
   ],
   "source": [
    "# Adding two lists\n",
    "list(map(lambda x,y:x+y,l1,l2))"
   ]
  },
  {
   "cell_type": "code",
   "execution_count": 11,
   "id": "028ed6be",
   "metadata": {},
   "outputs": [],
   "source": [
    "#Reduce\n",
    "from functools import reduce\n",
    "\n"
   ]
  },
  {
   "cell_type": "code",
   "execution_count": 12,
   "id": "5add91e2",
   "metadata": {},
   "outputs": [
    {
     "data": {
      "text/plain": [
       "[1, 2, 3, 4, 5]"
      ]
     },
     "execution_count": 12,
     "metadata": {},
     "output_type": "execute_result"
    }
   ],
   "source": [
    "l1\n"
   ]
  },
  {
   "cell_type": "code",
   "execution_count": 13,
   "id": "a0c6d277",
   "metadata": {},
   "outputs": [
    {
     "data": {
      "text/plain": [
       "5"
      ]
     },
     "execution_count": 13,
     "metadata": {},
     "output_type": "execute_result"
    }
   ],
   "source": [
    "# Find biggest number in list\n",
    "reduce(lambda x,y:x if x>y else y,l1)"
   ]
  },
  {
   "cell_type": "code",
   "execution_count": 14,
   "id": "2dc36259",
   "metadata": {},
   "outputs": [
    {
     "data": {
      "text/plain": [
       "15"
      ]
     },
     "execution_count": 14,
     "metadata": {},
     "output_type": "execute_result"
    }
   ],
   "source": [
    "# Add Numbers in List\n",
    "reduce(lambda x,y:x+y,l1)"
   ]
  },
  {
   "cell_type": "code",
   "execution_count": 15,
   "id": "0a0e4270",
   "metadata": {},
   "outputs": [
    {
     "data": {
      "text/plain": [
       "[1, 3, 5]"
      ]
     },
     "execution_count": 15,
     "metadata": {},
     "output_type": "execute_result"
    }
   ],
   "source": [
    "#Filter\n",
    "# Filter odd numbers in list\n",
    "list(filter(lambda x:x%2!=0,l1))\n"
   ]
  },
  {
   "cell_type": "code",
   "execution_count": 16,
   "id": "d2a87f31",
   "metadata": {},
   "outputs": [
    {
     "data": {
      "text/plain": [
       "[-1, -4, -7, -3, -2, -73, -33]"
      ]
     },
     "execution_count": 16,
     "metadata": {},
     "output_type": "execute_result"
    }
   ],
   "source": [
    "# Filter negative numbers in a list\n",
    "l=[-1,-4,-7,-3,7,-2,7,93,-73,7,2,625,73,-33]\n",
    "list(filter(lambda x:x<0,l))"
   ]
  },
  {
   "cell_type": "code",
   "execution_count": null,
   "id": "3d1521a5",
   "metadata": {},
   "outputs": [],
   "source": []
  }
 ],
 "metadata": {
  "kernelspec": {
   "display_name": "Python 3 (ipykernel)",
   "language": "python",
   "name": "python3"
  },
  "language_info": {
   "codemirror_mode": {
    "name": "ipython",
    "version": 3
   },
   "file_extension": ".py",
   "mimetype": "text/x-python",
   "name": "python",
   "nbconvert_exporter": "python",
   "pygments_lexer": "ipython3",
   "version": "3.10.9"
  }
 },
 "nbformat": 4,
 "nbformat_minor": 5
}
