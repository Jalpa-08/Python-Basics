{
 "cells": [
  {
   "cell_type": "code",
   "execution_count": 7,
   "id": "b0dfd4bd",
   "metadata": {},
   "outputs": [],
   "source": [
    "import os"
   ]
  },
  {
   "cell_type": "code",
   "execution_count": 8,
   "id": "97b214dc",
   "metadata": {},
   "outputs": [
    {
     "name": "stdout",
     "output_type": "stream",
     "text": [
      "['DirEntry', 'F_OK', 'GenericAlias', 'Mapping', 'MutableMapping', 'O_APPEND', 'O_BINARY', 'O_CREAT', 'O_EXCL', 'O_NOINHERIT', 'O_RANDOM', 'O_RDONLY', 'O_RDWR', 'O_SEQUENTIAL', 'O_SHORT_LIVED', 'O_TEMPORARY', 'O_TEXT', 'O_TRUNC', 'O_WRONLY', 'P_DETACH', 'P_NOWAIT', 'P_NOWAITO', 'P_OVERLAY', 'P_WAIT', 'PathLike', 'R_OK', 'SEEK_CUR', 'SEEK_END', 'SEEK_SET', 'TMP_MAX', 'W_OK', 'X_OK', '_AddedDllDirectory', '_Environ', '__all__', '__builtins__', '__cached__', '__doc__', '__file__', '__loader__', '__name__', '__package__', '__spec__', '_check_methods', '_execvpe', '_exists', '_exit', '_fspath', '_get_exports_list', '_walk', '_wrap_close', 'abc', 'abort', 'access', 'add_dll_directory', 'altsep', 'chdir', 'chmod', 'close', 'closerange', 'cpu_count', 'curdir', 'defpath', 'device_encoding', 'devnull', 'dup', 'dup2', 'environ', 'error', 'execl', 'execle', 'execlp', 'execlpe', 'execv', 'execve', 'execvp', 'execvpe', 'extsep', 'fdopen', 'fsdecode', 'fsencode', 'fspath', 'fstat', 'fsync', 'ftruncate', 'get_exec_path', 'get_handle_inheritable', 'get_inheritable', 'get_terminal_size', 'getcwd', 'getcwdb', 'getenv', 'getlogin', 'getpid', 'getppid', 'isatty', 'kill', 'linesep', 'link', 'listdir', 'lseek', 'lstat', 'makedirs', 'mkdir', 'name', 'open', 'pardir', 'path', 'pathsep', 'pipe', 'popen', 'putenv', 'read', 'readlink', 'remove', 'removedirs', 'rename', 'renames', 'replace', 'rmdir', 'scandir', 'sep', 'set_handle_inheritable', 'set_inheritable', 'spawnl', 'spawnle', 'spawnv', 'spawnve', 'st', 'startfile', 'stat', 'stat_result', 'statvfs_result', 'strerror', 'supports_bytes_environ', 'supports_dir_fd', 'supports_effective_ids', 'supports_fd', 'supports_follow_symlinks', 'symlink', 'sys', 'system', 'terminal_size', 'times', 'times_result', 'truncate', 'umask', 'uname_result', 'unlink', 'unsetenv', 'urandom', 'utime', 'waitpid', 'waitstatus_to_exitcode', 'walk', 'write']\n"
     ]
    }
   ],
   "source": [
    "print(dir(os))"
   ]
  },
  {
   "cell_type": "code",
   "execution_count": 11,
   "id": "105fcd8e",
   "metadata": {},
   "outputs": [
    {
     "name": "stdout",
     "output_type": "stream",
     "text": [
      "C:\\Users\\vaibh\\Jalpa Desai\n"
     ]
    }
   ],
   "source": [
    "print(os.getcwd())"
   ]
  },
  {
   "cell_type": "code",
   "execution_count": 12,
   "id": "106dca05",
   "metadata": {},
   "outputs": [
    {
     "data": {
      "text/plain": [
       "'C:\\\\Users\\\\vaibh\\\\Jalpa Desai'"
      ]
     },
     "execution_count": 12,
     "metadata": {},
     "output_type": "execute_result"
    }
   ],
   "source": [
    "pwd()"
   ]
  },
  {
   "cell_type": "code",
   "execution_count": 10,
   "id": "d8b7fb55",
   "metadata": {},
   "outputs": [],
   "source": [
    "os.chdir(\"C:\\\\Users\\\\vaibh\\\\Jalpa Desai\")"
   ]
  },
  {
   "cell_type": "code",
   "execution_count": 13,
   "id": "f82c8cce",
   "metadata": {},
   "outputs": [
    {
     "name": "stdout",
     "output_type": "stream",
     "text": [
      "C:\\Users\\vaibh\\Jalpa Desai\n"
     ]
    }
   ],
   "source": [
    "print(os.getcwd())"
   ]
  },
  {
   "cell_type": "code",
   "execution_count": 14,
   "id": "eb7f0766",
   "metadata": {},
   "outputs": [
    {
     "data": {
      "text/plain": [
       "['.ipynb_checkpoints',\n",
       " 'Data Visualization',\n",
       " 'Date Time_Time Delta_Module .ipynb',\n",
       " 'EDA',\n",
       " 'file sysetm.ipynb',\n",
       " 'files.zip',\n",
       " 'File_Handling.ipynb',\n",
       " 'for loop while loop(2).ipynb',\n",
       " 'For Loop(2).ipynb',\n",
       " 'For Loop.ipynb',\n",
       " 'for loops while loop(1).ipynb',\n",
       " 'Functions',\n",
       " 'google_1.txt',\n",
       " 'If Else.ipynb',\n",
       " 'Inheritance .ipynb',\n",
       " 'iterator generator.ipynb',\n",
       " 'List, Tuple, Dictionary, Sets.ipynb',\n",
       " 'loc_iloc.ipynb',\n",
       " 'Machine Learning',\n",
       " 'OOPS',\n",
       " 'OS Module.ipynb',\n",
       " 'Pro-Kabaddi-Data-Analysis-master',\n",
       " 'readme.csv',\n",
       " 'readme.txt',\n",
       " 'Regular Expressions .ipynb',\n",
       " 'Shallow Copy Vs deep copy.ipynb',\n",
       " 'SQL',\n",
       " 'Statistics',\n",
       " 'Statistics_Basics.ipynb',\n",
       " 'test4.txt',\n",
       " 'test5.txt',\n",
       " 'test6.txt',\n",
       " 'Try and Exception Handling.ipynb',\n",
       " 'Untitled.ipynb',\n",
       " 'Untitled1.ipynb',\n",
       " 'Untitled2.ipynb',\n",
       " 'Untitled3.ipynb',\n",
       " 'Untitled4.ipynb',\n",
       " 'Untitled5.ipynb',\n",
       " 'Untitled6.ipynb',\n",
       " 'Untitled7.ipynb',\n",
       " 'Zip file _Unzip file.ipynb']"
      ]
     },
     "execution_count": 14,
     "metadata": {},
     "output_type": "execute_result"
    }
   ],
   "source": [
    "os.listdir(\"C:\\\\Users\\\\vaibh\\\\Jalpa Desai\")"
   ]
  },
  {
   "cell_type": "code",
   "execution_count": 15,
   "id": "d4a7635f",
   "metadata": {},
   "outputs": [],
   "source": [
    "os.mkdir(\"THIS\")  ## make folder"
   ]
  },
  {
   "cell_type": "code",
   "execution_count": 20,
   "id": "2d9d56d9",
   "metadata": {},
   "outputs": [
    {
     "ename": "FileNotFoundError",
     "evalue": "[Errno 2] No such file or directory: 'jalpa11.txt'",
     "output_type": "error",
     "traceback": [
      "\u001b[1;31m---------------------------------------------------------------------------\u001b[0m",
      "\u001b[1;31mFileNotFoundError\u001b[0m                         Traceback (most recent call last)",
      "Input \u001b[1;32mIn [20]\u001b[0m, in \u001b[0;36m<cell line: 1>\u001b[1;34m()\u001b[0m\n\u001b[1;32m----> 1\u001b[0m f \u001b[38;5;241m=\u001b[39m \u001b[38;5;28;43mopen\u001b[39;49m\u001b[43m(\u001b[49m\u001b[38;5;124;43m\"\u001b[39;49m\u001b[38;5;124;43mjalpa11.txt\u001b[39;49m\u001b[38;5;124;43m\"\u001b[39;49m\u001b[43m)\u001b[49m\n",
      "\u001b[1;31mFileNotFoundError\u001b[0m: [Errno 2] No such file or directory: 'jalpa11.txt'"
     ]
    }
   ],
   "source": [
    "f = open(\"jalpa11.txt\")"
   ]
  },
  {
   "cell_type": "code",
   "execution_count": 23,
   "id": "6e1141b3",
   "metadata": {},
   "outputs": [
    {
     "name": "stdout",
     "output_type": "stream",
     "text": [
      "C:\\ProgramData\\Anaconda3;C:\\ProgramData\\Anaconda3\\Library\\mingw-w64\\bin;C:\\ProgramData\\Anaconda3\\Library\\usr\\bin;C:\\ProgramData\\Anaconda3\\Library\\bin;C:\\ProgramData\\Anaconda3\\Scripts;C:\\WINDOWS\\system32;C:\\WINDOWS;C:\\WINDOWS\\System32\\Wbem;C:\\WINDOWS\\System32\\WindowsPowerShell\\v1.0\\;C:\\WINDOWS\\System32\\OpenSSH\\;C:\\Program Files\\nodejs\\;C:\\Program Files\\MySQL\\MySQL Shell 8.0\\bin\\;C:\\Users\\vaibh\\AppData\\Local\\Microsoft\\WindowsApps;;C:\\Users\\vaibh\\AppData\\Local\\Programs\\Microsoft VS Code\\bin;C:\\Users\\vaibh\\AppData\\Roaming\\npm\n"
     ]
    }
   ],
   "source": [
    "print(os.environ.get('Path'))"
   ]
  },
  {
   "cell_type": "code",
   "execution_count": 24,
   "id": "90525d55",
   "metadata": {},
   "outputs": [
    {
     "name": "stdout",
     "output_type": "stream",
     "text": [
      "Do you wish to shutdown your computer ? (yes / no): no\n"
     ]
    }
   ],
   "source": [
    " import os\n",
    "  \n",
    "shutdown = input(\"Do you wish to shutdown your computer ? (yes / no): \")\n",
    "  \n",
    "if shutdown == 'no':\n",
    "    exit()\n",
    "else:\n",
    "    os.system(\"shutdown /s /t 1\")"
   ]
  },
  {
   "cell_type": "code",
   "execution_count": null,
   "id": "063949f4",
   "metadata": {},
   "outputs": [],
   "source": [
    "import os\n",
    "os.system(\"shutdown /s\")"
   ]
  },
  {
   "cell_type": "code",
   "execution_count": 3,
   "id": "827b3d6b",
   "metadata": {},
   "outputs": [
    {
     "data": {
      "text/plain": [
       "'C:\\\\Users\\\\vaibh\\\\Jalpa Desai'"
      ]
     },
     "execution_count": 3,
     "metadata": {},
     "output_type": "execute_result"
    }
   ],
   "source": [
    "pwd()"
   ]
  },
  {
   "cell_type": "code",
   "execution_count": 4,
   "id": "0f7617db",
   "metadata": {},
   "outputs": [
    {
     "name": "stdout",
     "output_type": "stream",
     "text": [
      "Source path renamed to destination path successfully.\n"
     ]
    }
   ],
   "source": [
    "# importing os module \n",
    "import os\n",
    "  \n",
    "  \n",
    "# Source file path\n",
    "source = 'C:\\\\Users\\\\vaibh\\\\Jalpa Desai\\\\test4.txt'\n",
    "  \n",
    "# destination file path\n",
    "dest = 'C:\\\\Users\\\\vaibh\\\\Jalpa Desai\\\\newfile.txt'\n",
    "  \n",
    "  \n",
    "# Now rename the source path\n",
    "\n",
    "os.rename(source, dest)\n",
    "print(\"Source path renamed to destination path successfully.\")"
   ]
  },
  {
   "cell_type": "code",
   "execution_count": 2,
   "id": "65d85a5d",
   "metadata": {},
   "outputs": [
    {
     "name": "stdout",
     "output_type": "stream",
     "text": [
      " Volume in drive C is Windows\n",
      " Volume Serial Number is FC42-E37E\n",
      "\n",
      " Directory of C:\\Users\\vaibh\\Jalpa Desai\n",
      "\n",
      "30-09-2022  14:30    <DIR>          .\n",
      "27-09-2022  17:41    <DIR>          ..\n",
      "30-09-2022  14:05    <DIR>          .ipynb_checkpoints\n",
      "29-09-2022  14:48    <DIR>          Data Visualization\n",
      "29-09-2022  09:44            16,731 Date Time_Time Delta_Module .ipynb\n",
      "25-09-2022  10:23    <DIR>          EDA\n",
      "25-09-2022  10:59            24,741 file sysetm.ipynb\n",
      "27-09-2022  16:39            34,255 File_Handling.ipynb\n",
      "27-09-2022  14:09               273 files.zip\n",
      "12-09-2022  13:43             9,876 for loop while loop(2).ipynb\n",
      "29-09-2022  17:24            21,607 For Loop(2).ipynb\n",
      "08-09-2022  09:57            12,161 For Loop.ipynb\n",
      "28-09-2022  14:59            28,884 for loops while loop(1).ipynb\n",
      "30-09-2022  13:10    <DIR>          Functions\n",
      "27-09-2022  16:37             3,077 google_1.txt\n",
      "27-09-2022  16:00            11,155 If Else.ipynb\n",
      "12-09-2022  13:45            41,235 Inheritance .ipynb\n",
      "27-09-2022  11:57        21,693,278 iterator generator.ipynb\n",
      "25-09-2022  12:45            21,077 List, Tuple, Dictionary, Sets.ipynb\n",
      "17-09-2022  14:54            10,129 loc_iloc.ipynb\n",
      "13-09-2022  15:32    <DIR>          Machine Learning\n",
      "24-09-2022  12:08    <DIR>          OOPS\n",
      "30-09-2022  14:30             8,557 OS Module.ipynb\n",
      "27-09-2022  14:16    <DIR>          Pro-Kabaddi-Data-Analysis-master\n",
      "25-09-2022  10:57                23 readme.csv\n",
      "25-09-2022  10:55                36 readme.txt\n",
      "26-09-2022  11:44            14,801 Regular Expressions .ipynb\n",
      "28-09-2022  11:40             7,485 Shallow Copy Vs deep copy.ipynb\n",
      "24-09-2022  17:32    <DIR>          SQL\n",
      "26-09-2022  17:06    <DIR>          Statistics\n",
      "29-09-2022  14:01            15,861 Statistics_Basics.ipynb\n",
      "27-09-2022  16:32                39 test4.txt\n",
      "27-09-2022  16:29               226 test5.txt\n",
      "27-09-2022  16:30                50 test6.txt\n",
      "30-09-2022  14:18    <DIR>          THIS\n",
      "11-09-2022  12:04            19,164 Try and Exception Handling.ipynb\n",
      "29-09-2022  17:04            40,632 Untitled.ipynb\n",
      "21-09-2022  17:12             8,120 Untitled1.ipynb\n",
      "25-09-2022  12:46            13,685 Untitled2.ipynb\n",
      "25-09-2022  13:53             5,087 Untitled3.ipynb\n",
      "27-09-2022  15:13            10,069 Untitled4.ipynb\n",
      "28-09-2022  15:45            14,668 Untitled5.ipynb\n",
      "28-09-2022  17:31            23,370 Untitled6.ipynb\n",
      "29-09-2022  13:45               589 Untitled7.ipynb\n",
      "28-09-2022  12:10             2,526 Zip file _Unzip file.ipynb\n",
      "              33 File(s)     22,113,467 bytes\n",
      "              12 Dir(s)  191,982,866,432 bytes free\n"
     ]
    }
   ],
   "source": [
    "ls"
   ]
  },
  {
   "cell_type": "code",
   "execution_count": 8,
   "id": "cb5c52d2",
   "metadata": {},
   "outputs": [],
   "source": [
    "import os\n",
    "os.mkdir(\"D:\\Tutorialspoint\") ## make directory"
   ]
  },
  {
   "cell_type": "code",
   "execution_count": 9,
   "id": "3c6ced10",
   "metadata": {},
   "outputs": [],
   "source": [
    "import os  \n",
    "os.rmdir(\"D:\\Tutorialspoint\")  ## delete directory"
   ]
  },
  {
   "cell_type": "code",
   "execution_count": 10,
   "id": "efee40e3",
   "metadata": {},
   "outputs": [],
   "source": [
    "import os\n",
    "os.mkdir(\"D:\\Tutorialspoint\")\n",
    "os.rename(\"D:\\Tutorialspoint\",\"D:\\Tutorialspoint2\")"
   ]
  },
  {
   "cell_type": "code",
   "execution_count": 11,
   "id": "9512a4b6",
   "metadata": {},
   "outputs": [],
   "source": [
    "file = os.popen(\"Hello.txt\", 'w')"
   ]
  },
  {
   "cell_type": "code",
   "execution_count": 12,
   "id": "cd33ca30",
   "metadata": {},
   "outputs": [
    {
     "data": {
      "text/plain": [
       "45"
      ]
     },
     "execution_count": 12,
     "metadata": {},
     "output_type": "execute_result"
    }
   ],
   "source": [
    "file = os.popen(\"Hello.txt\", 'w')\n",
    "file.write(\"Hello there! This is a tutorialspoint article\")"
   ]
  },
  {
   "cell_type": "code",
   "execution_count": null,
   "id": "c3f557e3",
   "metadata": {},
   "outputs": [],
   "source": []
  }
 ],
 "metadata": {
  "kernelspec": {
   "display_name": "Python 3 (ipykernel)",
   "language": "python",
   "name": "python3"
  },
  "language_info": {
   "codemirror_mode": {
    "name": "ipython",
    "version": 3
   },
   "file_extension": ".py",
   "mimetype": "text/x-python",
   "name": "python",
   "nbconvert_exporter": "python",
   "pygments_lexer": "ipython3",
   "version": "3.9.12"
  }
 },
 "nbformat": 4,
 "nbformat_minor": 5
}
