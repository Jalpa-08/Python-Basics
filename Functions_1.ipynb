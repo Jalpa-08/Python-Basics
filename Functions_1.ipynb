{
 "cells": [
  {
   "cell_type": "raw",
   "metadata": {},
   "source": [
    "- What Is A Function ?\n",
    "\n",
    "- Function V/s Method\n",
    "\n",
    "- Steps Required For Developing User Defined Function and Calling that Function\n",
    "\n",
    "- Returning Values From Function\n",
    "\n",
    "- Arguments V/s Parameters\n",
    "\n",
    "- Types Of Arguments\n",
    "\n",
    "- Variable Scope\n",
    "\n",
    "- Local Scope\n",
    "\n",
    "- Global Scope\n",
    "\n",
    "- Argument Passing\n",
    "\n",
    "- Anonymous Functions OR Lambda Function\n",
    "\n",
    "- The map( ) Function\n",
    "\n",
    "- The filter( ) Function\n",
    "\n",
    "- Using map( ) and filter( ) with Lambda Expressions\n"
   ]
  },
  {
   "cell_type": "markdown",
   "metadata": {
    "id": "vT4GIszkI4_H"
   },
   "source": [
    "## 07 Functions\n",
    "\n",
    "- **Definition**: Function are nothing but a block of code which performs a specific task and can be called again and again as per requirement in the code.\n",
    "- A generic way to write a simple function is shown below-\n",
    "```python\n",
    "def function_name():\n",
    "    # function body starts\n",
    "    pass\n",
    "    # function body ends\n",
    "# calling function in the code -\n",
    "function_name() \n",
    "```\n",
    "\n",
    "- **DRY**: It stands for **D**o not **R**epeat **Y**ourself. It means that a good generally should not contain repeated blocks of code. So if you observe in your code repeatition of certain lines of code then you can also make it a function and call as per your requirement. Let's see an example below-"
   ]
  },
  {
   "cell_type": "markdown",
   "metadata": {
    "id": "8fvQMOEhhRxA"
   },
   "source": [
    "### 7.1 A simple function definition\n",
    "**EXAMPLE:**"
   ]
  },
  {
   "cell_type": "code",
   "execution_count": 1,
   "metadata": {
    "id": "D3UIkgvfIcnc"
   },
   "outputs": [],
   "source": [
    "def function_name():\n",
    "    # function body starts\n",
    "    pass\n",
    "    # function body ends\n",
    "\n",
    "# calling function in the code -\n",
    "function_name() "
   ]
  },
  {
   "cell_type": "markdown",
   "metadata": {
    "id": "YKENVJ23jQBW"
   },
   "source": [
    "**EXAMPLE:**"
   ]
  },
  {
   "cell_type": "code",
   "execution_count": 2,
   "metadata": {
    "colab": {
     "base_uri": "https://localhost:8080/",
     "height": 34
    },
    "executionInfo": {
     "elapsed": 975,
     "status": "ok",
     "timestamp": 1596176824805,
     "user": {
      "displayName": "SUNNY BHAVEEN CHANDRA",
      "photoUrl": "https://lh3.googleusercontent.com/a-/AOh14GhEYJkaaSU5CST0x1qOWVQ1ebdsHY1yUGtmQh5J=s64",
      "userId": "13855564974173009808"
     },
     "user_tz": -330
    },
    "id": "_fn4N0q6ilXw",
    "outputId": "4017496c-8f60-40d6-f835-1432e504638d"
   },
   "outputs": [
    {
     "name": "stdout",
     "output_type": "stream",
     "text": [
      "Hi there from bit\n"
     ]
    }
   ],
   "source": [
    "def greetings():\n",
    "    print(\"Hi there from bit\")\n",
    "\n",
    "# calling greeting function in the code -\n",
    "greetings() "
   ]
  },
  {
   "cell_type": "markdown",
   "metadata": {
    "id": "5dCMlQemuQgP"
   },
   "source": [
    "- We can also pass some values to the function. These values are known as arguments.A function can have following kind of arguments -\n",
    "    - 1. Key word arguments: Here we define the name of arguments"
   ]
  },
  {
   "cell_type": "markdown",
   "metadata": {
    "id": "zVRSSqeRjcq3"
   },
   "source": [
    "**EXAMPLE**:\n",
    "Observe the below code from Expressions, Operators, and Precedence Chapter- "
   ]
  },
  {
   "cell_type": "code",
   "execution_count": 1,
   "metadata": {
    "colab": {
     "base_uri": "https://localhost:8080/",
     "height": 298
    },
    "executionInfo": {
     "elapsed": 931,
     "status": "ok",
     "timestamp": 1596179884129,
     "user": {
      "displayName": "SUNNY BHAVEEN CHANDRA",
      "photoUrl": "https://lh3.googleusercontent.com/a-/AOh14GhEYJkaaSU5CST0x1qOWVQ1ebdsHY1yUGtmQh5J=s64",
      "userId": "13855564974173009808"
     },
     "user_tz": -330
    },
    "id": "ZD9AXQoJjN3K",
    "outputId": "0c39c5b1-4e2b-4a01-9a2e-d623555eb29e"
   },
   "outputs": [
    {
     "name": "stdout",
     "output_type": "stream",
     "text": [
      "You have BIKE: True\n",
      "You have CAR: True\n",
      "You can travel 100 KMs: True\n",
      "\n",
      "You have BIKE: True\n",
      "You have CAR: False\n",
      "You can travel 100 KMs: True\n",
      "\n",
      "You have BIKE: False\n",
      "You have CAR: True\n",
      "You can travel 100 KMs: True\n",
      "\n",
      "You have BIKE: False\n",
      "You have CAR: False\n",
      "You can travel 100 KMs: False\n",
      "\n"
     ]
    }
   ],
   "source": [
    "# Block One\n",
    "BIKE = True\n",
    "CAR = True\n",
    "\n",
    "TRAVEL_100_KM = BIKE or CAR\n",
    "\n",
    "print(f\"You have BIKE: {BIKE}\")\n",
    "print(f\"You have CAR: {CAR}\")\n",
    "print(f\"You can travel 100 KMs: {TRAVEL_100_KM}\\n\")\n",
    "\n",
    "\n",
    "# Block Two\n",
    "BIKE = True\n",
    "CAR = False\n",
    "TRAVEL_100_KM = BIKE or CAR\n",
    "\n",
    "print(f\"You have BIKE:{BIKE} \")\n",
    "print(f\"You have CAR: {CAR}\")\n",
    "print(f\"You can travel 100 KMs: {TRAVEL_100_KM}\\n\")\n",
    "\n",
    "# Block Three\n",
    "BIKE = False\n",
    "CAR = True\n",
    "TRAVEL_100_KM = BIKE or CAR\n",
    "\n",
    "print(f\"You have BIKE: {BIKE}\")\n",
    "print(f\"You have CAR: {CAR}\")\n",
    "print(f\"You can travel 100 KMs: {TRAVEL_100_KM}\\n\")\n",
    "\n",
    "# Block Four\n",
    "BIKE = False\n",
    "CAR = False\n",
    "TRAVEL_100_KM = BIKE or CAR\n",
    "\n",
    "print(f\"You have BIKE: {BIKE}\")\n",
    "print(f\"You have CAR: {CAR}\")\n",
    "print(f\"You can travel 100 KMs: {TRAVEL_100_KM}\\n\")"
   ]
  },
  {
   "cell_type": "markdown",
   "metadata": {
    "id": "gqaG1lkFvDal"
   },
   "source": [
    "**EXAMPLE**:\n",
    "So above codes are repetetive. Now lets observe the below code which will give the same results as shown above but in avery less line of code. -"
   ]
  },
  {
   "cell_type": "code",
   "execution_count": 1,
   "metadata": {
    "colab": {
     "base_uri": "https://localhost:8080/",
     "height": 298
    },
    "executionInfo": {
     "elapsed": 948,
     "status": "ok",
     "timestamp": 1596180062645,
     "user": {
      "displayName": "SUNNY BHAVEEN CHANDRA",
      "photoUrl": "https://lh3.googleusercontent.com/a-/AOh14GhEYJkaaSU5CST0x1qOWVQ1ebdsHY1yUGtmQh5J=s64",
      "userId": "13855564974173009808"
     },
     "user_tz": -330
    },
    "id": "ZZc_2LFCvCQ4",
    "outputId": "98fa6a10-9086-4f16-bee9-1dd19c62050b"
   },
   "outputs": [
    {
     "name": "stdout",
     "output_type": "stream",
     "text": [
      "You have BIKE: False\n",
      "You have CAR: False\n",
      "You can travel 100 KMs: False\n",
      "\n",
      "You have BIKE: False\n",
      "You have CAR: True\n",
      "You can travel 100 KMs: True\n",
      "\n",
      "You have BIKE: True\n",
      "You have CAR: False\n",
      "You can travel 100 KMs: True\n",
      "\n",
      "You have BIKE: True\n",
      "You have CAR: True\n",
      "You can travel 100 KMs: True\n",
      "\n"
     ]
    }
   ],
   "source": [
    "def travel_or_not(BIKE, CAR):\n",
    "    TRAVEL_100_KM = BIKE or CAR\n",
    "\n",
    "    print(f\"You have BIKE: {BIKE}\")\n",
    "    print(f\"You have CAR: {CAR}\")\n",
    "    print(f\"You can travel 100 KMs: {TRAVEL_100_KM}\\n\")\n",
    "\n",
    "travel_or_not(False, False)\n",
    "\n",
    "travel_or_not(False, True)\n",
    "\n",
    "travel_or_not(True, False)\n",
    "\n",
    "travel_or_not(True, True)\n"
   ]
  },
  {
   "cell_type": "markdown",
   "metadata": {
    "id": "OVLcxCoxv8Sk"
   },
   "source": [
    "**EXAMPLE**:\n",
    "Lets make it more concise using a for loop and remove the repetition-"
   ]
  },
  {
   "cell_type": "code",
   "execution_count": 2,
   "metadata": {
    "colab": {
     "base_uri": "https://localhost:8080/",
     "height": 298
    },
    "executionInfo": {
     "elapsed": 975,
     "status": "ok",
     "timestamp": 1596180267541,
     "user": {
      "displayName": "SUNNY BHAVEEN CHANDRA",
      "photoUrl": "https://lh3.googleusercontent.com/a-/AOh14GhEYJkaaSU5CST0x1qOWVQ1ebdsHY1yUGtmQh5J=s64",
      "userId": "13855564974173009808"
     },
     "user_tz": -330
    },
    "id": "jT2_Zy-Kvt2N",
    "outputId": "fcfc8c5e-c675-4a35-be9e-a2275da4c78a"
   },
   "outputs": [
    {
     "name": "stdout",
     "output_type": "stream",
     "text": [
      "You have BIKE: False\n",
      "You have CAR: False\n",
      "You can travel 100 KMs: False\n",
      "\n",
      "You have BIKE: False\n",
      "You have CAR: True\n",
      "You can travel 100 KMs: True\n",
      "\n",
      "You have BIKE: True\n",
      "You have CAR: False\n",
      "You can travel 100 KMs: True\n",
      "\n",
      "You have BIKE: True\n",
      "You have CAR: True\n",
      "You can travel 100 KMs: True\n",
      "\n"
     ]
    }
   ],
   "source": [
    "def travel_or_not(BIKE, CAR):\n",
    "    TRAVEL_100_KM = BIKE or CAR\n",
    "\n",
    "    print(f\"You have BIKE: {BIKE}\")\n",
    "    print(f\"You have CAR: {CAR}\")\n",
    "    print(f\"You can travel 100 KMs: {TRAVEL_100_KM}\\n\")\n",
    "    \n",
    "BIKE = [False, False, True, True]\n",
    "CAR = [False, True,False, True]\n",
    "\n",
    "for bike, car in zip(BIKE, CAR):\n",
    "    travel_or_not(bike, car)"
   ]
  },
  {
   "cell_type": "code",
   "execution_count": 1,
   "metadata": {},
   "outputs": [
    {
     "name": "stdout",
     "output_type": "stream",
     "text": [
      "You have BIKE: False\n",
      "You have CAR: False\n",
      "You can travel 100 KMs: False\n",
      "\n",
      "You have BIKE: False\n",
      "You have CAR: True\n",
      "You can travel 100 KMs: False\n",
      "\n",
      "You have BIKE: True\n",
      "You have CAR: False\n",
      "You can travel 100 KMs: False\n",
      "\n",
      "You have BIKE: True\n",
      "You have CAR: True\n",
      "You can travel 100 KMs: True\n",
      "\n"
     ]
    }
   ],
   "source": [
    "def travel_or_not(BIKE, CAR):\n",
    "    TRAVEL_100_KM = BIKE and CAR\n",
    "\n",
    "    print(f\"You have BIKE: {BIKE}\")\n",
    "    print(f\"You have CAR: {CAR}\")\n",
    "    print(f\"You can travel 100 KMs: {TRAVEL_100_KM}\\n\")\n",
    "    \n",
    "BIKE = [False, False, True, True]\n",
    "CAR = [False, True,False, True]\n",
    "\n",
    "for bike, car in zip(BIKE, CAR):\n",
    "    travel_or_not(bike, car)"
   ]
  },
  {
   "cell_type": "markdown",
   "metadata": {
    "id": "4If023q33yuz"
   },
   "source": [
    "### 7.2 Default Arguments\n",
    "\n",
    "**EXAMPLE**:\n",
    "Let's see a different varient of above code. You can also define a default value of the arguments which will be utilized when no argument is passed. as shown below -\n"
   ]
  },
  {
   "cell_type": "code",
   "execution_count": 3,
   "metadata": {
    "colab": {
     "base_uri": "https://localhost:8080/",
     "height": 87
    },
    "executionInfo": {
     "elapsed": 853,
     "status": "ok",
     "timestamp": 1596182279114,
     "user": {
      "displayName": "SUNNY BHAVEEN CHANDRA",
      "photoUrl": "https://lh3.googleusercontent.com/a-/AOh14GhEYJkaaSU5CST0x1qOWVQ1ebdsHY1yUGtmQh5J=s64",
      "userId": "13855564974173009808"
     },
     "user_tz": -330
    },
    "id": "3UQLjrUdwf3R",
    "outputId": "d378e4a9-aa79-4e70-df01-e955d23a55cc"
   },
   "outputs": [
    {
     "name": "stdout",
     "output_type": "stream",
     "text": [
      "You have BIKE: True\n",
      "You have CAR: False\n",
      "You can travel 100 KMs: True\n",
      "\n"
     ]
    }
   ],
   "source": [
    "def travel_or_not(BIKE=True, CAR=False):\n",
    "    TRAVEL_100_KM = BIKE or CAR\n",
    "\n",
    "    print(f\"You have BIKE: {BIKE}\")\n",
    "    print(f\"You have CAR: {CAR}\")\n",
    "    print(f\"You can travel 100 KMs: {TRAVEL_100_KM}\\n\")\n",
    "\n",
    "\n",
    "travel_or_not()"
   ]
  },
  {
   "cell_type": "code",
   "execution_count": null,
   "metadata": {
    "colab": {
     "base_uri": "https://localhost:8080/",
     "height": 87
    },
    "executionInfo": {
     "elapsed": 1332,
     "status": "ok",
     "timestamp": 1596182668143,
     "user": {
      "displayName": "SUNNY BHAVEEN CHANDRA",
      "photoUrl": "https://lh3.googleusercontent.com/a-/AOh14GhEYJkaaSU5CST0x1qOWVQ1ebdsHY1yUGtmQh5J=s64",
      "userId": "13855564974173009808"
     },
     "user_tz": -330
    },
    "id": "dw1mX_Z94jEW",
    "outputId": "88eb3dd6-3abf-40cf-c4ec-0cdee1bd2e14"
   },
   "outputs": [],
   "source": [
    "def travel_or_not(BIKE=True, CAR=False):\n",
    "    TRAVEL_100_KM = BIKE or CAR\n",
    "\n",
    "    print(f\"You have BIKE: {BIKE}\")\n",
    "    print(f\"You have CAR: {CAR}\")\n",
    "    print(f\"You can travel 100 KMs: {TRAVEL_100_KM}\\n\")\n",
    "\n",
    "\n",
    "travel_or_not(False, True) # overriding the default arguments value by passing our value"
   ]
  },
  {
   "cell_type": "markdown",
   "metadata": {
    "id": "cFcCwhWa46rk"
   },
   "source": [
    "**EXAMPLE**: \n",
    "Here ```None``` gets printed if we try to print the ouput of the given function because it is not returning any value. Its just printing ther results."
   ]
  },
  {
   "cell_type": "code",
   "execution_count": 4,
   "metadata": {
    "colab": {
     "base_uri": "https://localhost:8080/",
     "height": 140
    },
    "executionInfo": {
     "elapsed": 706,
     "status": "ok",
     "timestamp": 1596182668734,
     "user": {
      "displayName": "SUNNY BHAVEEN CHANDRA",
      "photoUrl": "https://lh3.googleusercontent.com/a-/AOh14GhEYJkaaSU5CST0x1qOWVQ1ebdsHY1yUGtmQh5J=s64",
      "userId": "13855564974173009808"
     },
     "user_tz": -330
    },
    "id": "nPMWsQTu410Z",
    "outputId": "04d2bf16-c350-45c3-9537-55b1da538e1c"
   },
   "outputs": [
    {
     "name": "stdout",
     "output_type": "stream",
     "text": [
      "You have BIKE: False\n",
      "You have CAR: True\n",
      "You can travel 100 KMs: True\n",
      "\n",
      "\n",
      "results:-\n",
      "None\n"
     ]
    }
   ],
   "source": [
    "result = travel_or_not(False, True)\n",
    "print(f\"\\nresults:-\\n{result}\")"
   ]
  },
  {
   "cell_type": "markdown",
   "metadata": {
    "id": "O1BzNPzw4Wf_"
   },
   "source": [
    "### 7.3 Return statement\n",
    "\n",
    "**EXAMPLE**:\n",
    "In some cases you'd like to return some value from a function. So for that we use a return keyword to return the results as show below-"
   ]
  },
  {
   "cell_type": "code",
   "execution_count": 5,
   "metadata": {
    "colab": {
     "base_uri": "https://localhost:8080/",
     "height": 122
    },
    "executionInfo": {
     "elapsed": 882,
     "status": "ok",
     "timestamp": 1596182672626,
     "user": {
      "displayName": "SUNNY BHAVEEN CHANDRA",
      "photoUrl": "https://lh3.googleusercontent.com/a-/AOh14GhEYJkaaSU5CST0x1qOWVQ1ebdsHY1yUGtmQh5J=s64",
      "userId": "13855564974173009808"
     },
     "user_tz": -330
    },
    "id": "yO8X2hwM4K_E",
    "outputId": "7e4ae7d9-65a8-45f9-f224-a05a8bed1102"
   },
   "outputs": [
    {
     "name": "stdout",
     "output_type": "stream",
     "text": [
      "You have BIKE: False\n",
      "You have CAR: True\n",
      "\n",
      "results:-\n",
      "You can travel 100 KMs: True\n",
      "\n"
     ]
    }
   ],
   "source": [
    "def travel_or_not(BIKE=True, CAR=False):\n",
    "    TRAVEL_100_KM = BIKE or CAR\n",
    "\n",
    "    print(f\"You have BIKE: {BIKE}\")\n",
    "    print(f\"You have CAR: {CAR}\")\n",
    "    return f\"You can travel 100 KMs: {TRAVEL_100_KM}\\n\"\n",
    "\n",
    "\n",
    "result = travel_or_not(False, True)\n",
    "print(f\"\\nresults:-\\n{result}\")"
   ]
  },
  {
   "cell_type": "markdown",
   "metadata": {
    "id": "49sCSt0a6FeZ"
   },
   "source": [
    "**EXAMPLE**:\n",
    "You can also return multiple values as show below -"
   ]
  },
  {
   "cell_type": "code",
   "execution_count": 9,
   "metadata": {
    "colab": {
     "base_uri": "https://localhost:8080/",
     "height": 87
    },
    "executionInfo": {
     "elapsed": 880,
     "status": "ok",
     "timestamp": 1596182914120,
     "user": {
      "displayName": "SUNNY BHAVEEN CHANDRA",
      "photoUrl": "https://lh3.googleusercontent.com/a-/AOh14GhEYJkaaSU5CST0x1qOWVQ1ebdsHY1yUGtmQh5J=s64",
      "userId": "13855564974173009808"
     },
     "user_tz": -330
    },
    "id": "RKkSF4954fxV",
    "outputId": "cd43a201-b05c-46c5-fe89-d8efbb51a16c"
   },
   "outputs": [
    {
     "name": "stdout",
     "output_type": "stream",
     "text": [
      "You have BIKE: False\n",
      "You have CAR: True\n",
      "You can travel 100 KMs: True\n",
      "\n"
     ]
    }
   ],
   "source": [
    "def travel_or_not(BIKE=True, CAR=False):\n",
    "    TRAVEL_100_KM = BIKE or CAR\n",
    "\n",
    "    return BIKE, CAR, TRAVEL_100_KM\n",
    "\n",
    "\n",
    "result1, result2, result3 = travel_or_not(False, True)\n",
    "print(f\"You have BIKE: {result1}\")\n",
    "print(f\"You have CAR: {result2}\")\n",
    "print(f\"You can travel 100 KMs: {result3}\\n\")"
   ]
  },
  {
   "cell_type": "markdown",
   "metadata": {
    "id": "LwhQ3ZkXbghp"
   },
   "source": [
    "### 7.4 Variable length args\n",
    "\n",
    "**EXAMPLE**:\n",
    "At some point there may be chance that you don't know how many args that you should pass. Lets check the example below -"
   ]
  },
  {
   "cell_type": "code",
   "execution_count": 1,
   "metadata": {
    "colab": {
     "base_uri": "https://localhost:8080/",
     "height": 52
    },
    "executionInfo": {
     "elapsed": 1099,
     "status": "ok",
     "timestamp": 1596192090014,
     "user": {
      "displayName": "SUNNY BHAVEEN CHANDRA",
      "photoUrl": "https://lh3.googleusercontent.com/a-/AOh14GhEYJkaaSU5CST0x1qOWVQ1ebdsHY1yUGtmQh5J=s64",
      "userId": "13855564974173009808"
     },
     "user_tz": -330
    },
    "id": "nm2ZWbb76wlF",
    "outputId": "a7ee2617-bc6d-475a-c841-25fadf424407"
   },
   "outputs": [
    {
     "name": "stdout",
     "output_type": "stream",
     "text": [
      "My branch was Electronics engineering\n",
      "I liked these subjects in graduation ('Digital Image Processing', 'Microprocessor')\n"
     ]
    }
   ],
   "source": [
    "def branch_and_subjects_in_graduation(*args, branch):\n",
    "    print(f\"My branch was {branch}\")\n",
    "    return f\"I liked these subjects in graduation {args}\"\n",
    "\n",
    "results = branch_and_subjects_in_graduation(\"Digital Image Processing\", \"Microprocessor\", branch=\"Electronics engineering\")\n",
    "print(results)"
   ]
  },
  {
   "cell_type": "code",
   "execution_count": 10,
   "metadata": {},
   "outputs": [
    {
     "data": {
      "text/plain": [
       "(4, (10, 20, 30, 40, 50, [4, 5]))"
      ]
     },
     "execution_count": 10,
     "metadata": {},
     "output_type": "execute_result"
    }
   ],
   "source": [
    "def test(*args, a = 4):\n",
    "    return a, args\n",
    "test(10,20,30,40,50,[4,5])"
   ]
  },
  {
   "cell_type": "code",
   "execution_count": 6,
   "metadata": {
    "colab": {
     "base_uri": "https://localhost:8080/",
     "height": 52
    },
    "executionInfo": {
     "elapsed": 1007,
     "status": "ok",
     "timestamp": 1596192127997,
     "user": {
      "displayName": "SUNNY BHAVEEN CHANDRA",
      "photoUrl": "https://lh3.googleusercontent.com/a-/AOh14GhEYJkaaSU5CST0x1qOWVQ1ebdsHY1yUGtmQh5J=s64",
      "userId": "13855564974173009808"
     },
     "user_tz": -330
    },
    "id": "NXXxJmi8cLUR",
    "outputId": "844ca67d-9145-450f-bdfb-ace601041956"
   },
   "outputs": [
    {
     "name": "stdout",
     "output_type": "stream",
     "text": [
      "My branch was Electronics engineering\n",
      "I liked these subjects in graduation ('Microprocessor',)\n"
     ]
    }
   ],
   "source": [
    "def branch_and_subjects_in_graduation(*args, branch=\"Electronics engineering\"):\n",
    "    print(f\"My branch was {branch}\")\n",
    "    return f\"I liked these subjects in graduation {args}\"\n",
    "\n",
    "results = branch_and_subjects_in_graduation(\"Microprocessor\")\n",
    "print(results)"
   ]
  },
  {
   "cell_type": "markdown",
   "metadata": {
    "id": "Dh0d8gc9KEj2"
   },
   "source": [
    "### 7.5 Variable length keyword args\n",
    "\n",
    "**EXAMPLE**:\n",
    "Some times we need varying keyword arguments as shown below-"
   ]
  },
  {
   "cell_type": "code",
   "execution_count": 1,
   "metadata": {
    "colab": {
     "base_uri": "https://localhost:8080/",
     "height": 34
    },
    "executionInfo": {
     "elapsed": 956,
     "status": "ok",
     "timestamp": 1596455588986,
     "user": {
      "displayName": "SUNNY BHAVEEN CHANDRA",
      "photoUrl": "https://lh3.googleusercontent.com/a-/AOh14GhEYJkaaSU5CST0x1qOWVQ1ebdsHY1yUGtmQh5J=s64",
      "userId": "13855564974173009808"
     },
     "user_tz": -330
    },
    "id": "-eAm8jZXd3NH",
    "outputId": "49c5def3-c560-4759-9d9b-3fb10f1e4b72"
   },
   "outputs": [
    {
     "name": "stdout",
     "output_type": "stream",
     "text": [
      "{'Digital_Image_Processing': 78, 'Microprocessor': 79, 'Signals_and_systems': 83}\n"
     ]
    }
   ],
   "source": [
    "def marks_in_subjects_of_semester(**kwargs):\n",
    "    print(kwargs)\n",
    "\n",
    "marks_in_subjects_of_semester(Digital_Image_Processing = 78, Microprocessor= 79, Signals_and_systems=83)"
   ]
  },
  {
   "cell_type": "code",
   "execution_count": null,
   "metadata": {},
   "outputs": [],
   "source": [
    "def test1(**kwargs):\n",
    "    print(kwargs)"
   ]
  },
  {
   "cell_type": "code",
   "execution_count": null,
   "metadata": {},
   "outputs": [],
   "source": [
    "test1(a=10,b=20,c=30,d=40)"
   ]
  },
  {
   "cell_type": "code",
   "execution_count": null,
   "metadata": {},
   "outputs": [],
   "source": [
    "A=[]\n",
    "B=()\n"
   ]
  },
  {
   "cell_type": "code",
   "execution_count": 3,
   "metadata": {
    "colab": {
     "base_uri": "https://localhost:8080/",
     "height": 70
    },
    "executionInfo": {
     "elapsed": 1059,
     "status": "ok",
     "timestamp": 1596455689203,
     "user": {
      "displayName": "SUNNY BHAVEEN CHANDRA",
      "photoUrl": "https://lh3.googleusercontent.com/a-/AOh14GhEYJkaaSU5CST0x1qOWVQ1ebdsHY1yUGtmQh5J=s64",
      "userId": "13855564974173009808"
     },
     "user_tz": -330
    },
    "id": "U0Qp8F3TKxA8",
    "outputId": "18f63c34-bcdd-4153-a324-b1f577fef8f6"
   },
   "outputs": [
    {
     "name": "stdout",
     "output_type": "stream",
     "text": [
      "Score in Digital_Image_Processing = 78\n",
      "Score in Microprocessor = 79\n",
      "Score in Signals_and_systems = 83\n"
     ]
    }
   ],
   "source": [
    "def marks_in_subjects_of_semester(**kwargs):\n",
    "    for subject, marks in kwargs.items():\n",
    "        print(f\"Score in {subject} = {marks}\")\n",
    "\n",
    "marks_in_subjects_of_semester(Digital_Image_Processing = 78, Microprocessor= 79, Signals_and_systems=83)"
   ]
  },
  {
   "cell_type": "markdown",
   "metadata": {
    "id": "zGhIjY4wLPdO"
   },
   "source": [
    "### 7.6 Functions inside functions -\n",
    "**EXAMPLE**:"
   ]
  },
  {
   "cell_type": "code",
   "execution_count": 2,
   "metadata": {
    "colab": {
     "base_uri": "https://localhost:8080/",
     "height": 105
    },
    "executionInfo": {
     "elapsed": 972,
     "status": "ok",
     "timestamp": 1596455931674,
     "user": {
      "displayName": "SUNNY BHAVEEN CHANDRA",
      "photoUrl": "https://lh3.googleusercontent.com/a-/AOh14GhEYJkaaSU5CST0x1qOWVQ1ebdsHY1yUGtmQh5J=s64",
      "userId": "13855564974173009808"
     },
     "user_tz": -330
    },
    "id": "Gj8AiIstLDsd",
    "outputId": "7281742a-94e0-4bb6-c016-bfe521bccade"
   },
   "outputs": [
    {
     "name": "stdout",
     "output_type": "stream",
     "text": [
      "Score in Digital_Image_Processing = 78\n",
      "Score in Microprocessor = 79\n",
      "Score in Signals_and_systems = 83\n",
      "\n",
      "total marks obtained 240\n"
     ]
    }
   ],
   "source": [
    "def marks_in_subjects_of_semester(**kwargs):\n",
    "    def total_marks(marks_list):\n",
    "        return sum(marks_list)\n",
    "    \n",
    "    marks_list = list()\n",
    "    for subject, marks in kwargs.items():\n",
    "        marks_list.append(marks)\n",
    "        pr(f\"Scointre in {subject} = {marks}\")\n",
    "    \n",
    "    return total_marks(marks_list)\n",
    "\n",
    "results = marks_in_subjects_of_semester(Digital_Image_Processing = 78, Microprocessor= 79, Signals_and_systems=83)\n",
    "\n",
    "print(f\"\\ntotal marks obtained {results}\")\n"
   ]
  },
  {
   "cell_type": "markdown",
   "metadata": {
    "id": "1fPdPbr2arGm"
   },
   "source": [
    "### 7.7 Anonymous Function or Lambda Function\n",
    "\n",
    "**EXAMPLE**: Lets convert below example into a onliner or lambda function"
   ]
  },
  {
   "cell_type": "markdown",
   "metadata": {
    "id": "t0t-QK1KbIqB"
   },
   "source": [
    "```python\n",
    "def travel_or_not(BIKE=True, CAR=False):\n",
    "    TRAVEL_100_KM = BIKE or CAR\n",
    "\n",
    "    print(f\"You have BIKE: {BIKE}\")\n",
    "    print(f\"You have CAR: {CAR}\")\n",
    "    return f\"You can travel 100 KMs: {TRAVEL_100_KM}\\n\"\n",
    "\n",
    "\n",
    "result = travel_or_not(False, True)\n",
    "print(f\"\\nresults:-\\n{result}\")\n",
    "```"
   ]
  },
  {
   "cell_type": "code",
   "execution_count": 9,
   "metadata": {
    "colab": {
     "base_uri": "https://localhost:8080/",
     "height": 89
    },
    "executionInfo": {
     "elapsed": 942,
     "status": "ok",
     "timestamp": 1597701592957,
     "user": {
      "displayName": "SUNNY BHAVEEN CHANDRA",
      "photoUrl": "https://lh3.googleusercontent.com/a-/AOh14GhEYJkaaSU5CST0x1qOWVQ1ebdsHY1yUGtmQh5J=s64",
      "userId": "13855564974173009808"
     },
     "user_tz": -330
    },
    "id": "H7NOHoK2O9Xl",
    "outputId": "a089f571-6009-4d46-eb44-2af6dcd507b0"
   },
   "outputs": [
    {
     "name": "stdout",
     "output_type": "stream",
     "text": [
      "\n",
      "results:-\n",
      "You can travel 100 KMs: True\n",
      "\n",
      "\n",
      "results:-\n",
      "You can travel 100 KMs: True\n",
      "\n"
     ]
    }
   ],
   "source": [
    "BIKE=True\n",
    "CAR=False\n",
    "\n",
    "result = lambda BIKE, CAR: f\"You can travel 100 KMs: {BIKE or CAR}\\n\"\n",
    "print(f\"\\nresults:-\\n{result(BIKE, CAR)}\")\n",
    "print(f\"\\nresults:-\\n{result(BIKE, CAR)}\")"
   ]
  },
  {
   "cell_type": "markdown",
   "metadata": {
    "id": "km5laIO9b85P"
   },
   "source": [
    "**EXAMPLE**\n",
    "Lets make a lambda function that returns power of an input no. It takes power and number as an input"
   ]
  },
  {
   "cell_type": "code",
   "execution_count": 2,
   "metadata": {
    "colab": {
     "base_uri": "https://localhost:8080/",
     "height": 35
    },
    "executionInfo": {
     "elapsed": 912,
     "status": "ok",
     "timestamp": 1597701812793,
     "user": {
      "displayName": "SUNNY BHAVEEN CHANDRA",
      "photoUrl": "https://lh3.googleusercontent.com/a-/AOh14GhEYJkaaSU5CST0x1qOWVQ1ebdsHY1yUGtmQh5J=s64",
      "userId": "13855564974173009808"
     },
     "user_tz": -330
    },
    "id": "2OCQhMhwbuaT",
    "outputId": "4be5414e-7c50-4062-e2a5-b27eac047f20"
   },
   "outputs": [
    {
     "name": "stdout",
     "output_type": "stream",
     "text": [
      "2\n",
      "3\n",
      "2 to the power of 3 is 8\n"
     ]
    }
   ],
   "source": [
    "number = int(input())\n",
    "power = int(input())\n",
    "result = lambda number, power: number**power\n",
    "print(f\"{number} to the power of {power} is {result(number, power)}\")"
   ]
  },
  {
   "cell_type": "code",
   "execution_count": 1,
   "metadata": {},
   "outputs": [
    {
     "data": {
      "text/plain": [
       "8"
      ]
     },
     "execution_count": 1,
     "metadata": {},
     "output_type": "execute_result"
    }
   ],
   "source": [
    "result = lambda number, power: number**power\n",
    "result(2,3)"
   ]
  },
  {
   "cell_type": "code",
   "execution_count": 2,
   "metadata": {},
   "outputs": [
    {
     "name": "stdout",
     "output_type": "stream",
     "text": [
      "a is a integer nuber\n",
      "5 is a  interger number\n"
     ]
    }
   ],
   "source": [
    "a = 5\n",
    "print(\"a is a integer nuber\")\n",
    "print(f\"{a} is a  interger number\")"
   ]
  },
  {
   "cell_type": "code",
   "execution_count": 5,
   "metadata": {},
   "outputs": [
    {
     "data": {
      "text/plain": [
       "81"
      ]
     },
     "execution_count": 5,
     "metadata": {},
     "output_type": "execute_result"
    }
   ],
   "source": [
    "result(3,4)"
   ]
  },
  {
   "cell_type": "code",
   "execution_count": 5,
   "metadata": {},
   "outputs": [
    {
     "data": {
      "text/plain": [
       "125"
      ]
     },
     "execution_count": 5,
     "metadata": {},
     "output_type": "execute_result"
    }
   ],
   "source": [
    "number = 5\n",
    "power = 3\n",
    "result = lambda number, power: number**power\n",
    "result(number,power)"
   ]
  },
  {
   "cell_type": "markdown",
   "metadata": {
    "id": "tW65_zyDc1Wg"
   },
   "source": [
    "### 7.8 Scope of variables\n",
    "* Variables defined inside the function are known as Local variable\n",
    "\n",
    "* Global varaibles can be accessed anywhere in the script unlike local variable who's scope is defined within the function only. \n",
    "\n",
    "**EXAMPLE**"
   ]
  },
  {
   "cell_type": "code",
   "execution_count": 3,
   "metadata": {
    "colab": {
     "base_uri": "https://localhost:8080/",
     "height": 53
    },
    "executionInfo": {
     "elapsed": 834,
     "status": "ok",
     "timestamp": 1597702381089,
     "user": {
      "displayName": "SUNNY BHAVEEN CHANDRA",
      "photoUrl": "https://lh3.googleusercontent.com/a-/AOh14GhEYJkaaSU5CST0x1qOWVQ1ebdsHY1yUGtmQh5J=s64",
      "userId": "13855564974173009808"
     },
     "user_tz": -330
    },
    "id": "oRjEhhrack15",
    "outputId": "56b9f9cf-2cd8-40e7-c13f-3277d307c1b4"
   },
   "outputs": [
    {
     "name": "stdout",
     "output_type": "stream",
     "text": [
      "result after division inside the function: 125\n",
      "result after division outside the function: 0\n"
     ]
    }
   ],
   "source": [
    "result = 0 # outside the scope of function\n",
    "\n",
    "def divide(numerator, denominator):\n",
    "    result = numerator//denominator # result inside the scope of function\n",
    "    print(f\"result after division inside the function: {result}\")\n",
    "\n",
    "numerator = 625\n",
    "denominator = 5\n",
    "divide(numerator, denominator)\n",
    "\n",
    "print(f\"result after division outside the function: {result}\")"
   ]
  },
  {
   "cell_type": "markdown",
   "metadata": {
    "id": "_97TSpl0f-FO"
   },
   "source": [
    "### 7.9 Docstring\n",
    "\n",
    "```python\n",
    "def function():\n",
    "    \"\"\"\n",
    "    This is docstring of the function.\n",
    "    \"\"\"\n",
    "    pass\n",
    "```\n",
    "**EXAMPLE**"
   ]
  },
  {
   "cell_type": "code",
   "execution_count": null,
   "metadata": {
    "colab": {
     "base_uri": "https://localhost:8080/",
     "height": 35
    },
    "executionInfo": {
     "elapsed": 892,
     "status": "ok",
     "timestamp": 1597703069174,
     "user": {
      "displayName": "SUNNY BHAVEEN CHANDRA",
      "photoUrl": "https://lh3.googleusercontent.com/a-/AOh14GhEYJkaaSU5CST0x1qOWVQ1ebdsHY1yUGtmQh5J=s64",
      "userId": "13855564974173009808"
     },
     "user_tz": -330
    },
    "id": "Nx8xFCzHgLng",
    "outputId": "6c170cd4-b2de-42b4-8f9c-ff4105fba9a2"
   },
   "outputs": [],
   "source": [
    "def find_power(number, power):\n",
    "    \"\"\"This function returns the power of the number\n",
    "\n",
    "    Args:\n",
    "        number (int): insert any integer value\n",
    "        power (int): insert any integer value\n",
    "\n",
    "    Returns:\n",
    "        integer: power of number\n",
    "    \"\"\"\n",
    "    return number**power\n",
    "\n",
    "number = 5\n",
    "power = 3\n",
    "result = find_power(number, power)\n",
    "\n",
    "print(f\"{number} to the power of {power} is {result}\")"
   ]
  },
  {
   "cell_type": "code",
   "execution_count": null,
   "metadata": {
    "colab": {
     "base_uri": "https://localhost:8080/",
     "height": 233
    },
    "executionInfo": {
     "elapsed": 940,
     "status": "ok",
     "timestamp": 1597703190258,
     "user": {
      "displayName": "SUNNY BHAVEEN CHANDRA",
      "photoUrl": "https://lh3.googleusercontent.com/a-/AOh14GhEYJkaaSU5CST0x1qOWVQ1ebdsHY1yUGtmQh5J=s64",
      "userId": "13855564974173009808"
     },
     "user_tz": -330
    },
    "id": "MfrP3JG4heUu",
    "outputId": "3b377e1a-b950-44ee-99b8-61cd1b6c3bf0"
   },
   "outputs": [],
   "source": [
    "# This prints the docstring.\n",
    "# Its very good practice to write the docstring of very important function\n",
    "# It imroves code readabilty\n",
    "help(find_power)"
   ]
  },
  {
   "cell_type": "markdown",
   "metadata": {},
   "source": [
    "FUNCTIONS\n",
    "\n",
    "## ----------------------------------------------------------------------"
   ]
  },
  {
   "cell_type": "markdown",
   "metadata": {},
   "source": [
    "code re-usability. "
   ]
  },
  {
   "cell_type": "markdown",
   "metadata": {},
   "source": [
    "To create and use a function we have to take 2 steps:\n",
    "\n",
    "\n",
    "Function Definition: Creating or writing the body of a function is called defining it. It contains the set of statements we want to run , when the function execute.\n",
    "\n",
    "Function Call: A function never runs automatically . So to execute it’s statements we must call it\n"
   ]
  },
  {
   "cell_type": "code",
   "execution_count": null,
   "metadata": {},
   "outputs": [],
   "source": [
    "def function_name(param1,param2):\n",
    "    statement(s)\n"
   ]
  },
  {
   "cell_type": "markdown",
   "metadata": {},
   "source": [
    "### About Return Statement"
   ]
  },
  {
   "cell_type": "markdown",
   "metadata": {},
   "source": [
    "- Return value\n",
    "\n",
    "- Return multiple value\n",
    "\n",
    "- it will stop the execution from that line itself\n"
   ]
  },
  {
   "cell_type": "code",
   "execution_count": null,
   "metadata": {},
   "outputs": [],
   "source": [
    "def add(x,y):\n",
    "    a=x\n",
    "    b=y\n",
    "    c=a+b\n",
    "    #print(c)\n",
    "    mul=x*y\n",
    "    print(mul)\n",
    "    return c\n",
    "    "
   ]
  },
  {
   "cell_type": "code",
   "execution_count": null,
   "metadata": {},
   "outputs": [],
   "source": [
    "add(10,20)"
   ]
  },
  {
   "cell_type": "markdown",
   "metadata": {},
   "source": [
    "#### Parameter vs Argument"
   ]
  },
  {
   "cell_type": "markdown",
   "metadata": {},
   "source": [
    "In Python , a function can have 4 types of arguments:\n",
    "\n",
    "Positional Argument\n",
    "\n",
    "Keyword Argument\n",
    "\n",
    "Default Argument\n",
    "\n",
    "Variable Length Argument\n"
   ]
  },
  {
   "cell_type": "markdown",
   "metadata": {},
   "source": [
    "if number of argument is not matching with number of parameter then we will get a type error."
   ]
  },
  {
   "cell_type": "markdown",
   "metadata": {},
   "source": [
    "#### Positional Argument"
   ]
  },
  {
   "cell_type": "code",
   "execution_count": 6,
   "metadata": {},
   "outputs": [],
   "source": [
    "def attach(s1,s2):\n",
    "    s3=s1+s2\n",
    "    print(\"Joined String is:\",s3)"
   ]
  },
  {
   "cell_type": "code",
   "execution_count": 7,
   "metadata": {},
   "outputs": [
    {
     "name": "stdout",
     "output_type": "stream",
     "text": [
      "Joined String is: GoodEvening\n"
     ]
    }
   ],
   "source": [
    "attach(\"Good\",\"Evening\")"
   ]
  },
  {
   "cell_type": "code",
   "execution_count": null,
   "metadata": {},
   "outputs": [],
   "source": [
    "def grocery(name,price):\n",
    "    print(\"Item is\",name,\"It's price is\",price)\n",
    "\n",
    "\n"
   ]
  },
  {
   "cell_type": "code",
   "execution_count": null,
   "metadata": {},
   "outputs": [],
   "source": [
    "grocery(\"Bread\",20)\n"
   ]
  },
  {
   "cell_type": "code",
   "execution_count": null,
   "metadata": {},
   "outputs": [],
   "source": [
    "grocery(150,\"Butter\")"
   ]
  },
  {
   "cell_type": "markdown",
   "metadata": {},
   "source": [
    "#### Keyword Argument"
   ]
  },
  {
   "cell_type": "code",
   "execution_count": null,
   "metadata": {},
   "outputs": [],
   "source": [
    "def grocery(name,price):\n",
    "    print(\"Item is\",name,\"It's price is\",price)\n",
    "\n"
   ]
  },
  {
   "cell_type": "code",
   "execution_count": null,
   "metadata": {},
   "outputs": [],
   "source": [
    "grocery('bread',200)"
   ]
  },
  {
   "cell_type": "code",
   "execution_count": null,
   "metadata": {},
   "outputs": [],
   "source": [
    "grocery(200,'bread')"
   ]
  },
  {
   "cell_type": "code",
   "execution_count": null,
   "metadata": {},
   "outputs": [],
   "source": [
    "grocery(name=\"Bread\",price=20)\n",
    "\n"
   ]
  },
  {
   "cell_type": "code",
   "execution_count": null,
   "metadata": {},
   "outputs": [],
   "source": [
    "grocery(price=150,name=\"Butter\")"
   ]
  },
  {
   "cell_type": "code",
   "execution_count": null,
   "metadata": {},
   "outputs": [],
   "source": [
    "### A positional argument can never follow a keyword argument i.e. the keyword argument should always appear after positional argument\n",
    "\n",
    "###For example:\n",
    "\n",
    "\n"
   ]
  },
  {
   "cell_type": "code",
   "execution_count": null,
   "metadata": {},
   "outputs": [],
   "source": [
    "def display(num1,num2):\n",
    "    # some code\n",
    "    pass\n"
   ]
  },
  {
   "cell_type": "code",
   "execution_count": null,
   "metadata": {},
   "outputs": [],
   "source": [
    "display(num1=10,15)"
   ]
  },
  {
   "cell_type": "code",
   "execution_count": null,
   "metadata": {},
   "outputs": [],
   "source": [
    "display(15,num1=10)"
   ]
  },
  {
   "cell_type": "code",
   "execution_count": null,
   "metadata": {},
   "outputs": [],
   "source": [
    "display(15,num2=10)"
   ]
  },
  {
   "cell_type": "code",
   "execution_count": null,
   "metadata": {},
   "outputs": [],
   "source": [
    "def display(10,num2=15):\n",
    "    pass"
   ]
  },
  {
   "cell_type": "code",
   "execution_count": null,
   "metadata": {},
   "outputs": [],
   "source": []
  },
  {
   "cell_type": "code",
   "execution_count": null,
   "metadata": {},
   "outputs": [],
   "source": [
    "Now if we call the above function as:\n",
    "\n",
    "\n",
    "\n",
    "Then it will be correct. But if we call it as:\n",
    "\n",
    "\n",
    "\n",
    "Then it will be a Syntax Error"
   ]
  },
  {
   "cell_type": "markdown",
   "metadata": {},
   "source": [
    "### Default Argument"
   ]
  },
  {
   "cell_type": "markdown",
   "metadata": {},
   "source": [
    "For some functions, we may want to make some parameters optional and use default values in case the user does not want to provide values for them. \n",
    "\n",
    "This is done with the help of default argument values. \n",
    "\n",
    "We can specify default argument values for parameters by appending to the parameter name in the function definition the assignment operator (=) followed by the default value.\n",
    "\n"
   ]
  },
  {
   "cell_type": "markdown",
   "metadata": {},
   "source": [
    "#Syntax:\n",
    "def function_name(paramname1=value,paramname2=value):\n",
    "    # function body\n",
    "    pass\n"
   ]
  },
  {
   "cell_type": "code",
   "execution_count": null,
   "metadata": {},
   "outputs": [],
   "source": [
    "def greet(name,msg=\"Good Morning\"):\n",
    "    print(\"Hello\",name,msg)"
   ]
  },
  {
   "cell_type": "code",
   "execution_count": null,
   "metadata": {},
   "outputs": [],
   "source": [
    "greet(\"Sunny\")"
   ]
  },
  {
   "cell_type": "code",
   "execution_count": null,
   "metadata": {},
   "outputs": [],
   "source": [
    "greet(\"sunny\",\"How are you?\")\n"
   ]
  },
  {
   "cell_type": "markdown",
   "metadata": {},
   "source": [
    "A function can have any number of default arguments but t once we have a default argument, all the arguments to it’s right must also have default values.\n",
    "\n",
    "\n",
    "This means to say, non-default arguments cannot follow default arguments.\n"
   ]
  },
  {
   "cell_type": "code",
   "execution_count": null,
   "metadata": {},
   "outputs": [],
   "source": [
    "\n",
    "def greet(msg = \"Good morning!\", name):\n",
    "    pass"
   ]
  },
  {
   "cell_type": "code",
   "execution_count": null,
   "metadata": {},
   "outputs": [],
   "source": [
    "For example:  if we had defined the function header above as:\n",
    "\n",
    "def greet(msg = \"Good morning!\", name):\n",
    "\n",
    "Then we would have got the following SyntaxError\n"
   ]
  },
  {
   "cell_type": "code",
   "execution_count": null,
   "metadata": {},
   "outputs": [],
   "source": [
    "def show(a=10,b=20,c=30):\n",
    "    print(a,b,c)\n"
   ]
  },
  {
   "cell_type": "markdown",
   "metadata": {},
   "source": [
    "### Excercise\n",
    "\n",
    "Write a function called cal_area( ) using default argument concept which accepts radius and pi as arguments and calculates and displays area of the Circle. The value of pi should be used as default argument and value of radius should be accepted from the user"
   ]
  },
  {
   "cell_type": "markdown",
   "metadata": {},
   "source": [
    "### Function or Method Overloading\n"
   ]
  },
  {
   "cell_type": "markdown",
   "metadata": {},
   "source": [
    "Method Overloading is an example of Compile time polymorphism.In this, more than one method of the same class shares the same method name having different parameters.If a class has multiple methods having same name but different in parameters, it is known as Method Overloading.\n",
    "\n",
    "Note: Python does not support method overloading. We may overload the methods but can only use the latest defined method."
   ]
  },
  {
   "cell_type": "code",
   "execution_count": null,
   "metadata": {},
   "outputs": [],
   "source": [
    "def addnos(a,b):\n",
    "    c=a+b\n",
    "    return c\n"
   ]
  },
  {
   "cell_type": "code",
   "execution_count": null,
   "metadata": {},
   "outputs": [],
   "source": [
    "def addnos(a,b,c):\n",
    "    d=a+b+c\n",
    "    return d   \n"
   ]
  },
  {
   "cell_type": "code",
   "execution_count": null,
   "metadata": {},
   "outputs": [],
   "source": [
    "def addnos(a,b,c,d):\n",
    "    d=a+b+c+d\n",
    "    return d  "
   ]
  },
  {
   "cell_type": "code",
   "execution_count": null,
   "metadata": {},
   "outputs": [],
   "source": [
    "addnos(10,20,30,40)"
   ]
  },
  {
   "cell_type": "code",
   "execution_count": null,
   "metadata": {},
   "outputs": [],
   "source": [
    "print(addnos(10,20))\n",
    "\n"
   ]
  },
  {
   "cell_type": "code",
   "execution_count": null,
   "metadata": {},
   "outputs": [],
   "source": [
    "print(addnos(10,20,30)) "
   ]
  },
  {
   "cell_type": "markdown",
   "metadata": {},
   "source": [
    "The error occurred because Python does not support Function or Method Overloading\n",
    "\n",
    "Moreover Python understands the latest definition of a function addnos( ) which takes 3 arguments \n",
    "\n",
    "Now since we passed 2 arguments only , the call generated error because Python tried to call the method with 3 arguments\n"
   ]
  },
  {
   "cell_type": "markdown",
   "metadata": {},
   "source": [
    "### Variable Length Arguments"
   ]
  },
  {
   "cell_type": "markdown",
   "metadata": {},
   "source": [
    "The solution to this problem is a technique called variable length arguments\n",
    "\n",
    "\n",
    "\n",
    "\n",
    "In this technique , we define the function in such a way that it can accept any number of arguments from 0 to infinite\n"
   ]
  },
  {
   "cell_type": "code",
   "execution_count": null,
   "metadata": {},
   "outputs": [],
   "source": [
    "def test(**sunny):\n",
    "    print(sunny)\n",
    "    print(type(sunny))"
   ]
  },
  {
   "cell_type": "code",
   "execution_count": null,
   "metadata": {},
   "outputs": [],
   "source": [
    "test(10)"
   ]
  },
  {
   "cell_type": "code",
   "execution_count": null,
   "metadata": {},
   "outputs": [],
   "source": [
    "test(10,20)"
   ]
  },
  {
   "cell_type": "code",
   "execution_count": null,
   "metadata": {},
   "outputs": [],
   "source": [
    "test(10,20,30)"
   ]
  },
  {
   "cell_type": "code",
   "execution_count": 8,
   "metadata": {},
   "outputs": [
    {
     "data": {
      "text/plain": [
       "50.24"
      ]
     },
     "execution_count": 8,
     "metadata": {},
     "output_type": "execute_result"
    }
   ],
   "source": [
    "def cal_area(r,pi=3.14):\n",
    "    \"\"\"this is a function for calculate area of circle\"\"\"\n",
    "    area = pi*r*r\n",
    "    return area\n",
    "\n",
    "cal_area(4)"
   ]
  },
  {
   "cell_type": "code",
   "execution_count": 4,
   "metadata": {},
   "outputs": [],
   "source": [
    "import math"
   ]
  },
  {
   "cell_type": "code",
   "execution_count": 7,
   "metadata": {},
   "outputs": [
    {
     "data": {
      "text/plain": [
       "3.141592653589793"
      ]
     },
     "execution_count": 7,
     "metadata": {},
     "output_type": "execute_result"
    }
   ],
   "source": [
    "math.pi"
   ]
  },
  {
   "cell_type": "code",
   "execution_count": 4,
   "metadata": {},
   "outputs": [],
   "source": [
    "def addnos(*a):\n",
    "    sum =0\n",
    "    for x in a:\n",
    "        sum=sum+x\n",
    "    return sum"
   ]
  },
  {
   "cell_type": "code",
   "execution_count": 5,
   "metadata": {},
   "outputs": [
    {
     "name": "stdout",
     "output_type": "stream",
     "text": [
      "30\n",
      "60\n",
      "100\n"
     ]
    }
   ],
   "source": [
    "print(addnos(10,20))\n",
    "print(addnos(10,20,30)) \n",
    "print(addnos(10,20,30,40)) "
   ]
  },
  {
   "cell_type": "code",
   "execution_count": null,
   "metadata": {},
   "outputs": [],
   "source": [
    "type(10)"
   ]
  },
  {
   "cell_type": "code",
   "execution_count": null,
   "metadata": {},
   "outputs": [],
   "source": [
    "type((10))"
   ]
  },
  {
   "cell_type": "code",
   "execution_count": null,
   "metadata": {},
   "outputs": [],
   "source": [
    "type((10,))"
   ]
  },
  {
   "cell_type": "markdown",
   "metadata": {},
   "source": [
    "### Method Overriding"
   ]
  },
  {
   "cell_type": "markdown",
   "metadata": {},
   "source": [
    "Method overriding is an ability of any object-oriented programming language that allows a subclass or child class to provide a specific implementation of a method that is already provided by one of its super-classes or parent classes."
   ]
  },
  {
   "attachments": {
    "image.png": {
     "image/png": "[encoded data removed]"
    }
   },
   "cell_type": "markdown",
   "metadata": {},
   "source": [
    "![image.png](attachment:image.png)"
   ]
  },
  {
   "cell_type": "code",
   "execution_count": null,
   "metadata": {},
   "outputs": [],
   "source": [
    "# Defining parent class\n",
    "class Animal():\n",
    "      \n",
    "    # Constructor\n",
    "    def __init__(self):\n",
    "        self.value = \"Inside Parent\"\n",
    "          \n",
    "    # Parent's show method\n",
    "    def show(self):\n",
    "        print(self.value)\n",
    "    \n",
    "    def eat(self):\n",
    "        pass"
   ]
  },
  {
   "cell_type": "code",
   "execution_count": null,
   "metadata": {},
   "outputs": [],
   "source": [
    "# Defining child class\n",
    "class Dog(Animal):\n",
    "      \n",
    "    # Constructor\n",
    "    def __init__(self):\n",
    "        self.value = \"Inside Child\"\n",
    "          \n",
    "    # Child's show method\n",
    "    def show(self):\n",
    "        print(self.value)\n",
    "    \n",
    "    def eat(self):\n",
    "        pass"
   ]
  },
  {
   "cell_type": "code",
   "execution_count": null,
   "metadata": {},
   "outputs": [],
   "source": [
    "# Driver's code\n",
    "obj1 = Parent()\n",
    "obj2 = Child()\n",
    "  \n",
    "obj1.show()\n",
    "obj2.show()"
   ]
  },
  {
   "cell_type": "code",
   "execution_count": null,
   "metadata": {},
   "outputs": [],
   "source": []
  },
  {
   "cell_type": "markdown",
   "metadata": {},
   "source": [
    "### Exercise\n",
    "Write a function called find_largest( ) which accepts multiple strings as argument and returns the length of the largest string\n"
   ]
  },
  {
   "cell_type": "code",
   "execution_count": null,
   "metadata": {},
   "outputs": [],
   "source": [
    "### A function cannot have 2 variable length arguments. So the following is wrong:\n",
    "\n",
    "def addnos(*a,*b):\n",
    "    pass\n"
   ]
  },
  {
   "cell_type": "code",
   "execution_count": 1,
   "metadata": {},
   "outputs": [],
   "source": [
    "#If we have any other argument along with variable length argument , then it should be set before the variable length argument\n",
    "def addnos(n,*a):\n",
    "    sum =n\n",
    "    print(n)\n",
    "    print(a)\n",
    "    for x in a:\n",
    "        sum=sum+x\n",
    "    return sum\n"
   ]
  },
  {
   "cell_type": "code",
   "execution_count": 3,
   "metadata": {},
   "outputs": [
    {
     "name": "stdout",
     "output_type": "stream",
     "text": [
      "10\n",
      "(20, 30)\n"
     ]
    },
    {
     "data": {
      "text/plain": [
       "60"
      ]
     },
     "execution_count": 3,
     "metadata": {},
     "output_type": "execute_result"
    }
   ],
   "source": [
    "addnos(10,20,30)"
   ]
  },
  {
   "cell_type": "code",
   "execution_count": null,
   "metadata": {},
   "outputs": [],
   "source": [
    "\n",
    "print(addnos(10,20,30,40))"
   ]
  },
  {
   "cell_type": "code",
   "execution_count": null,
   "metadata": {},
   "outputs": [],
   "source": [
    "#If we set the other argument used with variable length argument , after the variable length argument then while calling it , we must pass it as keyword argument\n",
    "\n",
    "def addnos(*a,n):\n",
    "    print(a)\n",
    "    print(n)\n",
    "    sum =n\n",
    "    for x in a:\n",
    "        sum=sum+x\n",
    "    return sum\n"
   ]
  },
  {
   "cell_type": "code",
   "execution_count": null,
   "metadata": {},
   "outputs": [],
   "source": [
    "addnos(20,30,n=40)"
   ]
  },
  {
   "cell_type": "code",
   "execution_count": null,
   "metadata": {},
   "outputs": [],
   "source": [
    "print(addnos(20,30,n=10))"
   ]
  },
  {
   "cell_type": "code",
   "execution_count": null,
   "metadata": {},
   "outputs": [],
   "source": [
    "\n",
    "print(addnos(20,30,40,n=10))"
   ]
  },
  {
   "cell_type": "markdown",
   "metadata": {},
   "source": [
    "## User Defined Functions\n",
    "\n",
    "Variable Scope\n",
    "\n",
    "Local Scope\n",
    "\n",
    "Global Scope\n",
    "\n",
    "Argument Passing\n"
   ]
  },
  {
   "cell_type": "code",
   "execution_count": null,
   "metadata": {},
   "outputs": [],
   "source": [
    "Local : Inside a function body\n",
    "Enclosing: Inside an outer function’s body . We will discuss it later\n",
    "Global: At the module level\n",
    "Built In: At the interpreter level\n"
   ]
  },
  {
   "cell_type": "code",
   "execution_count": 4,
   "metadata": {},
   "outputs": [
    {
     "data": {
      "text/plain": [
       "5"
      ]
     },
     "execution_count": 4,
     "metadata": {},
     "output_type": "execute_result"
    }
   ],
   "source": [
    "a = 5\n",
    "def test():\n",
    "    b=10\n",
    "    return a,b\n",
    "\n",
    "def test1():\n",
    "    return a\n",
    "\n",
    "\n",
    "test1()"
   ]
  },
  {
   "cell_type": "code",
   "execution_count": 2,
   "metadata": {},
   "outputs": [
    {
     "data": {
      "text/plain": [
       "5"
      ]
     },
     "execution_count": 2,
     "metadata": {},
     "output_type": "execute_result"
    }
   ],
   "source": [
    "def test1():\n",
    "    return a\n",
    "def test2():\n",
    "    return a\n",
    "a = 5\n",
    "test1()"
   ]
  },
  {
   "cell_type": "code",
   "execution_count": 6,
   "metadata": {},
   "outputs": [
    {
     "data": {
      "text/plain": [
       "(10, 20)"
      ]
     },
     "execution_count": 6,
     "metadata": {},
     "output_type": "execute_result"
    }
   ],
   "source": [
    "def test(a,b):\n",
    "    return a,b\n",
    "test(10,20)"
   ]
  },
  {
   "cell_type": "code",
   "execution_count": 3,
   "metadata": {},
   "outputs": [
    {
     "name": "stdout",
     "output_type": "stream",
     "text": [
      "I love Python\n"
     ]
    }
   ],
   "source": [
    "s = \"I love Python\"#global variable\n",
    "def f(): \n",
    "    print(s) \n",
    "def f1(): \n",
    "    print(s)\n",
    "f1()"
   ]
  },
  {
   "cell_type": "code",
   "execution_count": 1,
   "metadata": {},
   "outputs": [
    {
     "name": "stdout",
     "output_type": "stream",
     "text": [
      "I love Python\n"
     ]
    }
   ],
   "source": [
    "def f(): \n",
    "    print(s) \n",
    "\n",
    "s = \"I love Python\"# global or local?\n",
    "f()\n"
   ]
  },
  {
   "cell_type": "code",
   "execution_count": 7,
   "metadata": {},
   "outputs": [
    {
     "name": "stdout",
     "output_type": "stream",
     "text": [
      "I love Python\n"
     ]
    }
   ],
   "source": [
    "def f():\n",
    "    p=\"I love Python\"\n",
    "    print(p)\n",
    "f()"
   ]
  },
  {
   "cell_type": "code",
   "execution_count": 9,
   "metadata": {},
   "outputs": [
    {
     "name": "stdout",
     "output_type": "stream",
     "text": [
      "I love C\n",
      "1206934344880\n",
      "I love python\n",
      "1206934344048\n"
     ]
    }
   ],
   "source": [
    "s2=\"I love python\"\n",
    "def f():\n",
    "    s2=\"I love C\"\n",
    "    print(s2)\n",
    "    print(id(s2))\n",
    "f()\n",
    "print(s2)\n",
    "print(id(s2))"
   ]
  },
  {
   "cell_type": "code",
   "execution_count": 15,
   "metadata": {},
   "outputs": [
    {
     "name": "stdout",
     "output_type": "stream",
     "text": [
      "2301059295664\n"
     ]
    }
   ],
   "source": [
    "a =5\n",
    "print(id(a))"
   ]
  },
  {
   "cell_type": "code",
   "execution_count": 12,
   "metadata": {},
   "outputs": [
    {
     "name": "stdout",
     "output_type": "stream",
     "text": [
      "I love C\n",
      "1206934341360\n",
      "I love C\n",
      "1206934341360\n"
     ]
    }
   ],
   "source": [
    "def f():\n",
    "    global p1\n",
    "    p1=\"I love C\"\n",
    "    print(p1)\n",
    "    print(id(p1))\n",
    "f()\n",
    "print(p1)\n",
    "print(id(p1))"
   ]
  },
  {
   "cell_type": "code",
   "execution_count": 10,
   "metadata": {},
   "outputs": [
    {
     "data": {
      "text/plain": [
       "2409384051056"
      ]
     },
     "execution_count": 10,
     "metadata": {},
     "output_type": "execute_result"
    }
   ],
   "source": [
    "a = 5\n",
    "id(a)"
   ]
  },
  {
   "cell_type": "code",
   "execution_count": 11,
   "metadata": {},
   "outputs": [
    {
     "data": {
      "text/plain": [
       "2409384051088"
      ]
     },
     "execution_count": 11,
     "metadata": {},
     "output_type": "execute_result"
    }
   ],
   "source": [
    "a = 6\n",
    "id(a)"
   ]
  },
  {
   "cell_type": "code",
   "execution_count": null,
   "metadata": {},
   "outputs": [],
   "source": [
    "print(p)"
   ]
  },
  {
   "cell_type": "code",
   "execution_count": 6,
   "metadata": {},
   "outputs": [
    {
     "data": {
      "text/plain": [
       "1309932585328"
      ]
     },
     "execution_count": 6,
     "metadata": {},
     "output_type": "execute_result"
    }
   ],
   "source": [
    "a = 5\n",
    "id(a)"
   ]
  },
  {
   "cell_type": "code",
   "execution_count": 7,
   "metadata": {},
   "outputs": [
    {
     "data": {
      "text/plain": [
       "1309932585488"
      ]
     },
     "execution_count": 7,
     "metadata": {},
     "output_type": "execute_result"
    }
   ],
   "source": [
    "a = 10\n",
    "id(a)"
   ]
  },
  {
   "cell_type": "code",
   "execution_count": 5,
   "metadata": {},
   "outputs": [
    {
     "name": "stdout",
     "output_type": "stream",
     "text": [
      "I love C\n",
      "1307870316080\n",
      "I love Python\n",
      "1307870315504\n"
     ]
    }
   ],
   "source": [
    "s1=\"I love Python\"\n",
    "def f():\n",
    "    s2=\"I love C\"\n",
    "    print(s2)\n",
    "    print(id(s2))\n",
    "f()\n",
    "print(s1)\n",
    "print(id(s1))\n"
   ]
  },
  {
   "cell_type": "code",
   "execution_count": 4,
   "metadata": {},
   "outputs": [
    {
     "name": "stdout",
     "output_type": "stream",
     "text": [
      "I love C\n",
      "2034205958320\n",
      "I love C\n",
      "2034205958320\n"
     ]
    }
   ],
   "source": [
    "s=\"I love Python\"\n",
    "def f():\n",
    "    global s\n",
    "    s=\"I love C\"\n",
    "    print(s)\n",
    "    print(id(s))\n",
    "f()\n",
    "print(s)\n",
    "print(id(s))"
   ]
  },
  {
   "cell_type": "code",
   "execution_count": null,
   "metadata": {},
   "outputs": [],
   "source": [
    "s=\"I love Python\""
   ]
  },
  {
   "cell_type": "code",
   "execution_count": null,
   "metadata": {},
   "outputs": [],
   "source": [
    "\n",
    "def f():\n",
    "    global s\n",
    "    print(s)\n",
    "    s=\"I love C\"\n",
    "    print(s)\n",
    "f()\n",
    "print(s)\n",
    "\n"
   ]
  },
  {
   "cell_type": "code",
   "execution_count": 14,
   "metadata": {},
   "outputs": [
    {
     "name": "stdout",
     "output_type": "stream",
     "text": [
      "global :  1\n",
      "Inside f() :  1\n",
      "global :  1\n",
      "Inside g() :  1\n",
      "global :  1\n",
      "Inside h() :  3\n",
      "global :  3\n",
      "Inside h() :  4\n",
      "global :  3\n"
     ]
    }
   ],
   "source": [
    "a=1\n",
    "def f():\n",
    "    print ('Inside f() : ', a)\n",
    "    \n",
    "def g():    \n",
    "    b = a\n",
    "    print ('Inside g() : ',b)\n",
    "    \n",
    "def h():    \n",
    "    global a\n",
    "    a = 3\n",
    "    print ('Inside h() : ',a)\n",
    "    \n",
    "def gh():    \n",
    "    \n",
    "    a = 4\n",
    "    print ('Inside h() : ',a)\n",
    " \n",
    "print ('global : ',a)\n",
    "f()\n",
    "print ('global : ',a)\n",
    "g()\n",
    "print ('global : ',a)\n",
    "h()\n",
    "print ('global : ',a)\n",
    "gh()\n",
    "print ('global : ',a)"
   ]
  },
  {
   "cell_type": "markdown",
   "metadata": {},
   "source": [
    "\n",
    "Lambda Function\n",
    "\n",
    "The map( ) Function\n",
    "\n",
    "The filter( ) Function\n",
    "\n",
    "Using map( ) and filter( ) with Lambda Expressions\n",
    "\n",
    "\n"
   ]
  },
  {
   "cell_type": "markdown",
   "metadata": {},
   "source": [
    "### What is Anonymous Function"
   ]
  },
  {
   "cell_type": "markdown",
   "metadata": {},
   "source": [
    "An anonymous function is a function that is defined without a name"
   ]
  },
  {
   "cell_type": "markdown",
   "metadata": {},
   "source": [
    "### Difference between anonymous function and normal function"
   ]
  },
  {
   "cell_type": "markdown",
   "metadata": {},
   "source": [
    "While normal functions are defined using the def keyword, we define anonymous functions using the lambda keyword.\n"
   ]
  },
  {
   "cell_type": "markdown",
   "metadata": {},
   "source": [
    "### Syntax: lambda [arg1,arg2,..]:[expression]"
   ]
  },
  {
   "cell_type": "markdown",
   "metadata": {},
   "source": [
    "lambda is a keyword/operator and can have any number of arguments.\n",
    "\n",
    "But it can have only one expression. \n",
    "\n",
    "Python evaluates the expression and returns the result automatically"
   ]
  },
  {
   "cell_type": "markdown",
   "metadata": {},
   "source": [
    "An expression here is anything that can return some value.\n",
    "\n",
    "The following items qualify as expressions.\n",
    "\n",
    "Arithmetic operations like a+b and a**b\n",
    "\n",
    "Function calls like sum(a,b)\n",
    "\n",
    "A print statement like print(“Hello”)\n",
    "\n"
   ]
  },
  {
   "cell_type": "markdown",
   "metadata": {},
   "source": [
    "Assignment statements cannot be used in lambda , because they don’t return anything, not even None (null).\n",
    "\n",
    "Simple things such as mathematical operations, string operations etc. are OK in a lambda.\n",
    "\n",
    "Function calls are expressions, so it’s OK to put a function call in a lambda, and to pass arguments to that function. \n",
    "\n",
    "Even functions that return None, like the print function in Python 3, can be used in a lambda.\n",
    "\n",
    "Single line if – else is also allowed as it also evaluates the condition and returns the result of true or false expression\n"
   ]
  },
  {
   "cell_type": "code",
   "execution_count": 6,
   "metadata": {},
   "outputs": [],
   "source": [
    "#Suppose, we want to make a function which will calculate sum of two numbers.\n",
    "\n",
    "#In normal approach we will do as shown below:\n",
    "\n",
    "def add(a,b): \n",
    "    return a+b\n"
   ]
  },
  {
   "cell_type": "code",
   "execution_count": 7,
   "metadata": {},
   "outputs": [
    {
     "data": {
      "text/plain": [
       "30"
      ]
     },
     "execution_count": 7,
     "metadata": {},
     "output_type": "execute_result"
    }
   ],
   "source": [
    "add(10,20)"
   ]
  },
  {
   "cell_type": "code",
   "execution_count": 12,
   "metadata": {},
   "outputs": [
    {
     "name": "stdout",
     "output_type": "stream",
     "text": [
      "30\n"
     ]
    }
   ],
   "source": [
    "#In case of lambda function we will write it as:\n",
    "\n",
    "print((lambda a,b:a+b)(10,20))\n"
   ]
  },
  {
   "cell_type": "markdown",
   "metadata": {},
   "source": [
    "A very common doubt is that when we can define our functions using def keyword , then why we require lambda functions ?\n",
    "\n",
    "The most common use for lambda functions is in code that requires a simple one-line function, where it would be an overkill to write a complete normal function.\n",
    "\n",
    "We will explore it in more detail when we will discuss two very important functions in Python called map( ) and filter( )\n"
   ]
  },
  {
   "cell_type": "markdown",
   "metadata": {},
   "source": [
    "There are 2 ways to use a Lambda Function.\n",
    "\n",
    "\n",
    "- Using it anonymously in inline mode\n",
    "\n",
    "- Using it by assigning it to a variable\n"
   ]
  },
  {
   "cell_type": "code",
   "execution_count": null,
   "metadata": {},
   "outputs": [],
   "source": [
    "#Using it as anonymous function\n",
    "\n",
    "print((lambda a,b: a+b)(2,3))\n"
   ]
  },
  {
   "cell_type": "code",
   "execution_count": 13,
   "metadata": {},
   "outputs": [],
   "source": [
    "#Using it by assigning it to a variable\n",
    "\n",
    "sum=lambda a,b: a+b"
   ]
  },
  {
   "cell_type": "code",
   "execution_count": 14,
   "metadata": {},
   "outputs": [
    {
     "name": "stdout",
     "output_type": "stream",
     "text": [
      "5\n"
     ]
    }
   ],
   "source": [
    "print(sum(2,3))"
   ]
  },
  {
   "cell_type": "code",
   "execution_count": 15,
   "metadata": {},
   "outputs": [
    {
     "name": "stdout",
     "output_type": "stream",
     "text": [
      "14\n"
     ]
    }
   ],
   "source": [
    "\n",
    "\n",
    "\n",
    "print(sum(5,9))\n"
   ]
  },
  {
   "cell_type": "markdown",
   "metadata": {},
   "source": [
    "What is happening in this code ?\n",
    "\n",
    "The statement lambda a,b:a+b , \n",
    "\n",
    "is creating a FUNCTION OBJECT\n",
    "\n",
    "and returning that object . The\n",
    "\n",
    "variable sum is referring to that\n",
    "\n",
    "object. Now when we write sum(2,3), it behaves like function call\n"
   ]
  },
  {
   "cell_type": "code",
   "execution_count": null,
   "metadata": {},
   "outputs": [],
   "source": [
    "sum=lambda a,b: a+b\n",
    "\n",
    "print(type(sum))\n",
    "print(sum)\n"
   ]
  },
  {
   "cell_type": "code",
   "execution_count": null,
   "metadata": {},
   "outputs": [],
   "source": [
    "squareit=lambda a: a*a\n",
    "\n",
    "print(squareit(25))\n",
    "print(squareit(10))\n",
    "\n"
   ]
  },
  {
   "cell_type": "code",
   "execution_count": 16,
   "metadata": {},
   "outputs": [],
   "source": [
    "import math\n",
    "\n",
    "squr=lambda a:math.sqrt(a)\n",
    "\n"
   ]
  },
  {
   "cell_type": "code",
   "execution_count": 17,
   "metadata": {},
   "outputs": [
    {
     "data": {
      "text/plain": [
       "5.0"
      ]
     },
     "execution_count": 17,
     "metadata": {},
     "output_type": "execute_result"
    }
   ],
   "source": [
    "squr(25)"
   ]
  },
  {
   "cell_type": "code",
   "execution_count": 18,
   "metadata": {},
   "outputs": [],
   "source": [
    "st=lambda str:str[0]"
   ]
  },
  {
   "cell_type": "code",
   "execution_count": 19,
   "metadata": {},
   "outputs": [
    {
     "data": {
      "text/plain": [
       "'s'"
      ]
     },
     "execution_count": 19,
     "metadata": {},
     "output_type": "execute_result"
    }
   ],
   "source": [
    "st(\"sunny\")"
   ]
  },
  {
   "cell_type": "code",
   "execution_count": 20,
   "metadata": {},
   "outputs": [],
   "source": [
    "iseven=lambda n: n%2==0"
   ]
  },
  {
   "cell_type": "code",
   "execution_count": 22,
   "metadata": {},
   "outputs": [
    {
     "name": "stdout",
     "output_type": "stream",
     "text": [
      "10 is even : False\n"
     ]
    }
   ],
   "source": [
    "\n",
    "print(\"10 is even :\",iseven(11))"
   ]
  },
  {
   "cell_type": "code",
   "execution_count": null,
   "metadata": {},
   "outputs": [],
   "source": [
    "\n",
    "print(\"7 is even:\",iseven(7))\n"
   ]
  },
  {
   "cell_type": "code",
   "execution_count": 23,
   "metadata": {},
   "outputs": [],
   "source": [
    "#Write a lambda function that accepts 2 arguments and returns the greater amongst them\n",
    "maxnum=lambda a,b: a if a>b else b"
   ]
  },
  {
   "cell_type": "code",
   "execution_count": 24,
   "metadata": {},
   "outputs": [
    {
     "name": "stdout",
     "output_type": "stream",
     "text": [
      "max amongst 10 and 20 : 20\n"
     ]
    }
   ],
   "source": [
    "print(\"max amongst 10 and 20 :\",maxnum(10,20))"
   ]
  },
  {
   "cell_type": "code",
   "execution_count": 25,
   "metadata": {},
   "outputs": [
    {
     "name": "stdout",
     "output_type": "stream",
     "text": [
      "max amongst 15 and 5 : 15\n"
     ]
    }
   ],
   "source": [
    "print(\"max amongst 15 and 5 :\",maxnum(15,5))\n"
   ]
  },
  {
   "cell_type": "markdown",
   "metadata": {},
   "source": [
    "### map() function in python"
   ]
  },
  {
   "cell_type": "code",
   "execution_count": null,
   "metadata": {},
   "outputs": [],
   "source": [
    "#map() is a function which takes two arguments:\n",
    "r = map(func, iterable)"
   ]
  },
  {
   "cell_type": "markdown",
   "metadata": {},
   "source": [
    "The first argument func is the name of a function and the second argument  , iterable  ,should be a sequence (e.g. a list , tuple ,string etc) or anything that can be used with for loop. \n",
    "\n",
    "map() applies the function func to all the elements of the sequence iterable\n"
   ]
  },
  {
   "cell_type": "markdown",
   "metadata": {},
   "source": [
    "### To understand this , let’s solve a problem"
   ]
  },
  {
   "cell_type": "code",
   "execution_count": 3,
   "metadata": {},
   "outputs": [],
   "source": [
    "#Suppose we want to define a function called square( ) that can accept a number as argument and returns it’s square.\n",
    "\n",
    "#The definition of this function would be:\n",
    "\n",
    "def square(num):\n",
    "    return num**2"
   ]
  },
  {
   "cell_type": "code",
   "execution_count": 27,
   "metadata": {},
   "outputs": [
    {
     "data": {
      "text/plain": [
       "25"
      ]
     },
     "execution_count": 27,
     "metadata": {},
     "output_type": "execute_result"
    }
   ],
   "source": [
    "square(5)"
   ]
  },
  {
   "cell_type": "code",
   "execution_count": 28,
   "metadata": {},
   "outputs": [
    {
     "data": {
      "text/plain": [
       "625"
      ]
     },
     "execution_count": 28,
     "metadata": {},
     "output_type": "execute_result"
    }
   ],
   "source": [
    "square(25)"
   ]
  },
  {
   "cell_type": "code",
   "execution_count": 29,
   "metadata": {},
   "outputs": [],
   "source": [
    "#Now suppose we want to call this function for the following list of numbers:\n",
    "\n",
    "mynums=[1,2,3,4,5]"
   ]
  },
  {
   "cell_type": "code",
   "execution_count": 4,
   "metadata": {},
   "outputs": [
    {
     "name": "stdout",
     "output_type": "stream",
     "text": [
      "1\n",
      "4\n",
      "9\n",
      "16\n",
      "25\n"
     ]
    }
   ],
   "source": [
    "#One way to do this , will be to use a for loop \n",
    "#import math\n",
    "mynums=[1,2,3,4,5]\n",
    "for x in mynums:\n",
    "    print(square(x))"
   ]
  },
  {
   "cell_type": "code",
   "execution_count": 31,
   "metadata": {},
   "outputs": [
    {
     "name": "stdout",
     "output_type": "stream",
     "text": [
      "1\n",
      "4\n",
      "9\n",
      "16\n",
      "25\n"
     ]
    }
   ],
   "source": [
    "def square(num):\n",
    "    return num**2\n",
    "mynums=[1,2,3,4,5]\n",
    "for x in mynums:\n",
    "    print(square(x))"
   ]
  },
  {
   "cell_type": "code",
   "execution_count": null,
   "metadata": {},
   "outputs": [],
   "source": [
    "<map at 0x1b3e7ae1880> \n"
   ]
  },
  {
   "cell_type": "markdown",
   "metadata": {},
   "source": [
    "Another way to solve the previous problem is to use the map( ) function .\n",
    "The map( ) function will accept 2 arguments from us. \n",
    "\n",
    "The first argument will be the name of the function square \n",
    "\n",
    "The second argument will be the list mynums.\n",
    "\n",
    "It will then apply the function square on every element of mynum and return the corresponding result as map object \n"
   ]
  },
  {
   "cell_type": "code",
   "execution_count": 1,
   "metadata": {},
   "outputs": [
    {
     "data": {
      "text/plain": [
       "<map at 0x21da3de7040>"
      ]
     },
     "execution_count": 1,
     "metadata": {},
     "output_type": "execute_result"
    }
   ],
   "source": [
    "def square(num):\n",
    "    return num**2\n",
    "mynums=(1,2,3,4,5)\n",
    "map(square,mynums)"
   ]
  },
  {
   "cell_type": "code",
   "execution_count": 37,
   "metadata": {},
   "outputs": [
    {
     "name": "stdout",
     "output_type": "stream",
     "text": [
      "[1, 4, 9, 16, 25]\n"
     ]
    }
   ],
   "source": [
    "print(list(map(square,mynums)))"
   ]
  },
  {
   "cell_type": "code",
   "execution_count": 1,
   "metadata": {},
   "outputs": [
    {
     "name": "stdout",
     "output_type": "stream",
     "text": [
      "<map object at 0x000001AED0BB2190>\n"
     ]
    }
   ],
   "source": [
    "def square(num):\n",
    "    return num**2\n",
    "\n",
    "mynums=[1,2,3,4,5]\n",
    "result=map(square,mynums)\n",
    "print(result)\n"
   ]
  },
  {
   "cell_type": "markdown",
   "metadata": {},
   "source": [
    "As we can observe , the return value of map( ) function is a map object \n",
    "\n",
    "To convert it into actual numbers we can pass it to the function list( )"
   ]
  },
  {
   "cell_type": "code",
   "execution_count": 5,
   "metadata": {},
   "outputs": [
    {
     "name": "stdout",
     "output_type": "stream",
     "text": [
      "[1, 4, 9, 16, 25]\n"
     ]
    }
   ],
   "source": [
    "def square(num):\n",
    "    return num**2\n",
    "\n",
    "mynums=[1,2,3,4,5]\n",
    "result=print(list(map(square,mynums)))"
   ]
  },
  {
   "cell_type": "code",
   "execution_count": 12,
   "metadata": {},
   "outputs": [
    {
     "data": {
      "text/plain": [
       "<map at 0x1f01b38dd90>"
      ]
     },
     "execution_count": 12,
     "metadata": {},
     "output_type": "execute_result"
    }
   ],
   "source": [
    "result"
   ]
  },
  {
   "cell_type": "code",
   "execution_count": 2,
   "metadata": {},
   "outputs": [],
   "source": [
    "sqrnum=list(result)"
   ]
  },
  {
   "cell_type": "code",
   "execution_count": 3,
   "metadata": {},
   "outputs": [
    {
     "name": "stdout",
     "output_type": "stream",
     "text": [
      "[1, 4, 9, 16, 25]\n"
     ]
    }
   ],
   "source": [
    "\n",
    "\n",
    "print(sqrnum)\n"
   ]
  },
  {
   "cell_type": "code",
   "execution_count": 19,
   "metadata": {},
   "outputs": [
    {
     "name": "stdout",
     "output_type": "stream",
     "text": [
      "(1, 4, 9, 16, 25)\n"
     ]
    }
   ],
   "source": [
    "def square(num):\n",
    "    return num**2\n",
    "\n",
    "\n",
    "mynums=(1,2,3,4,5)\n",
    "# we can club the 2 lines in 1 line\n",
    "\n",
    "sqrnum=tuple(map(square,mynums))\n",
    "\n",
    "print(sqrnum)\n"
   ]
  },
  {
   "cell_type": "code",
   "execution_count": null,
   "metadata": {},
   "outputs": [],
   "source": [
    "#To make it even shorter we can directly pass the list( ) function to \n",
    "#the function print()\n",
    "def square(num):\n",
    "    return num**2 \n",
    "\n",
    "mynums=[1,2,3,4,5]\n",
    "print(list(map(square,mynums)))\n"
   ]
  },
  {
   "cell_type": "code",
   "execution_count": 20,
   "metadata": {},
   "outputs": [
    {
     "name": "stdout",
     "output_type": "stream",
     "text": [
      "1\n",
      "4\n",
      "9\n",
      "16\n",
      "25\n"
     ]
    }
   ],
   "source": [
    "#In case we want to iterate over this list , then we can use for loop\n",
    "def square(num):\n",
    "    return num**2\n",
    "\n",
    "mynums=[1,2,3,4,5]\n",
    "for x in map(square,mynums):\n",
    "    print(x)\n"
   ]
  },
  {
   "cell_type": "markdown",
   "metadata": {},
   "source": [
    "Write a function called inspect( ) that accepts a string as argument and returns the word EVEN if the string is of even length and returns it’s first character if the string is of odd length\n",
    "\n",
    "Now call this function for first 3 month names"
   ]
  },
  {
   "cell_type": "code",
   "execution_count": 38,
   "metadata": {},
   "outputs": [
    {
     "name": "stdout",
     "output_type": "stream",
     "text": [
      "['J', 'EVEN', 'M']\n"
     ]
    }
   ],
   "source": [
    "def inspect(mystring):\n",
    "    if len(mystring)%2==0:\n",
    "        return \"EVEN\"\n",
    "    else:\n",
    "        return mystring[0]\n",
    "\n",
    "months=[\"January\",\"February\",\"March\"]\n",
    "print(list(map(inspect,months))) "
   ]
  },
  {
   "cell_type": "markdown",
   "metadata": {},
   "source": [
    "### filter() function in python"
   ]
  },
  {
   "cell_type": "markdown",
   "metadata": {},
   "source": [
    "Another way to solve the previous problem is to use the filter( ) function .\n",
    "\n",
    "\n",
    "The flter( ) function will accept 2 arguments from us. \n",
    "\n",
    "The first argument will be the name of the function check_even \n",
    "\n",
    "The second argument will be the list mynums.\n",
    "\n",
    "It will then apply the function check_even on every element of mynum and if check_even returned True for that element then filter( ) will return that element as a part of it’s return value otherwise that element will not be returned\n"
   ]
  },
  {
   "cell_type": "code",
   "execution_count": 25,
   "metadata": {},
   "outputs": [],
   "source": [
    "num=7"
   ]
  },
  {
   "cell_type": "code",
   "execution_count": 26,
   "metadata": {},
   "outputs": [
    {
     "data": {
      "text/plain": [
       "1"
      ]
     },
     "execution_count": 26,
     "metadata": {},
     "output_type": "execute_result"
    }
   ],
   "source": [
    "num%2"
   ]
  },
  {
   "cell_type": "code",
   "execution_count": 1,
   "metadata": {},
   "outputs": [],
   "source": [
    "def check_even(num):\n",
    "    return num%2==0"
   ]
  },
  {
   "cell_type": "code",
   "execution_count": 11,
   "metadata": {},
   "outputs": [
    {
     "data": {
      "text/plain": [
       "True"
      ]
     },
     "execution_count": 11,
     "metadata": {},
     "output_type": "execute_result"
    }
   ],
   "source": [
    "check_even(6)"
   ]
  },
  {
   "cell_type": "code",
   "execution_count": 2,
   "metadata": {},
   "outputs": [],
   "source": [
    "mynums=[1,2,3,4,5,6]"
   ]
  },
  {
   "cell_type": "code",
   "execution_count": 5,
   "metadata": {},
   "outputs": [
    {
     "data": {
      "text/plain": [
       "<filter at 0x245289ac2e0>"
      ]
     },
     "execution_count": 5,
     "metadata": {},
     "output_type": "execute_result"
    }
   ],
   "source": [
    "value=filter(check_even,mynums)\n",
    "value"
   ]
  },
  {
   "cell_type": "code",
   "execution_count": 4,
   "metadata": {},
   "outputs": [
    {
     "data": {
      "text/plain": [
       "[2, 4, 6]"
      ]
     },
     "execution_count": 4,
     "metadata": {},
     "output_type": "execute_result"
    }
   ],
   "source": [
    "list(value)"
   ]
  },
  {
   "cell_type": "code",
   "execution_count": 1,
   "metadata": {},
   "outputs": [
    {
     "name": "stdout",
     "output_type": "stream",
     "text": [
      "<filter object at 0x000001F01B38DA00>\n"
     ]
    }
   ],
   "source": [
    "print()"
   ]
  },
  {
   "cell_type": "markdown",
   "metadata": {},
   "source": [
    "As we can observe , the return value of filter( ) function is a  filter object \n",
    "\n",
    "To convert it into actual numbers we can pass it to the function list( )\n"
   ]
  },
  {
   "cell_type": "code",
   "execution_count": 2,
   "metadata": {},
   "outputs": [
    {
     "name": "stdout",
     "output_type": "stream",
     "text": [
      "[2, 4, 6]\n"
     ]
    }
   ],
   "source": [
    "def check_even(num):\n",
    "    return num%2==0\n",
    "\n",
    "mynums=[1,2,3,4,5,6]\n",
    "print(list(filter(check_even,mynums)))"
   ]
  },
  {
   "cell_type": "code",
   "execution_count": 1,
   "metadata": {},
   "outputs": [
    {
     "name": "stdout",
     "output_type": "stream",
     "text": [
      "[False, True, False, True, False, True]\n"
     ]
    }
   ],
   "source": [
    "def check_even(num):\n",
    "    return num%2==0\n",
    "\n",
    "mynums=[1,2,3,4,5,6]\n",
    "print(list(map(check_even,mynums)))"
   ]
  },
  {
   "cell_type": "code",
   "execution_count": 5,
   "metadata": {},
   "outputs": [
    {
     "name": "stdout",
     "output_type": "stream",
     "text": [
      "2\n",
      "4\n",
      "6\n"
     ]
    }
   ],
   "source": [
    "#In case we want to iterate over this list , then we can use for loop \n",
    "#as shown below:\n"
   ]
  },
  {
   "cell_type": "code",
   "execution_count": 6,
   "metadata": {},
   "outputs": [
    {
     "name": "stdout",
     "output_type": "stream",
     "text": [
      "[1, 2, 3, 4, 5]\n"
     ]
    }
   ],
   "source": [
    "def f1(num):\n",
    "    return num*num\n",
    "\n",
    "mynums=[1,2,3,4,5]\n",
    "print(list(filter(f1,mynums)))\n"
   ]
  },
  {
   "cell_type": "markdown",
   "metadata": {},
   "source": [
    "Ideally , the function passed to filter( ) should return a boolean value. But if it doesn’t return boolean value , then whatever value it returns Python converts it to boolean . In our case for each value in mynums the return value will be it’s square which is a non-zero value and thus assumed to be True. So all the elements are returned by filter() \n"
   ]
  },
  {
   "cell_type": "code",
   "execution_count": 30,
   "metadata": {},
   "outputs": [],
   "source": [
    "def f1(num):\n",
    "    return num%2"
   ]
  },
  {
   "cell_type": "code",
   "execution_count": 31,
   "metadata": {},
   "outputs": [
    {
     "data": {
      "text/plain": [
       "1"
      ]
     },
     "execution_count": 31,
     "metadata": {},
     "output_type": "execute_result"
    }
   ],
   "source": [
    "f1(11)"
   ]
  },
  {
   "cell_type": "code",
   "execution_count": 35,
   "metadata": {},
   "outputs": [
    {
     "data": {
      "text/plain": [
       "1"
      ]
     },
     "execution_count": 35,
     "metadata": {},
     "output_type": "execute_result"
    }
   ],
   "source": [
    "True+False"
   ]
  },
  {
   "cell_type": "code",
   "execution_count": 36,
   "metadata": {},
   "outputs": [
    {
     "name": "stdout",
     "output_type": "stream",
     "text": [
      "1\n",
      "0\n",
      "1\n",
      "0\n",
      "1\n",
      "[]\n"
     ]
    }
   ],
   "source": [
    "def f1(num):\n",
    "    print(num%2)\n",
    "    #return num%2\n",
    "\n",
    "mynums=[1,2,3,4,5]\n",
    "print(list(filter(f1,mynums)))\n"
   ]
  },
  {
   "cell_type": "code",
   "execution_count": 37,
   "metadata": {},
   "outputs": [
    {
     "data": {
      "text/plain": [
       "<filter at 0x1f01b38d970>"
      ]
     },
     "execution_count": 37,
     "metadata": {},
     "output_type": "execute_result"
    }
   ],
   "source": [
    "filter(f1,mynums)"
   ]
  },
  {
   "cell_type": "markdown",
   "metadata": {},
   "source": [
    "For every even number the return value of the function f1( ) will be 0 which is assumed to be False and for every odd number the return value will be 1 which is assumed to be True . Thus filter( ) returns only those numbers for which f1( ) has returned 1.\n"
   ]
  },
  {
   "cell_type": "code",
   "execution_count": 1,
   "metadata": {},
   "outputs": [],
   "source": [
    "def f1(num):\n",
    "    print(\"Hello\")"
   ]
  },
  {
   "cell_type": "code",
   "execution_count": 2,
   "metadata": {},
   "outputs": [
    {
     "name": "stdout",
     "output_type": "stream",
     "text": [
      "Hello\n"
     ]
    }
   ],
   "source": [
    "f1(5)"
   ]
  },
  {
   "cell_type": "code",
   "execution_count": 3,
   "metadata": {},
   "outputs": [
    {
     "name": "stdout",
     "output_type": "stream",
     "text": [
      "Hello\n",
      "Hello\n",
      "Hello\n",
      "Hello\n",
      "Hello\n",
      "[]\n"
     ]
    }
   ],
   "source": [
    "mynums=[1,2,3,4,5]\n",
    "print(list(filter(f1,mynums)))\n"
   ]
  },
  {
   "cell_type": "markdown",
   "metadata": {},
   "source": [
    "Hello is displayed 5 times because the filter( ) function has called f1( ) function 5 times. Now for each value in mynums , since f1( ) has not returned any value , by default it’s return value is assumed to be None which is a representation of False. Thus filter( ) returned an empty list.\n"
   ]
  },
  {
   "cell_type": "code",
   "execution_count": 44,
   "metadata": {},
   "outputs": [
    {
     "name": "stdout",
     "output_type": "stream",
     "text": [
      "[]\n"
     ]
    }
   ],
   "source": [
    "def f1(num):\n",
    "    pass\n",
    "\n",
    "mynums=[1,2,3,4,5]\n",
    "print(list(filter(f1,mynums)))\n"
   ]
  },
  {
   "cell_type": "markdown",
   "metadata": {},
   "source": [
    "For each value in mynums , since f1( ) has not returned any value , by default it’s return value is assumed to be None which is a representation of False. Thus filter( ) returned an empty list.\n"
   ]
  },
  {
   "cell_type": "code",
   "execution_count": 45,
   "metadata": {},
   "outputs": [
    {
     "ename": "TypeError",
     "evalue": "f1() takes 0 positional arguments but 1 was given",
     "output_type": "error",
     "traceback": [
      "\u001b[1;31m---------------------------------------------------------------------------\u001b[0m",
      "\u001b[1;31mTypeError\u001b[0m                                 Traceback (most recent call last)",
      "\u001b[1;32m<ipython-input-45-804ed006219b>\u001b[0m in \u001b[0;36m<module>\u001b[1;34m\u001b[0m\n\u001b[0;32m      3\u001b[0m \u001b[1;33m\u001b[0m\u001b[0m\n\u001b[0;32m      4\u001b[0m \u001b[0mmynums\u001b[0m\u001b[1;33m=\u001b[0m\u001b[1;33m[\u001b[0m\u001b[1;36m1\u001b[0m\u001b[1;33m,\u001b[0m\u001b[1;36m2\u001b[0m\u001b[1;33m,\u001b[0m\u001b[1;36m3\u001b[0m\u001b[1;33m,\u001b[0m\u001b[1;36m4\u001b[0m\u001b[1;33m,\u001b[0m\u001b[1;36m5\u001b[0m\u001b[1;33m]\u001b[0m\u001b[1;33m\u001b[0m\u001b[1;33m\u001b[0m\u001b[0m\n\u001b[1;32m----> 5\u001b[1;33m \u001b[0mprint\u001b[0m\u001b[1;33m(\u001b[0m\u001b[0mlist\u001b[0m\u001b[1;33m(\u001b[0m\u001b[0mfilter\u001b[0m\u001b[1;33m(\u001b[0m\u001b[0mf1\u001b[0m\u001b[1;33m,\u001b[0m\u001b[0mmynums\u001b[0m\u001b[1;33m)\u001b[0m\u001b[1;33m)\u001b[0m\u001b[1;33m)\u001b[0m\u001b[1;33m\u001b[0m\u001b[1;33m\u001b[0m\u001b[0m\n\u001b[0m\u001b[0;32m      6\u001b[0m \u001b[1;33m\u001b[0m\u001b[0m\n",
      "\u001b[1;31mTypeError\u001b[0m: f1() takes 0 positional arguments but 1 was given"
     ]
    }
   ],
   "source": [
    "def f1():\n",
    "    pass\n",
    "\n",
    "mynums=[1,2,3,4,5]\n",
    "print(list(filter(f1,mynums)))\n",
    "\n"
   ]
  },
  {
   "cell_type": "markdown",
   "metadata": {},
   "source": [
    "The function filter() is trying to call f1( ) for every value in the list mynums. But since f1( ) is a non-parametrized function , this call generates TypeError\n"
   ]
  },
  {
   "cell_type": "code",
   "execution_count": null,
   "metadata": {},
   "outputs": [],
   "source": [
    "def f1():\n",
    "    pass\n",
    "\n",
    "mynums=[]\n",
    "print(list(filter(f1,mynums)))\n",
    "\n"
   ]
  },
  {
   "cell_type": "code",
   "execution_count": 46,
   "metadata": {},
   "outputs": [
    {
     "name": "stdout",
     "output_type": "stream",
     "text": [
      "[1, 0, 1, 0, 1]\n"
     ]
    }
   ],
   "source": [
    "def f1(num):\n",
    "    return num%2\n",
    "\n",
    "mynums=[1,2,3,4,5]\n",
    "print(list(map(f1,mynums)))\n",
    "\n"
   ]
  },
  {
   "cell_type": "code",
   "execution_count": 47,
   "metadata": {},
   "outputs": [
    {
     "name": "stdout",
     "output_type": "stream",
     "text": [
      "[1, 3, 5]\n"
     ]
    }
   ],
   "source": [
    "def f1(num):\n",
    "    return num%2\n",
    "\n",
    "mynums=[1,2,3,4,5]\n",
    "print(list(filter(f1,mynums)))"
   ]
  },
  {
   "cell_type": "markdown",
   "metadata": {},
   "source": [
    "For every even number the return value of the function f1( ) will be 0 and for every odd number the return value will be 1. Thus map( ) has returned a list containing 1 and 0 for each number in mynums based upon even and odd.\n"
   ]
  },
  {
   "cell_type": "code",
   "execution_count": 9,
   "metadata": {},
   "outputs": [
    {
     "name": "stdout",
     "output_type": "stream",
     "text": [
      "[None, None, None, None, None]\n"
     ]
    }
   ],
   "source": [
    "def f1(num):\n",
    "    pass\n",
    "\n",
    "mynums=[1,2,3,4,5]\n",
    "print(list(map(f1,mynums)))\n",
    "\n"
   ]
  },
  {
   "cell_type": "markdown",
   "metadata": {},
   "source": [
    "Since f1( ) is not returning anything , so it’s return value by default is assumed to be None  and because map( ) has internally called f1 () 5 times , so the list returned contains None 5 times\n"
   ]
  },
  {
   "cell_type": "code",
   "execution_count": 48,
   "metadata": {},
   "outputs": [
    {
     "name": "stdout",
     "output_type": "stream",
     "text": [
      "[]\n"
     ]
    }
   ],
   "source": [
    "def f1():\n",
    "    pass\n",
    "\n",
    "mynums=[]\n",
    "print(list(map(f1,mynums)))\n"
   ]
  },
  {
   "cell_type": "markdown",
   "metadata": {},
   "source": [
    "The best use of Lambda Expression is to use it with map( ) and filter( ) functions\n",
    "\n",
    "\n",
    "\n",
    "\n",
    "Recall that the keyword lambda creates an anonymous function and returns it’s address.\n"
   ]
  },
  {
   "cell_type": "markdown",
   "metadata": {},
   "source": [
    "So , we can pass this lambda expression as first argument to map( ) and filter() functions , since their first argument is the a function object reference\n",
    "\n",
    "\n",
    "In this way , we wouldn’t be required to specially create a separate function using the keyword def\n"
   ]
  },
  {
   "cell_type": "code",
   "execution_count": 53,
   "metadata": {},
   "outputs": [
    {
     "name": "stdout",
     "output_type": "stream",
     "text": [
      "[1, 4, 9, 16, 25]\n"
     ]
    }
   ],
   "source": [
    "def square(num):\n",
    "    return num**2\n",
    "\n",
    "mynums=[1,2,3,4,5]\n",
    "squrnum=list(map(square,mynums))\n",
    "print(squrnum)\n"
   ]
  },
  {
   "cell_type": "code",
   "execution_count": null,
   "metadata": {},
   "outputs": [],
   "source": [
    "#To convert the above code using lambda ,we have to do 2 changes:\n",
    "\n",
    "#Remove the function square( )\n",
    "\n",
    "#Rewrite this function as lambda in place of first argument while calling the function map( )\n"
   ]
  },
  {
   "cell_type": "code",
   "execution_count": null,
   "metadata": {},
   "outputs": [],
   "source": [
    "map(lambda num: num*num,mynums)"
   ]
  },
  {
   "cell_type": "code",
   "execution_count": 10,
   "metadata": {},
   "outputs": [
    {
     "name": "stdout",
     "output_type": "stream",
     "text": [
      "[1, 4, 9, 16, 25]\n"
     ]
    }
   ],
   "source": [
    "#Following will be the resultant code:\n",
    "\n",
    "mynums=[1,2,3,4,5]\n",
    "sqrnum=list(map(lambda num: num*num,mynums))\n",
    "print(sqrnum)\n"
   ]
  },
  {
   "cell_type": "markdown",
   "metadata": {},
   "source": [
    "### Exercise1"
   ]
  },
  {
   "cell_type": "markdown",
   "metadata": {},
   "source": [
    "Write a lambda expression that accepts a string as argument and returns it’s first character\n",
    "\n",
    "Now use this lambda expression in map( ) function \n",
    "to work on for first 3 month names\n"
   ]
  },
  {
   "cell_type": "code",
   "execution_count": 1,
   "metadata": {},
   "outputs": [
    {
     "data": {
      "text/plain": [
       "['b', 's', 'r']"
      ]
     },
     "execution_count": 1,
     "metadata": {},
     "output_type": "execute_result"
    }
   ],
   "source": [
    "list(map(lambda x:x[0],['bunty','sudhdhant','rishbh']))"
   ]
  },
  {
   "cell_type": "code",
   "execution_count": 1,
   "metadata": {},
   "outputs": [
    {
     "name": "stdout",
     "output_type": "stream",
     "text": [
      "['J', 'F', 'M']\n"
     ]
    }
   ],
   "source": [
    "months=[\"January\",\"February\",\"March\"]\n",
    "print(list(map(lambda mystring: mystring[0],months)))\n"
   ]
  },
  {
   "cell_type": "markdown",
   "metadata": {},
   "source": [
    "### Exercise2"
   ]
  },
  {
   "cell_type": "markdown",
   "metadata": {},
   "source": [
    "Write a lambda expression that accepts a string as argument and returns the word EVEN if the string is of even length and returns it’s first character if the string is of odd length\n",
    "\n",
    "Now use this lambda expression in map( ) function \n",
    "to work on for first 3 month names\n"
   ]
  },
  {
   "cell_type": "code",
   "execution_count": 61,
   "metadata": {},
   "outputs": [
    {
     "data": {
      "text/plain": [
       "['b', 'EVEN', 'k']"
      ]
     },
     "execution_count": 61,
     "metadata": {},
     "output_type": "execute_result"
    }
   ],
   "source": [
    "list(map(lambda x:\"EVEN\" if len(x)%2==0 else x[0],['bunty','sudhdhant','rishbh']))"
   ]
  },
  {
   "cell_type": "code",
   "execution_count": 1,
   "metadata": {},
   "outputs": [
    {
     "name": "stdout",
     "output_type": "stream",
     "text": [
      "['J', 'EVEN', 'M']\n"
     ]
    }
   ],
   "source": [
    "months=[\"January\",\"February\",\"March\"]\n",
    "print(list(map(lambda mystring: \"EVEN\" if len(mystring)%2==0 else mystring[0],months)))"
   ]
  },
  {
   "cell_type": "markdown",
   "metadata": {},
   "source": [
    "### Exercise3"
   ]
  },
  {
   "cell_type": "markdown",
   "metadata": {},
   "source": [
    "Write a lambda expression that accepts a character as argument and returns True if it is a vowel otherwise False\n",
    "\n",
    "Now ask the user to input his/her name and display \n",
    "only the vowels in the name . In case the name does \n",
    "not contain any vowel display the message No vowels \n",
    "in your name\n"
   ]
  },
  {
   "cell_type": "code",
   "execution_count": 62,
   "metadata": {},
   "outputs": [
    {
     "name": "stdout",
     "output_type": "stream",
     "text": [
      "[2, 4, 6]\n"
     ]
    }
   ],
   "source": [
    "mynums=[1,2,3,4,5,6]\n",
    "print(list(filter(lambda num:num%2==0 ,mynums)))\n"
   ]
  },
  {
   "cell_type": "code",
   "execution_count": null,
   "metadata": {},
   "outputs": [],
   "source": [
    "Write a lambda expression that accepts a character as argument and returns \n",
    "True if it is a vowel otherwise False\n",
    "\n",
    "Now ask the user to input his/her name and display \n",
    "only the vowels in the name . In case the name does \n",
    "not contain any vowel display the message No vowels \n",
    "in your name\n"
   ]
  },
  {
   "cell_type": "code",
   "execution_count": 2,
   "metadata": {},
   "outputs": [
    {
     "name": "stdout",
     "output_type": "stream",
     "text": [
      "Enter name: kkk\n",
      "No vowels in name.\n"
     ]
    }
   ],
   "source": [
    "i = lambda x:x in 'aeiouAEIOU'\n",
    "\n",
    "name = input(\"Enter name: \")\n",
    "\n",
    "result = [x for x in name if i(x)]\n",
    "print(result if result else \"No vowels in name.\")\n"
   ]
  },
  {
   "cell_type": "code",
   "execution_count": null,
   "metadata": {},
   "outputs": [],
   "source": [
    "y = lambda x : x in 'aeiouAEIOU'\n",
    "\n",
    "name = input(\"Enter name: \")\n",
    "\n",
    "print([x for x in name if y(x)] or \"No vowels in  name.\")"
   ]
  },
  {
   "cell_type": "code",
   "execution_count": 3,
   "metadata": {},
   "outputs": [
    {
     "name": "stdout",
     "output_type": "stream",
     "text": [
      "Enter your name:JaLAP\n",
      "Vowels in your name are: ['a', 'A']\n"
     ]
    }
   ],
   "source": [
    "name=input(\"Enter your name:\")\n",
    "vowels=list(filter(lambda ch: ch in \"aeiouAEIOU\" ,name))\n",
    "if len(vowels)==0:\n",
    "    print(\"No vowels in your name\")\n",
    "else:\n",
    "    print(\"Vowels in your name are:\",vowels)\n"
   ]
  },
  {
   "cell_type": "code",
   "execution_count": 2,
   "metadata": {},
   "outputs": [
    {
     "name": "stdout",
     "output_type": "stream",
     "text": [
      "Enter your name:jalpa\n",
      "Vowels in your name are: [False, True, False, False, True]\n"
     ]
    }
   ],
   "source": [
    "name=input(\"Enter your name:\")\n",
    "vowels=list(map(lambda ch: ch in \"aeiou\" ,name))\n",
    "if len(vowels)==0:\n",
    "    print(\"No vowels in your name\")\n",
    "else:\n",
    "    print(\"Vowels in your name are:\",vowels)"
   ]
  },
  {
   "cell_type": "code",
   "execution_count": 10,
   "metadata": {},
   "outputs": [
    {
     "data": {
      "text/plain": [
       "<filter at 0x245289ac100>"
      ]
     },
     "execution_count": 10,
     "metadata": {},
     "output_type": "execute_result"
    }
   ],
   "source": [
    "def between(number, min=0, max=1000):\n",
    "    return max > number > min\n",
    "\n",
    "# Only returns number between 10 and 1000\n",
    "filter(lambda x: between(x, min=10), range(10000))"
   ]
  },
  {
   "cell_type": "code",
   "execution_count": 63,
   "metadata": {},
   "outputs": [],
   "source": [
    "a=42"
   ]
  },
  {
   "cell_type": "code",
   "execution_count": 64,
   "metadata": {},
   "outputs": [],
   "source": [
    "b=42"
   ]
  },
  {
   "cell_type": "code",
   "execution_count": 65,
   "metadata": {},
   "outputs": [],
   "source": [
    "c=42"
   ]
  },
  {
   "cell_type": "code",
   "execution_count": 66,
   "metadata": {},
   "outputs": [
    {
     "data": {
      "text/plain": [
       "140703981190208"
      ]
     },
     "execution_count": 66,
     "metadata": {},
     "output_type": "execute_result"
    }
   ],
   "source": [
    "id(a)"
   ]
  },
  {
   "cell_type": "code",
   "execution_count": 67,
   "metadata": {},
   "outputs": [
    {
     "data": {
      "text/plain": [
       "140703981190208"
      ]
     },
     "execution_count": 67,
     "metadata": {},
     "output_type": "execute_result"
    }
   ],
   "source": [
    "id(b)"
   ]
  },
  {
   "cell_type": "code",
   "execution_count": 68,
   "metadata": {},
   "outputs": [
    {
     "data": {
      "text/plain": [
       "140703981190208"
      ]
     },
     "execution_count": 68,
     "metadata": {},
     "output_type": "execute_result"
    }
   ],
   "source": [
    "id(c)"
   ]
  },
  {
   "cell_type": "code",
   "execution_count": 5,
   "metadata": {},
   "outputs": [],
   "source": [
    "a=43"
   ]
  },
  {
   "cell_type": "code",
   "execution_count": 6,
   "metadata": {},
   "outputs": [
    {
     "data": {
      "text/plain": [
       "2462701088368"
      ]
     },
     "execution_count": 6,
     "metadata": {},
     "output_type": "execute_result"
    }
   ],
   "source": [
    "id(a)"
   ]
  },
  {
   "cell_type": "code",
   "execution_count": 71,
   "metadata": {},
   "outputs": [
    {
     "data": {
      "text/plain": [
       "140703981190208"
      ]
     },
     "execution_count": 71,
     "metadata": {},
     "output_type": "execute_result"
    }
   ],
   "source": [
    "id(b)"
   ]
  },
  {
   "cell_type": "code",
   "execution_count": 72,
   "metadata": {},
   "outputs": [
    {
     "data": {
      "text/plain": [
       "140703981190208"
      ]
     },
     "execution_count": 72,
     "metadata": {},
     "output_type": "execute_result"
    }
   ],
   "source": [
    "id(c)"
   ]
  },
  {
   "cell_type": "code",
   "execution_count": 73,
   "metadata": {},
   "outputs": [
    {
     "data": {
      "text/plain": [
       "42"
      ]
     },
     "execution_count": 73,
     "metadata": {},
     "output_type": "execute_result"
    }
   ],
   "source": [
    "b"
   ]
  },
  {
   "cell_type": "code",
   "execution_count": 74,
   "metadata": {},
   "outputs": [
    {
     "data": {
      "text/plain": [
       "42"
      ]
     },
     "execution_count": 74,
     "metadata": {},
     "output_type": "execute_result"
    }
   ],
   "source": [
    "c"
   ]
  },
  {
   "cell_type": "code",
   "execution_count": 75,
   "metadata": {},
   "outputs": [
    {
     "data": {
      "text/plain": [
       "43"
      ]
     },
     "execution_count": 75,
     "metadata": {},
     "output_type": "execute_result"
    }
   ],
   "source": [
    "a"
   ]
  },
  {
   "cell_type": "code",
   "execution_count": 76,
   "metadata": {},
   "outputs": [],
   "source": [
    "a=42"
   ]
  },
  {
   "cell_type": "code",
   "execution_count": 77,
   "metadata": {},
   "outputs": [
    {
     "data": {
      "text/plain": [
       "140703981190208"
      ]
     },
     "execution_count": 77,
     "metadata": {},
     "output_type": "execute_result"
    }
   ],
   "source": [
    "id(a)"
   ]
  },
  {
   "cell_type": "code",
   "execution_count": 78,
   "metadata": {},
   "outputs": [],
   "source": [
    "a=10"
   ]
  },
  {
   "cell_type": "code",
   "execution_count": 79,
   "metadata": {},
   "outputs": [
    {
     "data": {
      "text/plain": [
       "140703981189184"
      ]
     },
     "execution_count": 79,
     "metadata": {},
     "output_type": "execute_result"
    }
   ],
   "source": [
    "id(a)"
   ]
  },
  {
   "cell_type": "code",
   "execution_count": 80,
   "metadata": {},
   "outputs": [],
   "source": [
    "a=20"
   ]
  },
  {
   "cell_type": "code",
   "execution_count": 81,
   "metadata": {},
   "outputs": [
    {
     "data": {
      "text/plain": [
       "140703981189504"
      ]
     },
     "execution_count": 81,
     "metadata": {},
     "output_type": "execute_result"
    }
   ],
   "source": [
    "id(20)"
   ]
  },
  {
   "cell_type": "code",
   "execution_count": 83,
   "metadata": {},
   "outputs": [],
   "source": [
    "a=30"
   ]
  },
  {
   "cell_type": "code",
   "execution_count": 84,
   "metadata": {},
   "outputs": [
    {
     "data": {
      "text/plain": [
       "140703981189824"
      ]
     },
     "execution_count": 84,
     "metadata": {},
     "output_type": "execute_result"
    }
   ],
   "source": [
    "id(a)"
   ]
  },
  {
   "cell_type": "code",
   "execution_count": 85,
   "metadata": {},
   "outputs": [],
   "source": [
    "a=\"sunny\""
   ]
  },
  {
   "cell_type": "code",
   "execution_count": 86,
   "metadata": {},
   "outputs": [],
   "source": [
    "b=\"sudhanshu\""
   ]
  },
  {
   "cell_type": "code",
   "execution_count": 87,
   "metadata": {},
   "outputs": [
    {
     "data": {
      "text/plain": [
       "False"
      ]
     },
     "execution_count": 87,
     "metadata": {},
     "output_type": "execute_result"
    }
   ],
   "source": [
    "a is b"
   ]
  },
  {
   "cell_type": "code",
   "execution_count": 88,
   "metadata": {},
   "outputs": [
    {
     "data": {
      "text/plain": [
       "2130760172912"
      ]
     },
     "execution_count": 88,
     "metadata": {},
     "output_type": "execute_result"
    }
   ],
   "source": [
    "id(a)"
   ]
  },
  {
   "cell_type": "code",
   "execution_count": 89,
   "metadata": {},
   "outputs": [
    {
     "data": {
      "text/plain": [
       "2130793892016"
      ]
     },
     "execution_count": 89,
     "metadata": {},
     "output_type": "execute_result"
    }
   ],
   "source": [
    "id(b)"
   ]
  },
  {
   "cell_type": "code",
   "execution_count": 90,
   "metadata": {},
   "outputs": [],
   "source": [
    "a=\"ravi\""
   ]
  },
  {
   "cell_type": "code",
   "execution_count": 91,
   "metadata": {},
   "outputs": [],
   "source": [
    "b=\"ravi\""
   ]
  },
  {
   "cell_type": "code",
   "execution_count": 92,
   "metadata": {},
   "outputs": [
    {
     "data": {
      "text/plain": [
       "True"
      ]
     },
     "execution_count": 92,
     "metadata": {},
     "output_type": "execute_result"
    }
   ],
   "source": [
    "a is b"
   ]
  },
  {
   "cell_type": "code",
   "execution_count": 93,
   "metadata": {},
   "outputs": [
    {
     "data": {
      "text/plain": [
       "2130794293872"
      ]
     },
     "execution_count": 93,
     "metadata": {},
     "output_type": "execute_result"
    }
   ],
   "source": [
    "id(a)"
   ]
  },
  {
   "cell_type": "code",
   "execution_count": 94,
   "metadata": {},
   "outputs": [
    {
     "data": {
      "text/plain": [
       "2130794293872"
      ]
     },
     "execution_count": 94,
     "metadata": {},
     "output_type": "execute_result"
    }
   ],
   "source": [
    "id(b)"
   ]
  },
  {
   "cell_type": "code",
   "execution_count": 95,
   "metadata": {},
   "outputs": [],
   "source": [
    "a=[1,2,3,4,5]"
   ]
  },
  {
   "cell_type": "code",
   "execution_count": 96,
   "metadata": {},
   "outputs": [
    {
     "data": {
      "text/plain": [
       "2130794313536"
      ]
     },
     "execution_count": 96,
     "metadata": {},
     "output_type": "execute_result"
    }
   ],
   "source": [
    "id(a)"
   ]
  },
  {
   "cell_type": "code",
   "execution_count": 97,
   "metadata": {},
   "outputs": [
    {
     "data": {
      "text/plain": [
       "list"
      ]
     },
     "execution_count": 97,
     "metadata": {},
     "output_type": "execute_result"
    }
   ],
   "source": [
    "type(a)"
   ]
  },
  {
   "cell_type": "code",
   "execution_count": 98,
   "metadata": {},
   "outputs": [],
   "source": [
    "a[3]=7"
   ]
  },
  {
   "cell_type": "code",
   "execution_count": 99,
   "metadata": {},
   "outputs": [
    {
     "data": {
      "text/plain": [
       "[1, 2, 3, 7, 5]"
      ]
     },
     "execution_count": 99,
     "metadata": {},
     "output_type": "execute_result"
    }
   ],
   "source": [
    "a"
   ]
  },
  {
   "cell_type": "code",
   "execution_count": 100,
   "metadata": {},
   "outputs": [
    {
     "data": {
      "text/plain": [
       "2130794313536"
      ]
     },
     "execution_count": 100,
     "metadata": {},
     "output_type": "execute_result"
    }
   ],
   "source": [
    "id(a)"
   ]
  },
  {
   "cell_type": "code",
   "execution_count": 101,
   "metadata": {},
   "outputs": [],
   "source": [
    "a=42"
   ]
  },
  {
   "cell_type": "code",
   "execution_count": 102,
   "metadata": {},
   "outputs": [
    {
     "data": {
      "text/plain": [
       "140703981190208"
      ]
     },
     "execution_count": 102,
     "metadata": {},
     "output_type": "execute_result"
    }
   ],
   "source": [
    "id(a)"
   ]
  },
  {
   "cell_type": "code",
   "execution_count": 103,
   "metadata": {},
   "outputs": [],
   "source": [
    "a=43"
   ]
  },
  {
   "cell_type": "code",
   "execution_count": 104,
   "metadata": {},
   "outputs": [
    {
     "data": {
      "text/plain": [
       "140703981190240"
      ]
     },
     "execution_count": 104,
     "metadata": {},
     "output_type": "execute_result"
    }
   ],
   "source": [
    "id(a)"
   ]
  },
  {
   "cell_type": "code",
   "execution_count": 105,
   "metadata": {},
   "outputs": [],
   "source": [
    "tup=(1,2,3,4,5)"
   ]
  },
  {
   "cell_type": "code",
   "execution_count": 106,
   "metadata": {},
   "outputs": [
    {
     "ename": "TypeError",
     "evalue": "'tuple' object does not support item assignment",
     "output_type": "error",
     "traceback": [
      "\u001b[1;31m---------------------------------------------------------------------------\u001b[0m",
      "\u001b[1;31mTypeError\u001b[0m                                 Traceback (most recent call last)",
      "\u001b[1;32m<ipython-input-106-79950056ad54>\u001b[0m in \u001b[0;36m<module>\u001b[1;34m\u001b[0m\n\u001b[1;32m----> 1\u001b[1;33m \u001b[0mtup\u001b[0m\u001b[1;33m[\u001b[0m\u001b[1;36m0\u001b[0m\u001b[1;33m]\u001b[0m\u001b[1;33m=\u001b[0m\u001b[1;36m4\u001b[0m\u001b[1;33m\u001b[0m\u001b[1;33m\u001b[0m\u001b[0m\n\u001b[0m",
      "\u001b[1;31mTypeError\u001b[0m: 'tuple' object does not support item assignment"
     ]
    }
   ],
   "source": [
    "tup[0]=4"
   ]
  },
  {
   "cell_type": "code",
   "execution_count": 107,
   "metadata": {},
   "outputs": [
    {
     "data": {
      "text/plain": [
       "2130761246416"
      ]
     },
     "execution_count": 107,
     "metadata": {},
     "output_type": "execute_result"
    }
   ],
   "source": [
    "id(tup)"
   ]
  },
  {
   "cell_type": "code",
   "execution_count": 108,
   "metadata": {},
   "outputs": [],
   "source": [
    "tup=(787,87348,98734985)"
   ]
  },
  {
   "cell_type": "code",
   "execution_count": 109,
   "metadata": {},
   "outputs": [
    {
     "data": {
      "text/plain": [
       "2130793806976"
      ]
     },
     "execution_count": 109,
     "metadata": {},
     "output_type": "execute_result"
    }
   ],
   "source": [
    "id(tup)"
   ]
  },
  {
   "cell_type": "code",
   "execution_count": 1,
   "metadata": {},
   "outputs": [
    {
     "name": "stdout",
     "output_type": "stream",
     "text": [
      "How many terms? 6\n",
      "Fibonacci sequence:\n",
      "0\n",
      "1\n",
      "1\n",
      "2\n",
      "3\n",
      "5\n"
     ]
    }
   ],
   "source": [
    "# Program to display the Fibonacci sequence up to n-th term\n",
    "\n",
    "nterms = int(input(\"How many terms? \"))\n",
    "\n",
    "# first two terms\n",
    "n1, n2 = 0, 1\n",
    "count = 0\n",
    "\n",
    "# check if the number of terms is valid\n",
    "if nterms <= 0:\n",
    "   print(\"Please enter a positive integer\")\n",
    "# if there is only one term, return n1\n",
    "elif nterms == 1:\n",
    "   print(\"Fibonacci sequence upto\",nterms,\":\")\n",
    "   print(n1)\n",
    "# generate fibonacci sequence\n",
    "else:\n",
    "   print(\"Fibonacci sequence:\")\n",
    "   while count < nterms:\n",
    "       print(n1)\n",
    "       nth = n1 + n2\n",
    "       # update values\n",
    "       n1 = n2\n",
    "       n2 = nth\n",
    "       count += 1"
   ]
  },
  {
   "cell_type": "code",
   "execution_count": 2,
   "metadata": {},
   "outputs": [
    {
     "ename": "ZeroDivisionError",
     "evalue": "division by zero",
     "output_type": "error",
     "traceback": [
      "\u001b[1;31m---------------------------------------------------------------------------\u001b[0m",
      "\u001b[1;31mZeroDivisionError\u001b[0m                         Traceback (most recent call last)",
      "Input \u001b[1;32mIn [2]\u001b[0m, in \u001b[0;36m<cell line: 2>\u001b[1;34m()\u001b[0m\n\u001b[0;32m      1\u001b[0m a\u001b[38;5;241m=\u001b[39m\u001b[38;5;241m5\u001b[39m\n\u001b[1;32m----> 2\u001b[0m \u001b[43ma\u001b[49m\u001b[38;5;241;43m/\u001b[39;49m\u001b[38;5;241;43m0\u001b[39;49m\n",
      "\u001b[1;31mZeroDivisionError\u001b[0m: division by zero"
     ]
    }
   ],
   "source": [
    "a=5\n",
    "a/0\n"
   ]
  },
  {
   "cell_type": "code",
   "execution_count": null,
   "metadata": {},
   "outputs": [],
   "source": [
    "*****\n",
    "*   *\n",
    "*   *\n",
    "*****"
   ]
  },
  {
   "cell_type": "code",
   "execution_count": 8,
   "metadata": {},
   "outputs": [
    {
     "name": "stdout",
     "output_type": "stream",
     "text": [
      "j\n",
      "p\n",
      "r\n"
     ]
    }
   ],
   "source": [
    "l = ['jalpa','parag','raghuraj']\n",
    "for i in l:\n",
    "    print(i[0])"
   ]
  },
  {
   "cell_type": "code",
   "execution_count": 11,
   "metadata": {},
   "outputs": [],
   "source": [
    "a = 5"
   ]
  },
  {
   "cell_type": "code",
   "execution_count": 12,
   "metadata": {},
   "outputs": [
    {
     "data": {
      "text/plain": [
       "2495970699696"
      ]
     },
     "execution_count": 12,
     "metadata": {},
     "output_type": "execute_result"
    }
   ],
   "source": [
    "id(a)"
   ]
  },
  {
   "cell_type": "code",
   "execution_count": 13,
   "metadata": {},
   "outputs": [],
   "source": [
    "a = 10"
   ]
  },
  {
   "cell_type": "code",
   "execution_count": 14,
   "metadata": {},
   "outputs": [
    {
     "data": {
      "text/plain": [
       "2495970699856"
      ]
     },
     "execution_count": 14,
     "metadata": {},
     "output_type": "execute_result"
    }
   ],
   "source": [
    "id(a)"
   ]
  },
  {
   "cell_type": "code",
   "execution_count": 15,
   "metadata": {},
   "outputs": [
    {
     "data": {
      "text/plain": [
       "10"
      ]
     },
     "execution_count": 15,
     "metadata": {},
     "output_type": "execute_result"
    }
   ],
   "source": [
    "a"
   ]
  },
  {
   "cell_type": "code",
   "execution_count": null,
   "metadata": {},
   "outputs": [],
   "source": []
  }
 ],
 "metadata": {
  "colab": {
   "authorship_tag": "ABX9TyNkQB+r406kGrWq5PR2aCjU",
   "collapsed_sections": [],
   "name": "07 Functions.ipynb",
   "provenance": []
  },
  "kernelspec": {
   "display_name": "Python 3 (ipykernel)",
   "language": "python",
   "name": "python3"
  },
  "language_info": {
   "codemirror_mode": {
    "name": "ipython",
    "version": 3
   },
   "file_extension": ".py",
   "mimetype": "text/x-python",
   "name": "python",
   "nbconvert_exporter": "python",
   "pygments_lexer": "ipython3",
   "version": "3.10.9"
  }
 },
 "nbformat": 4,
 "nbformat_minor": 1
}
