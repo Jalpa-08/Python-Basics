{
 "cells": [
  {
   "cell_type": "code",
   "execution_count": 14,
   "id": "007cbc24",
   "metadata": {},
   "outputs": [
    {
     "data": {
      "text/plain": [
       "'petrol'"
      ]
     },
     "execution_count": 14,
     "metadata": {},
     "output_type": "execute_result"
    }
   ],
   "source": [
    "## Parents Class\n",
    "class car:\n",
    "    def __init__ (self, engine, color):\n",
    "        self.engine = engine\n",
    "        self.color = color\n",
    "    def func1(self):\n",
    "        return self.engine\n",
    " ## Child Class\n",
    "class car1(car):\n",
    "    def __init__ (self, engine, color,horse_power, window):\n",
    "        super().__init__(engine, color)\n",
    "        self.horse_power = horse_power\n",
    "        self.window = window\n",
    "    \n",
    "    def func2(self):\n",
    "        return self.window\n",
    "    \n",
    "obj = car1('petrol','black','120hz',4)\n",
    "obj.func1()   "
   ]
  },
  {
   "cell_type": "code",
   "execution_count": 32,
   "id": "a7260328",
   "metadata": {},
   "outputs": [
    {
     "data": {
      "text/plain": [
       "' My Name is sandesh and Roll is  12 salary is 1200'"
      ]
     },
     "execution_count": 32,
     "metadata": {},
     "output_type": "execute_result"
    }
   ],
   "source": [
    "class A:\n",
    "    def __init__(self,name,roll):\n",
    "        self.name = name\n",
    "        self.roll = roll \n",
    "    def get(self):\n",
    "        return f\"{self.name} and {self.roll}\"\n",
    "\n",
    "class B(A):\n",
    "    def __init__(self,name,roll,salary):\n",
    "        self.salary = salary\n",
    "        A.__init__(self,name,roll)\n",
    "    def get(self):\n",
    "        return f\" My Name is {self.name} and Roll is  {self.roll} salary is {self.salary}\"\n",
    "    \n",
    "\n",
    "b = B('sandesh',12,1200)\n",
    "b.get()"
   ]
  },
  {
   "cell_type": "code",
   "execution_count": 4,
   "id": "a17a82d2",
   "metadata": {},
   "outputs": [
    {
     "name": "stdout",
     "output_type": "stream",
     "text": [
      "sparrows can fly\n"
     ]
    }
   ],
   "source": [
    "class bird:\n",
    "    def intro(self):\n",
    "        print(\"there are many types of bird\")\n",
    "    def flight(self):\n",
    "        print(\"Most birds can fly but few cannot\")\n",
    "        \n",
    "class sparrow(bird):\n",
    "    def flight(self):\n",
    "        print(\"sparrows can fly\")\n",
    "        \n",
    "class ostrich(bird):\n",
    "    def flight(self):\n",
    "        print(\"Ostrich cannot fly\")\n",
    "        \n",
    "titli=sparrow()\n",
    "kitty=ostrich()\n",
    "bird1 = bird()\n",
    "\n",
    "titli.flight()"
   ]
  },
  {
   "cell_type": "code",
   "execution_count": 25,
   "id": "c066e601",
   "metadata": {},
   "outputs": [
    {
     "name": "stdout",
     "output_type": "stream",
     "text": [
      "This is my id :  107\n"
     ]
    },
    {
     "data": {
      "text/plain": [
       "('jalpa', 'patel')"
      ]
     },
     "execution_count": 25,
     "metadata": {},
     "output_type": "execute_result"
    }
   ],
   "source": [
    "## Parent Class\n",
    "class Person:\n",
    "    def __init__(self, fname, lname, year):\n",
    "        self.fname = fname\n",
    "        self.lname = lname\n",
    "        self.year = year\n",
    "    def func1(self):\n",
    "        return self.fname,self.lname\n",
    "## Child Class    \n",
    "class Student(Person):\n",
    "    def __init__(self, fname, lname, year, id):\n",
    "        super().__init__(fname, lname, year)\n",
    "        self.id = id\n",
    "    def funct2(self):\n",
    "        print(\"This is my id : \", self.id )\n",
    "        \n",
    "obj = Student('jalpa','patel',2000,107)\n",
    "\n",
    "obj.funct2()\n",
    "obj.func1()\n"
   ]
  },
  {
   "cell_type": "code",
   "execution_count": 30,
   "id": "2832f126",
   "metadata": {},
   "outputs": [
    {
     "ename": "AttributeError",
     "evalue": "'B' object has no attribute 'name'",
     "output_type": "error",
     "traceback": [
      "\u001b[1;31m---------------------------------------------------------------------------\u001b[0m",
      "\u001b[1;31mAttributeError\u001b[0m                            Traceback (most recent call last)",
      "Input \u001b[1;32mIn [30]\u001b[0m, in \u001b[0;36m<cell line: 12>\u001b[1;34m()\u001b[0m\n\u001b[0;32m      8\u001b[0m         \u001b[38;5;28mself\u001b[39m\u001b[38;5;241m.\u001b[39mroll \u001b[38;5;241m=\u001b[39m roll\n\u001b[0;32m     11\u001b[0m \u001b[38;5;28mobject\u001b[39m \u001b[38;5;241m=\u001b[39m B(\u001b[38;5;241m23\u001b[39m)\n\u001b[1;32m---> 12\u001b[0m \u001b[38;5;28mprint\u001b[39m(\u001b[38;5;28;43mobject\u001b[39;49m\u001b[38;5;241;43m.\u001b[39;49m\u001b[43mname\u001b[49m)\n",
      "\u001b[1;31mAttributeError\u001b[0m: 'B' object has no attribute 'name'"
     ]
    }
   ],
   "source": [
    "class A:\n",
    "    def __init__(self, name):\n",
    "        self.name = n\n",
    " \n",
    " \n",
    "class B(A):\n",
    "    def __init__(self, roll):\n",
    "        self.roll = roll\n",
    " \n",
    " \n",
    "object = B(23)\n",
    "print(object.name)"
   ]
  },
  {
   "cell_type": "code",
   "execution_count": 31,
   "id": "9db153a5",
   "metadata": {},
   "outputs": [
    {
     "name": "stdout",
     "output_type": "stream",
     "text": [
      "jalpa\n"
     ]
    }
   ],
   "source": [
    "class A:\n",
    "    def __init__(self, name):\n",
    "        self.name = name\n",
    " \n",
    " \n",
    "class B(A):\n",
    "    def __init__(self, name,roll):\n",
    "        super().__init__(name)\n",
    "        self.roll = roll\n",
    " \n",
    " \n",
    "object = B('jalpa',23)\n",
    "print(object.name)"
   ]
  },
  {
   "cell_type": "code",
   "execution_count": null,
   "id": "15889d13",
   "metadata": {},
   "outputs": [],
   "source": []
  }
 ],
 "metadata": {
  "kernelspec": {
   "display_name": "Python 3 (ipykernel)",
   "language": "python",
   "name": "python3"
  },
  "language_info": {
   "codemirror_mode": {
    "name": "ipython",
    "version": 3
   },
   "file_extension": ".py",
   "mimetype": "text/x-python",
   "name": "python",
   "nbconvert_exporter": "python",
   "pygments_lexer": "ipython3",
   "version": "3.9.12"
  }
 },
 "nbformat": 4,
 "nbformat_minor": 5
}
