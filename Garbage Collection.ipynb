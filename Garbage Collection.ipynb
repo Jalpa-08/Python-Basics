{
 "cells": [
  {
   "cell_type": "code",
   "execution_count": 1,
   "id": "dfc5f5cc",
   "metadata": {},
   "outputs": [],
   "source": [
    "b = 5\n"
   ]
  },
  {
   "cell_type": "code",
   "execution_count": 2,
   "id": "8caa55b0",
   "metadata": {},
   "outputs": [],
   "source": [
    "b =9"
   ]
  },
  {
   "cell_type": "code",
   "execution_count": 3,
   "id": "c70cd4a3",
   "metadata": {},
   "outputs": [
    {
     "name": "stdout",
     "output_type": "stream",
     "text": [
      "9\n"
     ]
    }
   ],
   "source": [
    "print(b)"
   ]
  },
  {
   "cell_type": "code",
   "execution_count": 9,
   "id": "6125d9a8",
   "metadata": {},
   "outputs": [
    {
     "name": "stdout",
     "output_type": "stream",
     "text": [
      "1604505528880\n"
     ]
    }
   ],
   "source": [
    "print(id(b))"
   ]
  },
  {
   "cell_type": "markdown",
   "id": "9800299a",
   "metadata": {},
   "source": [
    "# Automatic Garbage Collection"
   ]
  },
  {
   "cell_type": "raw",
   "id": "eb6e432e",
   "metadata": {},
   "source": [
    "Because reference cycles take computational work to discover, garbage collection must be a scheduled activity. \n",
    "Python schedules garbage collection based upon a threshold of object allocations and object deallocations. When the number \n",
    "of allocations minus the number of deallocations is greater than the threshold number, the garbage collector is run. \n",
    "One can inspect the threshold for new objects (objects in Python known as generation 0 objects) by\n",
    "importing the gc module and asking for garbage collection thresholds: \n",
    "    "
   ]
  },
  {
   "cell_type": "code",
   "execution_count": 14,
   "id": "5b49fd93",
   "metadata": {},
   "outputs": [
    {
     "name": "stdout",
     "output_type": "stream",
     "text": [
      "Garbage collection thresholds: (700, 10, 10)\n"
     ]
    }
   ],
   "source": [
    "# loading gc\n",
    "import gc\n",
    "print(\"Garbage collection thresholds:\",\n",
    "                    gc.get_threshold())"
   ]
  },
  {
   "cell_type": "raw",
   "id": "341755d9",
   "metadata": {},
   "source": [
    "Here, the default threshold on the above system is 700. This means when the number of allocations vs. the number of deallocations is greater than 700 the automatic garbage collector will run. Thus any portion of your code which frees up large blocks of memory is a good candidate for running manual garbage collection. "
   ]
  },
  {
   "cell_type": "markdown",
   "id": "0c29b9bc",
   "metadata": {},
   "source": [
    "# Manual Garbage Collection"
   ]
  },
  {
   "cell_type": "raw",
   "id": "87e52439",
   "metadata": {},
   "source": [
    "Invoking the garbage collector manually during the execution of a program can be a good idea on how to handle memory \n",
    "being consumed by reference cycles. \n",
    "The garbage collection can be invoked manually in the following way: "
   ]
  },
  {
   "cell_type": "code",
   "execution_count": 15,
   "id": "a0f020ec",
   "metadata": {},
   "outputs": [
    {
     "name": "stdout",
     "output_type": "stream",
     "text": [
      "Garbage collector: collected 1392 objects.\n"
     ]
    }
   ],
   "source": [
    "# Importing gc module\n",
    "import gc\n",
    " \n",
    "# Returns the number of\n",
    "# objects it has collected\n",
    "# and deallocated\n",
    "collected = gc.collect()\n",
    " \n",
    "# Prints Garbage collector\n",
    "# as 0 object\n",
    "print(\"Garbage collector: collected\",\n",
    "          \"%d objects.\" % collected)"
   ]
  }
 ],
 "metadata": {
  "kernelspec": {
   "display_name": "Python 3 (ipykernel)",
   "language": "python",
   "name": "python3"
  },
  "language_info": {
   "codemirror_mode": {
    "name": "ipython",
    "version": 3
   },
   "file_extension": ".py",
   "mimetype": "text/x-python",
   "name": "python",
   "nbconvert_exporter": "python",
   "pygments_lexer": "ipython3",
   "version": "3.9.12"
  }
 },
 "nbformat": 4,
 "nbformat_minor": 5
}
