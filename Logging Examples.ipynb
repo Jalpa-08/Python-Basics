{
 "cells": [
  {
   "cell_type": "code",
   "execution_count": 2,
   "id": "48b63298-8207-4562-8b68-01f2e4e66379",
   "metadata": {},
   "outputs": [],
   "source": [
    "## Logging in a File Operation\n",
    "import logging\n",
    "\n",
    "# Configure logging\n",
    "logging.basicConfig(filename='file_operations.log', level=logging.INFO)\n",
    "\n",
    "def read_file(file_path):\n",
    "    try:\n",
    "        with open(file_path, 'r') as file:\n",
    "            content = file.read()\n",
    "            logging.info(f\"Successfully read the file: {file_path}\")\n",
    "            return content\n",
    "    except FileNotFoundError as e:\n",
    "        logging.error(f\"File not found: {file_path}\")\n",
    "        logging.exception(\"Exception occurred\")\n",
    "        return None\n",
    "    except Exception as e:\n",
    "        logging.error(f\"An error occurred while reading the file: {file_path}\")\n",
    "        logging.exception(\"Exception details:\")\n",
    "        return None\n",
    "\n",
    "# Test the function\n",
    "read_file('text.txt')\n"
   ]
  },
  {
   "cell_type": "code",
   "execution_count": 2,
   "id": "4aba6bf8-24e5-4dbe-9961-78a4ef340982",
   "metadata": {},
   "outputs": [],
   "source": [
    "## Logging in a Network Operation\n",
    "import logging\n",
    "import requests\n",
    "\n",
    "# Configure logging\n",
    "logging.basicConfig(filename='network_operations.log', level=logging.WARNING,format ='%(asctime)s %(levelname)s %(message)s')\n",
    "\n",
    "def fetch_data(url):\n",
    "    try:\n",
    "        response = requests.get(url)\n",
    "        response.raise_for_status()\n",
    "        logging.info(f\"Successfully fetched data from {url}\")\n",
    "        return response.text\n",
    "    except requests.exceptions.HTTPError as e:\n",
    "        logging.warning(f\"HTTP error occurred: {e}\")\n",
    "        logging.exception(\"Exception occurred\")\n",
    "        return None\n",
    "    except requests.exceptions.RequestException as e:\n",
    "        logging.error(f\"Error occurred during request to {url}\")\n",
    "        logging.exception(\"Exception details:\")\n",
    "        return None\n",
    "\n",
    "# Test the function\n",
    "fetch_data('http://example.com/non_existent_page')\n",
    "#fetch_data('https://www.google.com/')\n"
   ]
  },
  {
   "cell_type": "code",
   "execution_count": 1,
   "id": "c31b29f3-5f8f-4541-a2ca-6ac3180f1c7d",
   "metadata": {},
   "outputs": [
    {
     "data": {
      "text/plain": [
       "[1, 2, 3, 4]"
      ]
     },
     "execution_count": 1,
     "metadata": {},
     "output_type": "execute_result"
    }
   ],
   "source": [
    "## Custom Logger with Exception Handling\n",
    "import logging\n",
    "\n",
    "# Configure custom logger\n",
    "logger = logging.getLogger('custom_logger')\n",
    "handler = logging.FileHandler('custom_app.log')\n",
    "formatter = logging.Formatter('%(asctime)s - %(name)s - %(levelname)s - %(message)s')\n",
    "handler.setFormatter(formatter)\n",
    "logger.addHandler(handler)\n",
    "logger.setLevel(logging.DEBUG)\n",
    "\n",
    "def process_data(data):\n",
    "    try:\n",
    "        result = [int(i) for i in data]\n",
    "        logger.info(\"Data processing successful\")\n",
    "        return result\n",
    "    except ValueError as e:\n",
    "        logger.error(\"Error processing data\")\n",
    "        logger.exception(\"Exception occurred\")\n",
    "        return None\n",
    "\n",
    "# Test the function\n",
    "process_data(['1', '2', '3', '4'])\n"
   ]
  },
  {
   "cell_type": "code",
   "execution_count": 3,
   "id": "d9001a78-0117-4e77-b3d7-bae09ac853fd",
   "metadata": {},
   "outputs": [
    {
     "name": "stderr",
     "output_type": "stream",
     "text": [
      "DEBUG - Square root of 4 is 2.0\n"
     ]
    },
    {
     "data": {
      "text/plain": [
       "2.0"
      ]
     },
     "execution_count": 3,
     "metadata": {},
     "output_type": "execute_result"
    }
   ],
   "source": [
    "## Logging with Multiple Handlers\n",
    "import logging\n",
    "\n",
    "# Configure logging\n",
    "logger = logging.getLogger('multi_handler_logger')\n",
    "logger.setLevel(logging.DEBUG)\n",
    "\n",
    "# File handler\n",
    "file_handler = logging.FileHandler('multi_handler.log')\n",
    "file_handler.setLevel(logging.ERROR)\n",
    "file_formatter = logging.Formatter('%(asctime)s - %(levelname)s - %(message)s')\n",
    "file_handler.setFormatter(file_formatter)\n",
    "\n",
    "# Console handler\n",
    "console_handler = logging.StreamHandler()\n",
    "console_handler.setLevel(logging.DEBUG)\n",
    "console_formatter = logging.Formatter('%(levelname)s - %(message)s')\n",
    "console_handler.setFormatter(console_formatter)\n",
    "\n",
    "# Add handlers to logger\n",
    "logger.addHandler(file_handler)\n",
    "logger.addHandler(console_handler)\n",
    "\n",
    "def calculate_square_root(x):\n",
    "    try:\n",
    "        if x < 0:\n",
    "            raise ValueError(\"Cannot calculate square root of a negative number\")\n",
    "        result = x ** 0.5\n",
    "        logger.debug(f\"Square root of {x} is {result}\")\n",
    "        return result\n",
    "    except ValueError as e:\n",
    "        logger.error(\"Error occurred in calculate_square_root\")\n",
    "        logger.exception(\"Exception details:\")\n",
    "        return None\n",
    "\n",
    "# Test the function\n",
    "calculate_square_root(4)\n"
   ]
  },
  {
   "cell_type": "code",
   "execution_count": null,
   "id": "236aa98f-9bfe-4235-9263-f22d25dc67dc",
   "metadata": {},
   "outputs": [],
   "source": []
  }
 ],
 "metadata": {
  "kernelspec": {
   "display_name": "Python 3 (ipykernel)",
   "language": "python",
   "name": "python3"
  },
  "language_info": {
   "codemirror_mode": {
    "name": "ipython",
    "version": 3
   },
   "file_extension": ".py",
   "mimetype": "text/x-python",
   "name": "python",
   "nbconvert_exporter": "python",
   "pygments_lexer": "ipython3",
   "version": "3.10.9"
  }
 },
 "nbformat": 4,
 "nbformat_minor": 5
}
