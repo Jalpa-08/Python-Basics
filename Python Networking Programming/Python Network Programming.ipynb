{
 "cells": [
  {
   "cell_type": "raw",
   "id": "9053eabb",
   "metadata": {},
   "source": [
    "Python provides two levels of access to network programming. \n",
    "These are: \n",
    "\n",
    "Low-Level Access: At the low level, you can access the basic socket support of the operating system. You can implement client and server for both connection-oriented and connectionless protocols.\n",
    "High-Level Access: At the high level allows to implement protocols like HTTP, FTP, etc."
   ]
  },
  {
   "cell_type": "raw",
   "id": "8bb4b190",
   "metadata": {},
   "source": [
    "What are Sockets? # 0 - 65535\n",
    "Consider a bidirectional communication channel, the sockets are the endpoints of this communication channel. These sockets (endpoints) can communicate within a process, between processes on the same machine, or between the processes on the different machines. Sockets use different protocols for determining the connection type for port-to-port communication between clients and servers."
   ]
  },
  {
   "cell_type": "raw",
   "id": "777a3325",
   "metadata": {},
   "source": [
    "What is Socket Programming?\n",
    "Socket programming is a way of connecting two nodes on a network to communicate with each other. One socket(node) listens on a particular port at an IP, while the other socket reaches out to the other to form a connection. The server forms the listener socket while the client reaches out to the server. They are the real backbones behind web browsing. In simpler terms, there is a server and a client. We can use the socket module for socket programming. \n",
    "For this, \n",
    "we have to include the socket module "
   ]
  },
  {
   "cell_type": "code",
   "execution_count": 1,
   "id": "49b09743",
   "metadata": {},
   "outputs": [],
   "source": [
    "import socket"
   ]
  },
  {
   "cell_type": "code",
   "execution_count": 2,
   "id": "5c3c9371",
   "metadata": {},
   "outputs": [
    {
     "ename": "NameError",
     "evalue": "name 'socket_family' is not defined",
     "output_type": "error",
     "traceback": [
      "\u001b[1;31m---------------------------------------------------------------------------\u001b[0m",
      "\u001b[1;31mNameError\u001b[0m                                 Traceback (most recent call last)",
      "Input \u001b[1;32mIn [2]\u001b[0m, in \u001b[0;36m<cell line: 2>\u001b[1;34m()\u001b[0m\n\u001b[0;32m      1\u001b[0m \u001b[38;5;66;03m## to create a socket we have to use the socket.socket() method. \u001b[39;00m\n\u001b[1;32m----> 2\u001b[0m socket\u001b[38;5;241m.\u001b[39msocket(\u001b[43msocket_family\u001b[49m, socket_type, protocol\u001b[38;5;241m=\u001b[39m\u001b[38;5;241m0\u001b[39m)\n",
      "\u001b[1;31mNameError\u001b[0m: name 'socket_family' is not defined"
     ]
    }
   ],
   "source": [
    "## to create a socket we have to use the socket.socket() method. \n",
    "## socket_family: Either AF_UNIX or AF_INET\n",
    "## socket_type: Either SOCK_STREAM or SOCK_DGRAM\n",
    "##  protocol: Usually left out, defaulting to 0\n",
    "socket.socket(socket_family, socket_type, protocol=0)"
   ]
  },
  {
   "cell_type": "code",
   "execution_count": 3,
   "id": "03b1f154",
   "metadata": {},
   "outputs": [
    {
     "name": "stdout",
     "output_type": "stream",
     "text": [
      "<socket.socket fd=1012, family=AddressFamily.AF_INET, type=SocketKind.SOCK_STREAM, proto=0>\n"
     ]
    }
   ],
   "source": [
    "import socket\n",
    " \n",
    " \n",
    "s = socket.socket(socket.AF_INET, socket.SOCK_STREAM)\n",
    "print(s)"
   ]
  },
  {
   "cell_type": "code",
   "execution_count": null,
   "id": "2496db53",
   "metadata": {},
   "outputs": [],
   "source": [
    "import socket\n",
    "\n",
    "soc = socket.socket(socket.AF_INET, socket.SOCK_STREAM)\n",
    "soc.bind((socket.gethostname(), 1042))\n",
    "soc.listen(5)\n",
    "\n",
    "while True:\n",
    "    clt, addr = soc.accept() ## address \n",
    "    print(f\"connection establish to address {addr}\")\n",
    "    clt.send(bytes(\"network programmimg using python\",\"utf-8\"))\n",
    "    #msg = \"message received and the message is \"\n",
    "    #clt.send(bytes(msg+\" network programming using python\", \"utf-8\"))"
   ]
  },
  {
   "cell_type": "code",
   "execution_count": null,
   "id": "51a989b8",
   "metadata": {},
   "outputs": [],
   "source": [
    "import socket\n",
    "\n",
    "soc = socket.socket(socket.AF_INET,socket.SOCK_STREM)\n",
    "soc.connet((socket.gethostname(),1042)) ## connection is established\n",
    "msg = soc.recv(100)\n",
    "print(msg.decode(\"utf-8\"))\n",
    " \n",
    "#while True:\n",
    "    #msg = soc.recv(8)\n",
    "    #print(msg.decode(\"utf-8\"))"
   ]
  }
 ],
 "metadata": {
  "kernelspec": {
   "display_name": "Python 3 (ipykernel)",
   "language": "python",
   "name": "python3"
  },
  "language_info": {
   "codemirror_mode": {
    "name": "ipython",
    "version": 3
   },
   "file_extension": ".py",
   "mimetype": "text/x-python",
   "name": "python",
   "nbconvert_exporter": "python",
   "pygments_lexer": "ipython3",
   "version": "3.9.12"
  }
 },
 "nbformat": 4,
 "nbformat_minor": 5
}
