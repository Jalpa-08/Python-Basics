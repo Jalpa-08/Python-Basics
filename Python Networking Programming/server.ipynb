{
 "cells": [
  {
   "cell_type": "code",
   "execution_count": null,
   "id": "875fd204",
   "metadata": {},
   "outputs": [],
   "source": [
    "import socket\n",
    "s = socket.socket()\n",
    "print(\"socket created\")\n",
    "\n",
    "s.bind(('localhost', 9999))\n",
    "\n",
    "s.listen(3)\n",
    "\n",
    "print('weighting for connection')\n",
    "\n",
    "while True:\n",
    "    c, addr = s.accept() # connection from client\n",
    "    print(\"connected with\", addr)\n",
    "\n",
    "    c.send(bytes('welcome to BIT', 'utf-8'))\n",
    "\n",
    "    c.close()\n"
   ]
  },
  {
   "cell_type": "code",
   "execution_count": null,
   "id": "bacd62ea",
   "metadata": {},
   "outputs": [],
   "source": []
  }
 ],
 "metadata": {
  "kernelspec": {
   "display_name": "Python 3 (ipykernel)",
   "language": "python",
   "name": "python3"
  },
  "language_info": {
   "codemirror_mode": {
    "name": "ipython",
    "version": 3
   },
   "file_extension": ".py",
   "mimetype": "text/x-python",
   "name": "python",
   "nbconvert_exporter": "python",
   "pygments_lexer": "ipython3",
   "version": "3.9.12"
  }
 },
 "nbformat": 4,
 "nbformat_minor": 5
}
