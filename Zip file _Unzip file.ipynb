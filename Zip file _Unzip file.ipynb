{
 "cells": [
  {
   "cell_type": "code",
   "execution_count": 2,
   "id": "c3443bc2",
   "metadata": {},
   "outputs": [],
   "source": [
    "import zipfile\n",
    "import os"
   ]
  },
  {
   "cell_type": "markdown",
   "id": "23ef1ce7",
   "metadata": {},
   "source": [
    "# Create Zip File"
   ]
  },
  {
   "cell_type": "code",
   "execution_count": 3,
   "id": "0f87b0e0",
   "metadata": {},
   "outputs": [],
   "source": [
    "os.chdir('D:\\Jalpa Desai')\n",
    "my_zip = zipfile.ZipFile('files1.zip','w')\n",
    "my_zip.write('Advanced Python Task.pdf')\n",
    "my_zip.write('Python Programming Course.pdf')\n",
    "my_zip.close()"
   ]
  },
  {
   "cell_type": "markdown",
   "id": "9ed51860",
   "metadata": {},
   "source": [
    "# Create Unzip File"
   ]
  },
  {
   "cell_type": "code",
   "execution_count": 6,
   "id": "48b69684",
   "metadata": {},
   "outputs": [
    {
     "name": "stdout",
     "output_type": "stream",
     "text": [
      "File Name                                             Modified             Size\n",
      "Python_Library-Implementation-main/            2022-09-01 03:43:38            0\n",
      "Python_Library-Implementation-main/.gitignore  2022-09-01 03:43:38         1799\n",
      "Python_Library-Implementation-main/Data Analysis_Numpy.ipynb 2022-09-01 03:43:38        60296\n",
      "Python_Library-Implementation-main/Data Visualization_Matplotlib_Plotly (1).ipynb 2022-09-01 03:43:38      1558179\n",
      "Python_Library-Implementation-main/Data Visualization_Plotly.ipynb 2022-09-01 03:43:38      1113590\n",
      "Python_Library-Implementation-main/DataManupulation_Titanic_Database.ipynb 2022-09-01 03:43:38       266761\n",
      "Python_Library-Implementation-main/LICENSE     2022-09-01 03:43:38         1068\n",
      "Python_Library-Implementation-main/Pandas Data Visualisation.ipynb 2022-09-01 03:43:38      1083662\n",
      "Python_Library-Implementation-main/Pandas with HTML.ipynb 2022-09-01 03:43:38        46860\n",
      "Python_Library-Implementation-main/Pandas1.ipynb 2022-09-01 03:43:38        47541\n",
      "Python_Library-Implementation-main/Pandas_Bank_Dataset.ipynb 2022-09-01 03:43:38        33097\n",
      "Python_Library-Implementation-main/Pandas_Implementation.ipynb 2022-09-01 03:43:38        51546\n",
      "Python_Library-Implementation-main/README.md   2022-09-01 03:43:38           31\n",
      "Python_Library-Implementation-main/Seaborn Data Visualization-1.ipynb 2022-09-01 03:43:38       533095\n",
      "Python_Library-Implementation-main/seaborn_tips_Dataset.ipynb 2022-09-01 03:43:38       505127\n",
      "processing ......\n",
      "Process completed\n"
     ]
    }
   ],
   "source": [
    "from zipfile import ZipFile\n",
    "#file = r\"C:\\Users\\vaibh\\Downloads\\Pro-Kabaddi-Data-Analysis-master.zip\"\n",
    "file = r\"C:\\Users\\vaibh\\Downloads\\Python_Library-Implementation-main.zip\"\n",
    "with ZipFile(file,'r') as zip:\n",
    "    zip.printdir()\n",
    "    print(\"processing ......\")\n",
    "    zip.extractall()\n",
    "    print(\"Process completed\")"
   ]
  },
  {
   "cell_type": "code",
   "execution_count": null,
   "id": "ce6cb537",
   "metadata": {},
   "outputs": [],
   "source": []
  }
 ],
 "metadata": {
  "kernelspec": {
   "display_name": "Python 3 (ipykernel)",
   "language": "python",
   "name": "python3"
  },
  "language_info": {
   "codemirror_mode": {
    "name": "ipython",
    "version": 3
   },
   "file_extension": ".py",
   "mimetype": "text/x-python",
   "name": "python",
   "nbconvert_exporter": "python",
   "pygments_lexer": "ipython3",
   "version": "3.9.12"
  }
 },
 "nbformat": 4,
 "nbformat_minor": 5
}
