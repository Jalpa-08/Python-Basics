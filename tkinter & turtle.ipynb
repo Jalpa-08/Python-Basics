{
 "cells": [
  {
   "cell_type": "code",
   "execution_count": 3,
   "id": "829a0501-0b5a-4daf-a30a-7fb939acf570",
   "metadata": {},
   "outputs": [],
   "source": [
    "import tkinter as tk\n",
    "\n",
    "def button_click():\n",
    "    label.config(text=\"Button clicked!\")\n",
    "\n",
    "# Create the main window\n",
    "root = tk.Tk()\n",
    "root.title(\"Tkinter Example\")\n",
    "\n",
    "# Create a label widget\n",
    "label = tk.Label(root, text=\"Hello, Tkinter!\")\n",
    "label.pack()\n",
    "\n",
    "# Create a button widget\n",
    "button = tk.Button(root, text=\"Click me\", command=button_click)\n",
    "button.pack()\n",
    "\n",
    "# Start the Tkinter event loop\n",
    "root.mainloop()\n"
   ]
  },
  {
   "cell_type": "code",
   "execution_count": 8,
   "id": "c3db9f2c-6891-45b5-abc7-fd2f1a638e71",
   "metadata": {},
   "outputs": [],
   "source": [
    "#### TURTLE ####\n",
    "\n",
    "import turtle\n",
    "\n",
    "# Create a turtle object\n",
    "t = turtle.Turtle()\n",
    "\n",
    "# Draw a square\n",
    "for _ in range(4):\n",
    "    t.forward(100)\n",
    "    t.right(90)\n",
    "\n",
    "# Close the turtle graphics window when clicked\n",
    "turtle.done()\n"
   ]
  },
  {
   "cell_type": "code",
   "execution_count": 1,
   "id": "625fe060-dcbc-4346-bb51-5b9920bc581b",
   "metadata": {},
   "outputs": [],
   "source": [
    "import tkinter as tk\n",
    "from tkinter import ttk\n",
    "\n",
    "def on_button_click():\n",
    "    value = entry.get()\n",
    "    label_value.config(text=f\"You entered: {value}\")\n",
    "\n",
    "def on_combo_select(event):\n",
    "    selection = combo.get()\n",
    "    label_combo.config(text=f\"Selected option: {selection}\")\n",
    "\n",
    "def on_radio_select():\n",
    "    selection = radio_var.get()\n",
    "    label_radio.config(text=f\"Selected option: {selection}\")\n",
    "\n",
    "# Create main application window\n",
    "root = tk.Tk()\n",
    "root.title(\"Tkinter Widgets Example\")\n",
    "\n",
    "# Create label widget\n",
    "label = tk.Label(root, text=\"Enter text:\")\n",
    "label.grid(row=0, column=0, padx=10, pady=10)\n",
    "\n",
    "# Create entry widget\n",
    "entry = tk.Entry(root)\n",
    "entry.grid(row=0, column=1, padx=10, pady=10)\n",
    "\n",
    "# Create button widget\n",
    "button = tk.Button(root, text=\"Submit\", command=on_button_click)\n",
    "button.grid(row=0, column=2, padx=10, pady=10)\n",
    "\n",
    "# Create combo box widget\n",
    "combo_values = [\"Option 1\", \"Option 2\", \"Option 3\"]\n",
    "combo = ttk.Combobox(root, values=combo_values)\n",
    "combo.current(0)  # Set the default selection\n",
    "combo.bind(\"<<ComboboxSelected>>\", on_combo_select)\n",
    "combo.grid(row=1, column=0, padx=10, pady=10)\n",
    "\n",
    "# Create radio button widget\n",
    "radio_var = tk.StringVar()\n",
    "radio_var.set(\"Option 1\")  # Set the default selection\n",
    "radio1 = tk.Radiobutton(root, text=\"Option 1\", variable=radio_var, value=\"Option 1\", command=on_radio_select)\n",
    "radio2 = tk.Radiobutton(root, text=\"Option 2\", variable=radio_var, value=\"Option 2\", command=on_radio_select)\n",
    "radio3 = tk.Radiobutton(root, text=\"Option 3\", variable=radio_var, value=\"Option 3\", command=on_radio_select)\n",
    "radio1.grid(row=1, column=1, padx=10, pady=10)\n",
    "radio2.grid(row=1, column=2, padx=10, pady=10)\n",
    "radio3.grid(row=1, column=3, padx=10, pady=10)\n",
    "\n",
    "# Create labels to display selected values\n",
    "label_value = tk.Label(root, text=\"\")\n",
    "label_value.grid(row=2, column=0, columnspan=3, padx=10, pady=10)\n",
    "\n",
    "label_combo = tk.Label(root, text=\"\")\n",
    "label_combo.grid(row=3, column=0, columnspan=3, padx=10, pady=10)\n",
    "\n",
    "label_radio = tk.Label(root, text=\"\")\n",
    "label_radio.grid(row=4, column=0, columnspan=3, padx=10, pady=10)\n",
    "\n",
    "# Start the Tkinter event loop\n",
    "root.mainloop()\n"
   ]
  },
  {
   "cell_type": "code",
   "execution_count": 1,
   "id": "54b6a432-8af7-46a2-8029-fe35754d6b3c",
   "metadata": {},
   "outputs": [],
   "source": [
    "import tkinter as tk \n",
    "r = tk.Tk() \n",
    "r.title('Counting Seconds') \n",
    "button = tk.Button(r, text='Stop', width=25, command=r.destroy) \n",
    "button.pack() \n",
    "r.mainloop() "
   ]
  },
  {
   "cell_type": "code",
   "execution_count": 2,
   "id": "2e6cfed2-dd72-44a8-ab9d-219941312edb",
   "metadata": {},
   "outputs": [],
   "source": [
    "import tkinter as tk\n",
    "r = tk.Tk()\n",
    "r.title('welcome')\n",
    "button=tk.Button(r, text='start', width=25, command=r.destroy)\n",
    "button.pack()\n",
    "r.mainloop()"
   ]
  },
  {
   "cell_type": "code",
   "execution_count": 4,
   "id": "f7402b35-1b31-432a-8447-f753d47fb67a",
   "metadata": {},
   "outputs": [],
   "source": [
    "from tkinter import *\n",
    "master =Tk()\n",
    "w =Canvas(master, width=400, height=600)\n",
    "w.pack()\n",
    "canvas_height=200\n",
    "canvas_width=200\n",
    "y =int(canvas_height /2)\n",
    "w.create_line(0, y, canvas_width, y )\n",
    "mainloop()"
   ]
  },
  {
   "cell_type": "code",
   "execution_count": 5,
   "id": "5b890771-21fe-49fb-bda3-068a9ff3b548",
   "metadata": {},
   "outputs": [],
   "source": [
    "import tkinter as tk\n",
    "\n",
    "def button_click():\n",
    "    label.config(text=\"Button clicked!\")\n",
    "\n",
    "# Create the main window\n",
    "root = tk.Tk()\n",
    "root.title(\"Tkinter Example\")\n",
    "\n",
    "# Create a label widget\n",
    "label = tk.Label(root, text=\"Hello, Tkinter!\")\n",
    "label.pack()\n",
    "\n",
    "# Create a button widget\n",
    "button = tk.Button(root, text=\"Click me\", command=button_click)\n",
    "button.pack()\n",
    "\n",
    "# Start the Tkinter event loop\n",
    "root.mainloop()"
   ]
  },
  {
   "cell_type": "code",
   "execution_count": null,
   "id": "f72a41d2-1ed7-45c8-852c-124c7a9f9f70",
   "metadata": {},
   "outputs": [],
   "source": [
    "#1. Binding Events with bind Method:"
   ]
  },
  {
   "cell_type": "code",
   "execution_count": 7,
   "id": "259efa69-23b3-4a70-89a4-492c8a56ab4a",
   "metadata": {},
   "outputs": [
    {
     "name": "stdout",
     "output_type": "stream",
     "text": [
      "Button clicked!\n",
      "Button clicked!\n",
      "Button clicked!\n",
      "Button clicked!\n"
     ]
    }
   ],
   "source": [
    "import tkinter as tk\n",
    "\n",
    "def on_button_click(event):\n",
    "    print(\"Button clicked!\")\n",
    "\n",
    "root = tk.Tk()\n",
    "button = tk.Button(root, text=\"Click me\")\n",
    "button.pack()\n",
    "button.bind(\"<Button-1>\", on_button_click)  # Bind left mouse button click event\n",
    "root.mainloop()\n",
    "\n"
   ]
  },
  {
   "cell_type": "code",
   "execution_count": null,
   "id": "4e293b90-00ba-4697-aae7-b11661216db8",
   "metadata": {},
   "outputs": [],
   "source": [
    "#2. Binding Events with Lambda Functions:"
   ]
  },
  {
   "cell_type": "code",
   "execution_count": 8,
   "id": "ca1e875b-12c1-41e5-a8a8-89892d1c1c11",
   "metadata": {},
   "outputs": [
    {
     "name": "stdout",
     "output_type": "stream",
     "text": [
      "Button clicked!\n",
      "Button clicked!\n",
      "Button clicked!\n",
      "Button clicked!\n"
     ]
    }
   ],
   "source": [
    "def on_button_click(event, message):\n",
    "    print(message)\n",
    "\n",
    "root = tk.Tk()\n",
    "button = tk.Button(root, text=\"Click me\")\n",
    "button.pack()\n",
    "button.bind(\"<Button-1>\", lambda event: on_button_click(event, \"Button clicked!\"))\n",
    "root.mainloop()\n"
   ]
  },
  {
   "cell_type": "code",
   "execution_count": null,
   "id": "a0d1b5ee-fe32-46ad-8a32-056da85e4326",
   "metadata": {},
   "outputs": [],
   "source": [
    "#3. Binding Events with Class Methods:"
   ]
  },
  {
   "cell_type": "code",
   "execution_count": 1,
   "id": "34738bca-c07d-4377-96b4-c0db2e45be8c",
   "metadata": {},
   "outputs": [
    {
     "name": "stdout",
     "output_type": "stream",
     "text": [
      "Button clicked!\n",
      "Button clicked!\n",
      "Button clicked!\n"
     ]
    }
   ],
   "source": [
    "import tkinter as tk\n",
    "\n",
    "class App(tk.Tk):\n",
    "    def __init__(self):\n",
    "        super().__init__()\n",
    "        self.button = tk.Button(self, text=\"Click me\")\n",
    "        self.button.pack()\n",
    "        self.button.bind(\"<Button-1>\", self.on_button_click)\n",
    "    \n",
    "    def on_button_click(self, event):\n",
    "        print(\"Button clicked!\")\n",
    "app = App()\n",
    "app.mainloop()\n"
   ]
  },
  {
   "cell_type": "code",
   "execution_count": null,
   "id": "1bf5b270-220e-40d7-8efa-9bfc76a0e7e1",
   "metadata": {},
   "outputs": [],
   "source": [
    "#4. Predefined Event Sequences:"
   ]
  },
  {
   "cell_type": "code",
   "execution_count": 10,
   "id": "68e38480-a9ed-4b06-8961-9190d1da3a9b",
   "metadata": {},
   "outputs": [
    {
     "name": "stdout",
     "output_type": "stream",
     "text": [
      "Button clicked!\n",
      "Button clicked!\n",
      "Button clicked!\n"
     ]
    }
   ],
   "source": [
    "import tkinter as tk\n",
    "\n",
    "def on_button_click():\n",
    "    print(\"Button clicked!\")\n",
    "\n",
    "def on_enter_key(event):\n",
    "    print(\"Enter key pressed!\")\n",
    "\n",
    "root = tk.Tk()\n",
    "button = tk.Button(root, text=\"Click me\")\n",
    "button.pack()\n",
    "button.bind(\"<Button-1>\", lambda event: on_button_click())\n",
    "root.bind(\"<Return>\", on_enter_key)\n",
    "root.mainloop()\n"
   ]
  },
  {
   "cell_type": "code",
   "execution_count": 3,
   "id": "d2647ab8-d7de-4deb-a275-0ae3441c5508",
   "metadata": {},
   "outputs": [],
   "source": [
    "import tkinter as tk\n",
    "from tkinter import ttk\n",
    "\n",
    "def on_button_click():\n",
    "    value = entry.get()\n",
    "    label_value.config(text=f\"You entered: {value}\")\n",
    "\n",
    "def on_combo_select(event):\n",
    "    selection = combo.get()\n",
    "    label_combo.config(text=f\"Selected option: {selection}\")\n",
    "\n",
    "def on_radio_select():\n",
    "    selection = radio_var.get()\n",
    "    label_radio.config(text=f\"Selected option: {selection}\")\n",
    "\n",
    "# Create main application window\n",
    "root = tk.Tk()\n",
    "root.title(\"Tkinter Widgets Example\")\n",
    "\n",
    "# Create label widget\n",
    "label = tk.Label(root, text=\"Enter text:\")\n",
    "label.grid(row=0, column=0, padx=10, pady=10)\n",
    "\n",
    "# Create entry widget\n",
    "entry = tk.Entry(root)\n",
    "entry.grid(row=0, column=1, padx=10, pady=10)\n",
    "\n",
    "# Create button widget\n",
    "button = tk.Button(root, text=\"Submit\", command=on_button_click)\n",
    "button.grid(row=0, column=2, padx=10, pady=10)\n",
    "\n",
    "# Create combo box widget\n",
    "combo_values = [\"Option 1\", \"Option 2\", \"Option 3\"]\n",
    "combo = ttk.Combobox(root, values=combo_values)\n",
    "combo.current(0)  # Set the default selection\n",
    "combo.bind(\"<<ComboboxSelected>>\", on_combo_select)\n",
    "combo.grid(row=1, column=0, padx=10, pady=10)\n",
    "\n",
    "# Create radio button widget\n",
    "radio_var = tk.StringVar()\n",
    "radio_var.set(\"Option 1\")  # Set the default selection\n",
    "radio1 = tk.Radiobutton(root, text=\"Option 1\", variable=radio_var, value=\"Option 1\", command=on_radio_select)\n",
    "radio2 = tk.Radiobutton(root, text=\"Option 2\", variable=radio_var, value=\"Option 2\", command=on_radio_select)\n",
    "radio3 = tk.Radiobutton(root, text=\"Option 3\", variable=radio_var, value=\"Option 3\", command=on_radio_select)\n",
    "radio1.grid(row=1, column=1, padx=10, pady=10)\n",
    "radio2.grid(row=1, column=2, padx=10, pady=10)\n",
    "radio3.grid(row=1, column=3, padx=10, pady=10)\n",
    "\n",
    "# Create labels to display selected values\n",
    "label_value = tk.Label(root, text=\"\")\n",
    "label_value.grid(row=2, column=0, columnspan=3, padx=10, pady=10)\n",
    "\n",
    "label_combo = tk.Label(root, text=\"\")\n",
    "label_combo.grid(row=3, column=0, columnspan=3, padx=10, pady=10)\n",
    "\n",
    "label_radio = tk.Label(root, text=\"\")\n",
    "label_radio.grid(row=4, column=0, columnspan=3, padx=10, pady=10)\n",
    "\n",
    "# Start the Tkinter event loop\n",
    "root.mainloop()\n"
   ]
  },
  {
   "cell_type": "code",
   "execution_count": null,
   "id": "9f569019-7623-4ae8-881e-a4c9dd2f114b",
   "metadata": {},
   "outputs": [],
   "source": []
  }
 ],
 "metadata": {
  "kernelspec": {
   "display_name": "Python 3 (ipykernel)",
   "language": "python",
   "name": "python3"
  },
  "language_info": {
   "codemirror_mode": {
    "name": "ipython",
    "version": 3
   },
   "file_extension": ".py",
   "mimetype": "text/x-python",
   "name": "python",
   "nbconvert_exporter": "python",
   "pygments_lexer": "ipython3",
   "version": "3.11.7"
  }
 },
 "nbformat": 4,
 "nbformat_minor": 5
}
